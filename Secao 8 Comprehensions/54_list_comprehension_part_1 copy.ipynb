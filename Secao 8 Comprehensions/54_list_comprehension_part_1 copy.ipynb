{
 "cells": [
  {
   "cell_type": "markdown",
   "metadata": {},
   "source": [
    "# List Comprehension - Parte 1"
   ]
  },
  {
   "cell_type": "markdown",
   "metadata": {},
   "source": [
    "Utilizando List Comprehension nós podemos gerar novas listas com dados processados a partir de outro\n",
    "iterável."
   ]
  },
  {
   "cell_type": "markdown",
   "metadata": {},
   "source": [
    "Sintax da list Comprehesion\n",
    "\n",
    "```python\n",
    "[dado for dado in iterável]\n",
    "```"
   ]
  },
  {
   "cell_type": "code",
   "execution_count": 2,
   "metadata": {},
   "outputs": [
    {
     "name": "stdout",
     "output_type": "stream",
     "text": [
      "[10, 20, 30, 40, 50]\n"
     ]
    }
   ],
   "source": [
    "# Exemplo\n",
    "\n",
    "numeros = [1, 2, 3, 4, 5]\n",
    "\n",
    "res = [numero * 10 for numero in numeros]\n",
    "\n",
    "print(res)"
   ]
  },
  {
   "cell_type": "markdown",
   "metadata": {},
   "source": [
    "Para enter melhor o que está acontecendo devemos dividir a expreção em duas partes:\n",
    "\n",
    "- A primeira parte: \n",
    "```python \n",
    "for numero in numero\n",
    "```\n",
    "- A segunda parte: \n",
    "```python\n",
    "numero * 10\n",
    "```"
   ]
  },
  {
   "cell_type": "code",
   "execution_count": 3,
   "metadata": {},
   "outputs": [
    {
     "name": "stdout",
     "output_type": "stream",
     "text": [
      "[0.5, 1.0, 1.5, 2.0, 2.5]\n"
     ]
    }
   ],
   "source": [
    "res = [numero / 2 for numero in numeros]\n",
    "\n",
    "print(res)"
   ]
  },
  {
   "cell_type": "code",
   "execution_count": 4,
   "metadata": {},
   "outputs": [
    {
     "name": "stdout",
     "output_type": "stream",
     "text": [
      "[1, 4, 9, 16, 25]\n"
     ]
    }
   ],
   "source": [
    "def funcao(valor):\n",
    "    return valor * valor\n",
    "\n",
    "res = [funcao(numero) for numero in numeros]\n",
    "\n",
    "print(res)"
   ]
  },
  {
   "cell_type": "markdown",
   "metadata": {},
   "source": [
    "### List comprehension veros loop"
   ]
  },
  {
   "cell_type": "code",
   "execution_count": 5,
   "metadata": {},
   "outputs": [
    {
     "name": "stdout",
     "output_type": "stream",
     "text": [
      "[2, 4, 6, 8, 10]\n"
     ]
    }
   ],
   "source": [
    "#Loop\n",
    "\n",
    "numeros_dobrados = []\n",
    "\n",
    "for numero in [1, 2, 3, 4, 5]:\n",
    "    numeros_dobrados.append(numero * 2)\n",
    "\n",
    "print(numeros_dobrados)"
   ]
  },
  {
   "cell_type": "code",
   "execution_count": 6,
   "metadata": {},
   "outputs": [
    {
     "name": "stdout",
     "output_type": "stream",
     "text": [
      "[2, 4, 6, 8, 10]\n"
     ]
    }
   ],
   "source": [
    "# Usando List Comprehension\n",
    "\n",
    "numeros_dobrados_list = [numero * 2 for numero in [1, 2, 3, 4, 5]]\n",
    "print(numeros_dobrados_list)"
   ]
  },
  {
   "cell_type": "markdown",
   "metadata": {},
   "source": [
    "### Outros Exemplos"
   ]
  },
  {
   "cell_type": "code",
   "execution_count": 7,
   "metadata": {},
   "outputs": [
    {
     "name": "stdout",
     "output_type": "stream",
     "text": [
      "['R', 'A', 'F', 'A', 'E', 'L', ' ', 'A', '.', 'R', ' ', 'D', 'A', ' ', 'R', 'O', 'S', 'A']\n"
     ]
    }
   ],
   "source": [
    "# 1\n",
    "\n",
    "nome = \"Rafael A.R da Rosa\"\n",
    "\n",
    "nome_mai = [letra.upper() for letra in nome]\n",
    "\n",
    "print(nome_mai)"
   ]
  },
  {
   "cell_type": "code",
   "execution_count": 8,
   "metadata": {},
   "outputs": [
    {
     "name": "stdout",
     "output_type": "stream",
     "text": [
      "['Maria', 'Julia', 'Pedro', 'Guilherme', 'Vanessa']\n"
     ]
    }
   ],
   "source": [
    "# 2\n",
    "\n",
    "def caixa_alta(nome):\n",
    "    nome = nome.replace(nome[0], nome[0].upper())\n",
    "    return nome\n",
    "\n",
    "amigos = ['maria', 'julia', 'pedro', 'guilherme', 'vanessa']\n",
    "\n",
    "nome_amigos = [caixa_alta(amigo) for amigo in amigos]\n",
    "\n",
    "print(nome_amigos)"
   ]
  },
  {
   "cell_type": "code",
   "execution_count": 9,
   "metadata": {},
   "outputs": [
    {
     "name": "stdout",
     "output_type": "stream",
     "text": [
      "[3, 6, 9, 12, 15, 18, 21, 24, 27]\n"
     ]
    }
   ],
   "source": [
    "#3\n",
    "print([numero * 3 for numero in range(1, 10)])\n"
   ]
  },
  {
   "cell_type": "code",
   "execution_count": 10,
   "metadata": {},
   "outputs": [
    {
     "name": "stdout",
     "output_type": "stream",
     "text": [
      "[False, False, False, True, True, True]\n"
     ]
    }
   ],
   "source": [
    "# 4\n",
    "\n",
    "print([bool(valor) for valor in [0, [], '', True, 1, 3.14]])"
   ]
  },
  {
   "cell_type": "code",
   "execution_count": 11,
   "metadata": {},
   "outputs": [
    {
     "name": "stdout",
     "output_type": "stream",
     "text": [
      "['1', '2', '3', '4', '5']\n"
     ]
    }
   ],
   "source": [
    "# 5\n",
    "\n",
    "print([str(numero) for numero in [1, 2, 3, 4, 5]])"
   ]
  }
 ],
 "metadata": {
  "kernelspec": {
   "display_name": ".venv",
   "language": "python",
   "name": "python3"
  },
  "language_info": {
   "codemirror_mode": {
    "name": "ipython",
    "version": 3
   },
   "file_extension": ".py",
   "mimetype": "text/x-python",
   "name": "python",
   "nbconvert_exporter": "python",
   "pygments_lexer": "ipython3",
   "version": "3.12.3"
  }
 },
 "nbformat": 4,
 "nbformat_minor": 2
}
