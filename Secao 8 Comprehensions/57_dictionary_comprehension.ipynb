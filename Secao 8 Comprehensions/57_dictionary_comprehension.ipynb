{
 "cells": [
  {
   "cell_type": "markdown",
   "metadata": {},
   "source": [
    "### Dictionary Comprehension"
   ]
  },
  {
   "cell_type": "code",
   "execution_count": null,
   "metadata": {},
   "outputs": [],
   "source": [
    "#Pense no seguinte:\n",
    "\n",
    "#Se quisermos criar uma lista fazemos:\n",
    "\n",
    "lista = [1, 2, 3, 4]\n",
    "\n",
    "#Se quisermos criar uma tupla:\n",
    "\n",
    "tupla = (1, 2, 3, 4)  # 1, 2, 3, 4\n",
    "\n",
    "#Se quiermos criar um set (conjunto)\n",
    "\n",
    "conjunto = {1, 2, 3, 4}\n",
    "\n",
    "#Se quisermos criar um dicionário\n",
    "\n",
    "dicionario = {'a': 1, 'b': 2, 'c': 3, 'd': 4}"
   ]
  },
  {
   "cell_type": "markdown",
   "metadata": {},
   "source": [
    "### Sintaxe\n",
    "\n",
    "```python\n",
    "{chave:valor for valor in iterável}\n",
    "```"
   ]
  },
  {
   "cell_type": "code",
   "execution_count": 3,
   "metadata": {},
   "outputs": [
    {
     "name": "stdout",
     "output_type": "stream",
     "text": [
      "{'a': 1, 'b': 4, 'c': 9, 'd': 16, 'e': 25}\n"
     ]
    }
   ],
   "source": [
    "#Exemplo\n",
    "\n",
    "numeros =  {'a': 1, 'b': 2, 'c': 3, 'd': 4, 'e': 5}\n",
    "\n",
    "quadrado = {chave: valor ** 2 for chave, valor in numeros.items()}\n",
    "\n",
    "print(quadrado)"
   ]
  },
  {
   "cell_type": "code",
   "execution_count": 4,
   "metadata": {},
   "outputs": [
    {
     "name": "stdout",
     "output_type": "stream",
     "text": [
      "{1: 1, 2: 4, 3: 9, 4: 16, 5: 25}\n"
     ]
    }
   ],
   "source": [
    "so_numeros = [1, 2, 3, 4, 5, 1, 2]\n",
    "\n",
    "quadrado = {valor: valor ** 2 for valor in so_numeros}\n",
    "\n",
    "print(quadrado)"
   ]
  },
  {
   "cell_type": "code",
   "execution_count": 5,
   "metadata": {},
   "outputs": [
    {
     "name": "stdout",
     "output_type": "stream",
     "text": [
      "{'a': 1, 'b': 2, 'c': 3, 'd': 4, 'e': 5}\n"
     ]
    }
   ],
   "source": [
    "chaves = 'abcde'\n",
    "valores = [1, 2, 3, 4, 5]\n",
    "\n",
    "mistura = {chaves[i]: valores[i] for i in range (0, len(chaves))}\n",
    "\n",
    "print(mistura)"
   ]
  },
  {
   "cell_type": "code",
   "execution_count": 6,
   "metadata": {},
   "outputs": [
    {
     "name": "stdout",
     "output_type": "stream",
     "text": [
      "{1: 'impar', 2: 'par', 3: 'impar', 4: 'par', 5: 'impar'}\n"
     ]
    }
   ],
   "source": [
    "# Exemplos com lógica condicional\n",
    "\n",
    "numeros = [1, 2, 3, 4, 5]\n",
    "\n",
    "res = {num: ('par' if num % 2 == 0 else 'impar') for num in numeros}\n",
    "\n",
    "print(res)"
   ]
  }
 ],
 "metadata": {
  "kernelspec": {
   "display_name": ".venv",
   "language": "python",
   "name": "python3"
  },
  "language_info": {
   "codemirror_mode": {
    "name": "ipython",
    "version": 3
   },
   "file_extension": ".py",
   "mimetype": "text/x-python",
   "name": "python",
   "nbconvert_exporter": "python",
   "pygments_lexer": "ipython3",
   "version": "3.12.3"
  }
 },
 "nbformat": 4,
 "nbformat_minor": 2
}
