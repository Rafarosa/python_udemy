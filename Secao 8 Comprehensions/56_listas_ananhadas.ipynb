{
 "cells": [
  {
   "cell_type": "markdown",
   "metadata": {},
   "source": [
    "### Listas Aninhadas (Nested Lists)"
   ]
  },
  {
   "cell_type": "markdown",
   "metadata": {},
   "source": [
    "Algumas linguagens de programação (C/Java) possuem uma estrutura de dados chamadas de arrays:\n",
    "- Unidimensionais (Arrays/Vetores);\n",
    "- Multidimensionais (Matrizes);\n",
    "\n",
    "\n",
    "Em Python nós temos as Listas"
   ]
  },
  {
   "cell_type": "code",
   "execution_count": 1,
   "metadata": {},
   "outputs": [
    {
     "name": "stdout",
     "output_type": "stream",
     "text": [
      "[1, 'b', 3.234, True, 5]\n",
      "<class 'list'>\n"
     ]
    }
   ],
   "source": [
    "listas = [1, 'b', 3.234, True, 5]\n",
    "\n",
    "print(listas)\n",
    "\n",
    "print(type(listas))\n"
   ]
  },
  {
   "cell_type": "code",
   "execution_count": 2,
   "metadata": {},
   "outputs": [],
   "source": [
    "# Exemplos\n",
    "\n",
    "listas = [[1, 2, 3], [4, 5, 6], [7, 8, 9]]  # Matriz 3 x 3"
   ]
  },
  {
   "cell_type": "code",
   "execution_count": 3,
   "metadata": {},
   "outputs": [
    {
     "name": "stdout",
     "output_type": "stream",
     "text": [
      "1\n",
      "2\n",
      "3\n",
      "4\n",
      "5\n",
      "6\n",
      "7\n",
      "8\n",
      "9\n"
     ]
    },
    {
     "data": {
      "text/plain": [
       "[[None, None, None], [None, None, None], [None, None, None]]"
      ]
     },
     "execution_count": 3,
     "metadata": {},
     "output_type": "execute_result"
    }
   ],
   "source": [
    "# List Comprehension\n",
    "\n",
    "[[print(valor) for valor in lista] for lista in listas]"
   ]
  },
  {
   "cell_type": "code",
   "execution_count": 4,
   "metadata": {},
   "outputs": [
    {
     "name": "stdout",
     "output_type": "stream",
     "text": [
      "[[1, 2, 3], [1, 2, 3], [1, 2, 3]]\n"
     ]
    }
   ],
   "source": [
    "# Outros exemplos\n",
    "\n",
    "# Gerando um tabuleiro/matrix 3x3\n",
    "\n",
    "tabuleiro = [[numero for numero in range(1, 4)] for valor in range(1, 4)]\n",
    "print(tabuleiro)"
   ]
  },
  {
   "cell_type": "code",
   "execution_count": 5,
   "metadata": {},
   "outputs": [
    {
     "name": "stdout",
     "output_type": "stream",
     "text": [
      "[['O', 'X', 'O'], ['O', 'X', 'O'], ['O', 'X', 'O']]\n"
     ]
    }
   ],
   "source": [
    "# Gerando jogadas para o jogo da velha\n",
    "velha = [['X' if numero % 2 == 0 else 'O' for numero in range(1, 4)] for valor in range(1, 4)]\n",
    "print(velha)"
   ]
  },
  {
   "cell_type": "code",
   "execution_count": 6,
   "metadata": {},
   "outputs": [
    {
     "name": "stdout",
     "output_type": "stream",
     "text": [
      "[['*', '*', '*'], ['*', '*', '*'], ['*', '*', '*']]\n"
     ]
    }
   ],
   "source": [
    "# Gerando valor iniciais\n",
    "\n",
    "print([['*' for i in range(1, 4)] for j in range(1, 4)])"
   ]
  }
 ],
 "metadata": {
  "kernelspec": {
   "display_name": ".venv",
   "language": "python",
   "name": "python3"
  },
  "language_info": {
   "codemirror_mode": {
    "name": "ipython",
    "version": 3
   },
   "file_extension": ".py",
   "mimetype": "text/x-python",
   "name": "python",
   "nbconvert_exporter": "python",
   "pygments_lexer": "ipython3",
   "version": "3.12.3"
  }
 },
 "nbformat": 4,
 "nbformat_minor": 2
}
