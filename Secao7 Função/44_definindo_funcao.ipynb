{
 "cells": [
  {
   "cell_type": "markdown",
   "metadata": {},
   "source": [
    "### Definição de função "
   ]
  },
  {
   "cell_type": "markdown",
   "metadata": {},
   "source": [
    "- Funções são pequenas partes de código que realizam tarefas específicas;\n",
    "- podem ou não receber entradas de dados e retornar uma saida de dados;\n",
    "- Muito util para executar procedimentos similares por repetidas vezes."
   ]
  },
  {
   "cell_type": "markdown",
   "metadata": {},
   "source": [
    "OBS: Se você escrever uma função que realiza varias tarefas dentro dela:\n",
    "é bom fazer uma verificação para que a função seja simplificada."
   ]
  },
  {
   "cell_type": "markdown",
   "metadata": {},
   "source": [
    "Já utilizamos varias funções desde que iniciamos o curso\n",
    "\n",
    "```python\n",
    "- print()\n",
    "- len()\n",
    "- max()\n",
    "- min()\n",
    "- count()\n",
    "```\n",
    "e muitas outras;"
   ]
  },
  {
   "cell_type": "markdown",
   "metadata": {},
   "source": [
    "#### Exemplo"
   ]
  },
  {
   "cell_type": "code",
   "execution_count": null,
   "metadata": {},
   "outputs": [],
   "source": [
    "cores = ['verde', 'amarelo', 'azul', 'branco']"
   ]
  },
  {
   "cell_type": "markdown",
   "metadata": {},
   "source": [
    "Utilizando a função integrada (Built-in) do Python print()"
   ]
  },
  {
   "cell_type": "code",
   "execution_count": null,
   "metadata": {},
   "outputs": [],
   "source": [
    "print(cores)\n",
    "\n",
    "curso = 'Programação em Python: Essencial'\n",
    "print(curso)\n",
    "\n",
    "cores.append('roxo')\n",
    "print(cores)\n",
    "\n",
    "cores.clear()\n",
    "print(cores)"
   ]
  },
  {
   "cell_type": "markdown",
   "metadata": {},
   "source": [
    "DRY - Don't Repeat Yourself - Não repita você mesmo / Não repita seu código."
   ]
  },
  {
   "cell_type": "markdown",
   "metadata": {},
   "source": [
    "Em Python, a forma geral de definir uma função é:"
   ]
  },
  {
   "cell_type": "markdown",
   "metadata": {},
   "source": [
    "```python\n",
    "def nome_da_funcao(parametros_de_entrada):\n",
    "    bloco_da_funcao\n",
    "```"
   ]
  },
  {
   "cell_type": "markdown",
   "metadata": {},
   "source": [
    "Onde:\n",
    "\n",
    "* nome_da_funcao -> SEMPRE, com letras minúsculas, e se for nome composto, separado por underline (Snake Case);\n",
    "* parametros_de_entada -> Opcionais, onde tendo mais de um, cada um separado por vírgula, podendo ser opcionais ou não;\n",
    "* bloco_da_funcao -> Também chamado de corpo da função ou implementação, é onde o processamento da função acontece.\n",
    "\n",
    "\n",
    "Neste bloco, pode ter ou não retorno da função.\n",
    "\n",
    "\n",
    "OBS: Veja que para definir uma função, utilizamos a palavra reservada 'def' informando ao Python que\n",
    "estamos definindo uma função. Também abrimos o bloco de código com o já conhecido dois pontos : que é \n",
    "utilizado em Python para definir blocos."
   ]
  },
  {
   "cell_type": "code",
   "execution_count": 1,
   "metadata": {},
   "outputs": [],
   "source": [
    "# Definindo a primeira função\n",
    "\n",
    "# Definição\n",
    "def diz_oi():\n",
    "    print('Oi!')"
   ]
  },
  {
   "cell_type": "markdown",
   "metadata": {},
   "source": [
    "OBS:\n",
    "\n",
    "1 - Veja que, dentro das nossas funções podemos utilizar outras funções;\n",
    "\n",
    "2 - Veja que nossa função só executa 1 tarefa, ou seja, a única coisa que ela faz é dizer oi;\n",
    "\n",
    "3 - Veja que esta função não recebe nenhum parâmetro de entrada;\n",
    "\n",
    "4 - Veja que esta função não retorna nada;"
   ]
  },
  {
   "cell_type": "code",
   "execution_count": 2,
   "metadata": {},
   "outputs": [
    {
     "name": "stdout",
     "output_type": "stream",
     "text": [
      "Oi!\n"
     ]
    }
   ],
   "source": [
    "# Chamada de execução\n",
    "diz_oi()"
   ]
  },
  {
   "cell_type": "markdown",
   "metadata": {},
   "source": [
    "ATENÇÃO:\n",
    "\n",
    "Nunca esqueça de utilizar o parênteses ao executar uma função.\n",
    "\n",
    "Exemplo:\n",
    "\n",
    "Errado!\n",
    "```python\n",
    "diz_oi\n",
    "```\n",
    "\n",
    "Certo\n",
    "```python\n",
    "diz_oi()\n",
    "```\n",
    "\n",
    "Errado\n",
    "```python\n",
    "diz_oi ()\n",
    "```"
   ]
  },
  {
   "cell_type": "markdown",
   "metadata": {},
   "source": [
    "Exemplo 2"
   ]
  },
  {
   "cell_type": "code",
   "execution_count": 3,
   "metadata": {},
   "outputs": [],
   "source": [
    "def cantar_parabens():\n",
    "    print('Parabéns pra você')\n",
    "    print('Nesta data querida')\n",
    "    print('Muitas felicidades')\n",
    "    print('Muitos anos de vida')\n",
    "    print('Viva o aniversariante!')"
   ]
  },
  {
   "cell_type": "code",
   "execution_count": 4,
   "metadata": {},
   "outputs": [
    {
     "name": "stdout",
     "output_type": "stream",
     "text": [
      "Parabéns pra você\n",
      "Nesta data querida\n",
      "Muitas felicidades\n",
      "Muitos anos de vida\n",
      "Viva o aniversariante!\n",
      "Parabéns pra você\n",
      "Nesta data querida\n",
      "Muitas felicidades\n",
      "Muitos anos de vida\n",
      "Viva o aniversariante!\n",
      "Parabéns pra você\n",
      "Nesta data querida\n",
      "Muitas felicidades\n",
      "Muitos anos de vida\n",
      "Viva o aniversariante!\n",
      "Parabéns pra você\n",
      "Nesta data querida\n",
      "Muitas felicidades\n",
      "Muitos anos de vida\n",
      "Viva o aniversariante!\n",
      "Parabéns pra você\n",
      "Nesta data querida\n",
      "Muitas felicidades\n",
      "Muitos anos de vida\n",
      "Viva o aniversariante!\n"
     ]
    }
   ],
   "source": [
    "for n in range(5):\n",
    "    cantar_parabens()"
   ]
  },
  {
   "cell_type": "markdown",
   "metadata": {},
   "source": [
    "Em Python, podemos inclusive criar variáveis do tipo de uma função e executar esta função através da variável"
   ]
  },
  {
   "cell_type": "code",
   "execution_count": 6,
   "metadata": {},
   "outputs": [
    {
     "name": "stdout",
     "output_type": "stream",
     "text": [
      "Parabéns pra você\n",
      "Nesta data querida\n",
      "Muitas felicidades\n",
      "Muitos anos de vida\n",
      "Viva o aniversariante!\n"
     ]
    }
   ],
   "source": [
    "canta = cantar_parabens\n",
    "\n",
    "canta()"
   ]
  }
 ],
 "metadata": {
  "kernelspec": {
   "display_name": "Python 3",
   "language": "python",
   "name": "python3"
  },
  "language_info": {
   "codemirror_mode": {
    "name": "ipython",
    "version": 3
   },
   "file_extension": ".py",
   "mimetype": "text/x-python",
   "name": "python",
   "nbconvert_exporter": "python",
   "pygments_lexer": "ipython3",
   "version": "3.13.1"
  }
 },
 "nbformat": 4,
 "nbformat_minor": 2
}
