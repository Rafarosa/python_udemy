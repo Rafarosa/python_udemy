{
 "cells": [
  {
   "cell_type": "markdown",
   "metadata": {},
   "source": [
    "## Função com retorno"
   ]
  },
  {
   "cell_type": "markdown",
   "metadata": {},
   "source": [
    "* OBS: Em Python, quando uma função não retorna nenhum valor, o retorno é None\n",
    "* Funções Python que retornam valores, devem retornar estes valores com a palavra reservada return\n",
    "* OBS: Não precisamos necessariamente criar uma variável para receber o retorno de uma função. Podemos passar a execução da função para outras funções."
   ]
  },
  {
   "cell_type": "markdown",
   "metadata": {},
   "source": [
    "Vamos refatorar esta função para que ela retorno o valor"
   ]
  },
  {
   "cell_type": "code",
   "execution_count": 1,
   "metadata": {},
   "outputs": [
    {
     "name": "stdout",
     "output_type": "stream",
     "text": [
      "retorno 49\n",
      "retorno: 49\n"
     ]
    }
   ],
   "source": [
    "def quadado_de_7():\n",
    "    return 7 * 7\n",
    "\n",
    "# Criamos uma variavel para receber o retorno desta função\n",
    "\n",
    "ret = quadado_de_7()\n",
    "print(f'retorno {ret}')\n",
    "\n",
    "print(f'retorno: {quadado_de_7()}')"
   ]
  },
  {
   "cell_type": "code",
   "execution_count": 4,
   "metadata": {},
   "outputs": [
    {
     "name": "stdout",
     "output_type": "stream",
     "text": [
      "oi\n",
      "Pedro!\n"
     ]
    }
   ],
   "source": [
    "#Refatorando a função OI\n",
    "\n",
    "def diz_oi():\n",
    "    return 'oi'\n",
    "\n",
    "alguem = 'Pedro!'\n",
    "\n",
    "print(diz_oi())\n",
    "print(alguem)"
   ]
  },
  {
   "cell_type": "markdown",
   "metadata": {},
   "source": [
    "Sobre a palavra reservada return\n",
    "\n",
    "1 - Ela finaliza a função, ou seja, ela sai da execução da função;\n",
    "\n",
    "2 - Podemos ter, em uma função, diferentes returns;\n",
    "\n",
    "3 - Podemos, em uma função, retornar qualquer tipo de dado e até mesmo múltiplos valores;\n"
   ]
  },
  {
   "cell_type": "code",
   "execution_count": 5,
   "metadata": {},
   "outputs": [
    {
     "name": "stdout",
     "output_type": "stream",
     "text": [
      "Estou sendo executado antes do retorno\n",
      "OI!\n"
     ]
    }
   ],
   "source": [
    "# Exemplos 1 - Ela finaliza a função, ou seja, ela sai da execução da função;\n",
    "\n",
    "def diz_oi():\n",
    "    print('Estou sendo executado antes do retorno')\n",
    "    return 'OI!'\n",
    "    print('Estou sendo executado depois do return') # Não retona na chamada da função\n",
    "\n",
    "print(diz_oi())"
   ]
  },
  {
   "cell_type": "code",
   "execution_count": 9,
   "metadata": {},
   "outputs": [
    {
     "name": "stdout",
     "output_type": "stream",
     "text": [
      "b\n"
     ]
    }
   ],
   "source": [
    "# Exemplo 2 - Podemos ter, em uma função, diferentes returns;\n",
    "\n",
    "def nova_funcao():\n",
    "    variavel = False\n",
    "    if variavel == True:\n",
    "        return 4\n",
    "    elif variavel is None:\n",
    "        return 3.2\n",
    "    return 'b'\n",
    "\n",
    "print(nova_funcao())"
   ]
  },
  {
   "cell_type": "code",
   "execution_count": 12,
   "metadata": {},
   "outputs": [
    {
     "name": "stdout",
     "output_type": "stream",
     "text": [
      "2 3 4 5\n",
      "(2, 3, 4, 5)\n",
      "<class 'tuple'>\n"
     ]
    }
   ],
   "source": [
    "# Exemplo 2 - Podemos ter, em uma função, diferentes returns;\n",
    "\n",
    "def outra_funcao():\n",
    "    return 2,3,4,5\n",
    "\n",
    "num1, num2, num3, num4 = outra_funcao()\n",
    "print(num1, num2, num3, num4)\n",
    "\n",
    "print(outra_funcao())\n",
    "print(type(outra_funcao()))"
   ]
  },
  {
   "cell_type": "code",
   "execution_count": 15,
   "metadata": {},
   "outputs": [
    {
     "name": "stdout",
     "output_type": "stream",
     "text": [
      "Coroa\n"
     ]
    }
   ],
   "source": [
    "# Vamos criar uma função para jogar a moeda\n",
    "\n",
    "from random import random\n",
    "\n",
    "def jogar_moeda():\n",
    "    #gera um numero pseudo-randômico entre 0 e 1\n",
    "    if random() > 0.5:\n",
    "        return 'Cara'\n",
    "    return 'Coroa'\n",
    "\n",
    "print(jogar_moeda())"
   ]
  },
  {
   "cell_type": "code",
   "execution_count": 17,
   "metadata": {},
   "outputs": [
    {
     "name": "stdout",
     "output_type": "stream",
     "text": [
      "False\n"
     ]
    }
   ],
   "source": [
    "# Erros comuns na utilização do retorno, que na verdade nem é erro, mas sim codificação desnecessária.\n",
    "def eh_impar():\n",
    "    numero = 62\n",
    "    if numero % 2 != 0:\n",
    "        return True\n",
    "    return False\n",
    "\n",
    "\n",
    "print(eh_impar())"
   ]
  }
 ],
 "metadata": {
  "kernelspec": {
   "display_name": "Python 3",
   "language": "python",
   "name": "python3"
  },
  "language_info": {
   "codemirror_mode": {
    "name": "ipython",
    "version": 3
   },
   "file_extension": ".py",
   "mimetype": "text/x-python",
   "name": "python",
   "nbconvert_exporter": "python",
   "pygments_lexer": "ipython3",
   "version": "3.13.1"
  }
 },
 "nbformat": 4,
 "nbformat_minor": 2
}
