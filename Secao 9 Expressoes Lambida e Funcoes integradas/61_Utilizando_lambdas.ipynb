{
 "cells": [
  {
   "cell_type": "markdown",
   "metadata": {},
   "source": [
    "## Utilizando lambidas\n",
    "\n",
    "Conhecidas por Expressões Lambdas, ou simplesmente Lambdas, São funções sem nome ou seja funções anonimas"
   ]
  },
  {
   "cell_type": "code",
   "execution_count": 1,
   "metadata": {},
   "outputs": [
    {
     "name": "stdout",
     "output_type": "stream",
     "text": [
      "13\n",
      "22\n"
     ]
    }
   ],
   "source": [
    "# Função em python \n",
    "\n",
    "def funcao(x):\n",
    "    return 3 * x + 1\n",
    "\n",
    "print(funcao(4))\n",
    "print(funcao(7))"
   ]
  },
  {
   "cell_type": "code",
   "execution_count": 2,
   "metadata": {},
   "outputs": [
    {
     "name": "stdout",
     "output_type": "stream",
     "text": [
      "13\n",
      "22\n"
     ]
    }
   ],
   "source": [
    "# Expressão Lambda\n",
    "lambda x: 3 * x + 1\n",
    "\n",
    "# Como utilizar a função Lambda?\n",
    "# Atribuindo a uma variavel \n",
    "\n",
    "calc = lambda x: 3 * x + 1\n",
    "\n",
    "print(calc(4))\n",
    "print(calc(7))"
   ]
  },
  {
   "cell_type": "markdown",
   "metadata": {},
   "source": [
    "### Podemos ter expressões lambdas com múltiplas entradas"
   ]
  },
  {
   "cell_type": "code",
   "execution_count": 3,
   "metadata": {},
   "outputs": [
    {
     "name": "stdout",
     "output_type": "stream",
     "text": [
      "AngelinaJolie\n",
      "FelicityJones\n"
     ]
    }
   ],
   "source": [
    "nome_completo = lambda nome, sobrenome: nome.strip().title() + '' + sobrenome.strip().title()\n",
    "\n",
    "print(nome_completo('angelina', 'JOLIE'))\n",
    "print(nome_completo('FELICITY     ', 'jones'))"
   ]
  },
  {
   "cell_type": "markdown",
   "metadata": {},
   "source": [
    "### Em funções Python podemos ter nenhuma ou várias entradas. Em Lambdas também"
   ]
  },
  {
   "cell_type": "code",
   "execution_count": 4,
   "metadata": {},
   "outputs": [
    {
     "name": "stdout",
     "output_type": "stream",
     "text": [
      "Como não amar python?\n",
      "19\n",
      "5.916079783099616\n",
      "4.909090909090908\n"
     ]
    }
   ],
   "source": [
    "amar = lambda: 'Como não amar python?'\n",
    "\n",
    "uma = lambda x: 3 * x + 1\n",
    "\n",
    "duas = lambda x, y: (x * y) ** 0.5\n",
    "\n",
    "tres = lambda x, y, z: 3 / (1 / x + 1 / y + 1 / z)\n",
    "\n",
    "#n = lambda x1, x2 ... xn: <expressão>\n",
    "\n",
    "print(amar())\n",
    "print(uma(6))\n",
    "print(duas(5, 7))\n",
    "print(tres(3, 6, 9))"
   ]
  },
  {
   "cell_type": "markdown",
   "metadata": {},
   "source": [
    "### outro exemplo"
   ]
  },
  {
   "cell_type": "code",
   "execution_count": 5,
   "metadata": {},
   "outputs": [
    {
     "name": "stdout",
     "output_type": "stream",
     "text": [
      "['Isaac Asimov', 'Ray Bradbury', 'Robert Heinlein', 'Arthur C. Clarke', 'Frank Herbert', 'Orson Scott Card', 'Douglas Adams', 'H. G. Wells', 'Leigh Brackett']\n"
     ]
    }
   ],
   "source": [
    "autores = ['Isaac Asimov', 'Ray Bradbury', 'Robert Heinlein', 'Arthur C. Clarke', 'Frank Herbert', 'Orson Scott Card','Douglas Adams', 'H. G. Wells', 'Leigh Brackett']\n",
    "\n",
    "print(autores)"
   ]
  },
  {
   "cell_type": "code",
   "execution_count": null,
   "metadata": {},
   "outputs": [
    {
     "name": "stdout",
     "output_type": "stream",
     "text": [
      "['Douglas Adams', 'Isaac Asimov', 'Leigh Brackett', 'Ray Bradbury', 'Orson Scott Card', 'Arthur C. Clarke', 'Robert Heinlein', 'Frank Herbert', 'H. G. Wells']\n"
     ]
    }
   ],
   "source": [
    "# Mostrar lista de nomes em ordem alfabetica dos sobrenomes\n",
    "\n",
    "autores.sort(key=lambda sobrenome: sobrenome.split(' ')[-1].lower())\n",
    "print(autores)"
   ]
  },
  {
   "cell_type": "code",
   "execution_count": 8,
   "metadata": {},
   "outputs": [
    {
     "name": "stdout",
     "output_type": "stream",
     "text": [
      "-5\n",
      "0\n",
      "9\n",
      "13\n"
     ]
    }
   ],
   "source": [
    "# Função quadratica\n",
    "# f(x) = a * x ** 2 + b * x + c\n",
    "\n",
    "# definindo a função \n",
    "\n",
    "def geradora_funcao_quadratica(a, b, c):\n",
    "    \"\"\"_summary_\n",
    "    Retornando a função f(x) = a * x ** 2 + b * x + c\n",
    "    \"\"\"\n",
    "    return lambda x: a * x ** 2 + b * x + c\n",
    "\n",
    "teste = geradora_funcao_quadratica(2, 3, -5)\n",
    "\n",
    "print(teste(0))\n",
    "print(teste(1))\n",
    "print(teste(2))\n",
    "\n",
    "print(geradora_funcao_quadratica(3, 0, 1)(2))"
   ]
  }
 ],
 "metadata": {
  "kernelspec": {
   "display_name": "Python 3",
   "language": "python",
   "name": "python3"
  },
  "language_info": {
   "codemirror_mode": {
    "name": "ipython",
    "version": 3
   },
   "file_extension": ".py",
   "mimetype": "text/x-python",
   "name": "python",
   "nbconvert_exporter": "python",
   "pygments_lexer": "ipython3",
   "version": "3.13.2"
  }
 },
 "nbformat": 4,
 "nbformat_minor": 2
}
