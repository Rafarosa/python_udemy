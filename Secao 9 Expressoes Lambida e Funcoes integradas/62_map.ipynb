{
 "cells": [
  {
   "cell_type": "markdown",
   "metadata": {},
   "source": [
    "### Map\n",
    "\n",
    "Com Map, Fazemos mapeamento de valor para função"
   ]
  },
  {
   "cell_type": "code",
   "execution_count": 2,
   "metadata": {},
   "outputs": [
    {
     "name": "stdout",
     "output_type": "stream",
     "text": [
      "12.566370614359172\n",
      "88.24733763933729\n"
     ]
    }
   ],
   "source": [
    "import math\n",
    "\n",
    "# Calculando a area de um criculo com o valor do raio\n",
    "\n",
    "def area(r):\n",
    "    \"\"\"Calcule a área de um circulo com raio 'r'\"\"\"\n",
    "    return math.pi *(r ** 2)\n",
    "\n",
    "print(area(2))\n",
    "print(area(5.3))"
   ]
  },
  {
   "cell_type": "markdown",
   "metadata": {},
   "source": [
    "Agora, se tivermos uma lista de raios"
   ]
  },
  {
   "cell_type": "code",
   "execution_count": 3,
   "metadata": {},
   "outputs": [],
   "source": [
    "raios = [2, 5, 7.1, 0.3, 10, 44]"
   ]
  },
  {
   "cell_type": "markdown",
   "metadata": {},
   "source": [
    "Forma 1 - Forma comum de realizar validação dos elementos da lista"
   ]
  },
  {
   "cell_type": "code",
   "execution_count": 6,
   "metadata": {},
   "outputs": [
    {
     "name": "stdout",
     "output_type": "stream",
     "text": [
      "[12.566370614359172, 78.53981633974483, 158.36768566746147, 0.2827433388230814, 314.1592653589793, 6082.12337734984]\n"
     ]
    }
   ],
   "source": [
    "areas = []\n",
    "\n",
    "for raio in raios:\n",
    "    areas.append(area(raio))\n",
    "\n",
    "print(areas)"
   ]
  },
  {
   "cell_type": "markdown",
   "metadata": {},
   "source": [
    "Forma 2 -  Utiliznado Map\n"
   ]
  },
  {
   "cell_type": "code",
   "execution_count": 9,
   "metadata": {},
   "outputs": [
    {
     "name": "stdout",
     "output_type": "stream",
     "text": [
      "<map object at 0x00000200A6E4FF10>\n",
      "<class 'map'>\n",
      "[12.566370614359172, 78.53981633974483, 158.36768566746147, 0.2827433388230814, 314.1592653589793, 6082.12337734984]\n"
     ]
    }
   ],
   "source": [
    "areas = map(area, raios)\n",
    "\n",
    "print(areas)\n",
    "print(type(areas))\n",
    "\n",
    "print(list(areas))\n"
   ]
  },
  {
   "cell_type": "markdown",
   "metadata": {},
   "source": [
    "Forma 3 - Utilizando Map com lambda"
   ]
  },
  {
   "cell_type": "code",
   "execution_count": 10,
   "metadata": {},
   "outputs": [
    {
     "name": "stdout",
     "output_type": "stream",
     "text": [
      "[12.566370614359172, 78.53981633974483, 158.36768566746147, 0.2827433388230814, 314.1592653589793, 6082.12337734984]\n"
     ]
    }
   ],
   "source": [
    "calcula_area = map(lambda r : math.pi * (r ** 2), raios)\n",
    "print(list(calcula_area))"
   ]
  },
  {
   "cell_type": "markdown",
   "metadata": {},
   "source": [
    "### OBS: Após utilizar a função map() depois da primeira utilização do resultado, ele zera."
   ]
  },
  {
   "cell_type": "code",
   "execution_count": null,
   "metadata": {},
   "outputs": [],
   "source": [
    "# Para fixar - Map\n",
    "\n",
    "# Temos dados iteráveis:\n",
    "\n",
    "# dados: a1, a2, ..., an\n",
    "\n",
    "# Temos uma função:\n",
    "\n",
    "# Função: f(x)\n",
    "\n",
    "# Utilizamos a função map(f, dados) onde map irá 'mapear' cada elemento dos dados e aplicar a função.\n",
    "\n",
    "# O Map Object: f(a1), f(a2), f(...), f(an)"
   ]
  },
  {
   "cell_type": "code",
   "execution_count": 11,
   "metadata": {},
   "outputs": [
    {
     "name": "stdout",
     "output_type": "stream",
     "text": [
      "[('Berlim', 29), ('Cairo', 36), ('Buenos Aires', 19), ('Los Angeles', 26), ('Tokio', 27), ('Nova York', 28), ('Londes', 22)]\n",
      "[('Berlim', 84.2), ('Cairo', 96.8), ('Buenos Aires', 66.2), ('Los Angeles', 78.80000000000001), ('Tokio', 80.6), ('Nova York', 82.4), ('Londes', 71.6)]\n"
     ]
    }
   ],
   "source": [
    "# Mais um exemplo\n",
    "# Converter temperaturas em F\n",
    "cidades = [('Berlim', 29), ('Cairo', 36), ('Buenos Aires', 19), ('Los Angeles', 26), ('Tokio', 27), ('Nova York', 28),\n",
    "           ('Londes', 22)]\n",
    "\n",
    "print(cidades)\n",
    "\n",
    "# Lambda\n",
    "\n",
    "c_para_f = lambda dado: (dado[0], (9/5) * dado[1] + 32)\n",
    "\n",
    "print(list(map(c_para_f, cidades)))"
   ]
  }
 ],
 "metadata": {
  "kernelspec": {
   "display_name": "Python 3",
   "language": "python",
   "name": "python3"
  },
  "language_info": {
   "codemirror_mode": {
    "name": "ipython",
    "version": 3
   },
   "file_extension": ".py",
   "mimetype": "text/x-python",
   "name": "python",
   "nbconvert_exporter": "python",
   "pygments_lexer": "ipython3",
   "version": "3.13.2"
  }
 },
 "nbformat": 4,
 "nbformat_minor": 2
}
