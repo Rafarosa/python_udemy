{
 "cells": [
  {
   "cell_type": "markdown",
   "metadata": {},
   "source": [
    "# 6 Coleções em Payton"
   ]
  },
  {
   "cell_type": "markdown",
   "metadata": {},
   "source": [
    "### 31 - Listas"
   ]
  },
  {
   "cell_type": "markdown",
   "metadata": {},
   "source": [
    "Listas (List)\n",
    "\n",
    "Listas em Python funcional como vetores/matrizes (arrays) em outras linguagens, com a diferença\n",
    "de serem DINÂMICO e também de podermos colocar QUALQUER tipo de dado.\n",
    "\n",
    "Já em Python:\n",
    "\n",
    "- Dinâmico: Não possuem tamanho fixo; Ou seja, podemos criar a lista e simplesmente ir adicionando elementos;\n",
    "- Qualquer tipo de dado: Não possuem tipo de dado fixo; Ou seja, podemos colocar qualquer tipo de dado;\n",
    "\n",
    "As listas em Python são representadas por colchetes: []\n",
    "\n",
    "Listas são mutáveis: Ou seja, elas podem mudar constantemente."
   ]
  },
  {
   "cell_type": "code",
   "execution_count": 1,
   "metadata": {},
   "outputs": [
    {
     "data": {
      "text/plain": [
       "list"
      ]
     },
     "execution_count": 1,
     "metadata": {},
     "output_type": "execute_result"
    }
   ],
   "source": [
    "type([])"
   ]
  },
  {
   "cell_type": "code",
   "execution_count": 15,
   "metadata": {},
   "outputs": [
    {
     "name": "stdout",
     "output_type": "stream",
     "text": [
      "[0, 1, 2, 3, 4, 5, 6, 7, 8, 9, 10]\n"
     ]
    }
   ],
   "source": [
    "lista1 = [1, 99, 4, 27, 15, 22, 3, 1, 44, 42, 27]\n",
    "\n",
    "lista2 = ['G', 'e', 'e', 'k', ' ', 'U', 'n', 'i', 'v', 'e', 'r', 's', 'i', 't', 'y']\n",
    "\n",
    "lista3 = []\n",
    "\n",
    "lista4 = list(range(11))\n",
    "\n",
    "lista5 = list('Geek University')\n",
    "\n",
    "print(lista4)"
   ]
  },
  {
   "cell_type": "markdown",
   "metadata": {},
   "source": [
    "- Podemos facilmente checar se determinado valor está contido na lista"
   ]
  },
  {
   "cell_type": "code",
   "execution_count": 4,
   "metadata": {},
   "outputs": [
    {
     "name": "stdout",
     "output_type": "stream",
     "text": [
      "Encontrei o número 7\n"
     ]
    }
   ],
   "source": [
    "num = 7\n",
    "if num in lista4:\n",
    "    print(f'Encontrei o número {num}')\n",
    "else:\n",
    "    print(f'Não encontrei o número {num}')"
   ]
  },
  {
   "cell_type": "markdown",
   "metadata": {},
   "source": [
    "- Podemos facilmente ordenar uma lista"
   ]
  },
  {
   "cell_type": "code",
   "execution_count": 5,
   "metadata": {},
   "outputs": [
    {
     "name": "stdout",
     "output_type": "stream",
     "text": [
      "[1, 1, 3, 4, 15, 22, 27, 27, 42, 44, 99]\n"
     ]
    }
   ],
   "source": [
    "lista1.sort()\n",
    "print(lista1)"
   ]
  },
  {
   "cell_type": "markdown",
   "metadata": {},
   "source": [
    "- Podemos facilmente contar o número de ocorrências de um valor em uma lista"
   ]
  },
  {
   "cell_type": "code",
   "execution_count": 6,
   "metadata": {},
   "outputs": [
    {
     "name": "stdout",
     "output_type": "stream",
     "text": [
      "2\n",
      "3\n"
     ]
    }
   ],
   "source": [
    "print(lista1.count(1))\n",
    "print(lista5.count('e'))"
   ]
  },
  {
   "cell_type": "markdown",
   "metadata": {},
   "source": [
    "- Adicionar elementos em listas\n",
    "Para adicionar elementos em listas, utilizamos a função append()\n",
    "a função append inclui o valor no final da lista"
   ]
  },
  {
   "cell_type": "code",
   "execution_count": 7,
   "metadata": {},
   "outputs": [
    {
     "name": "stdout",
     "output_type": "stream",
     "text": [
      "[1, 1, 3, 4, 15, 22, 27, 27, 42, 44, 99]\n",
      "[1, 1, 3, 4, 15, 22, 27, 27, 42, 44, 99, 42]\n"
     ]
    }
   ],
   "source": [
    "print(lista1)\n",
    "lista1.append(42)\n",
    "print(lista1)"
   ]
  },
  {
   "cell_type": "markdown",
   "metadata": {},
   "source": [
    "OBS: Com append, nós só conseguimos adicionar 1 elemento por vez\n",
    "\n",
    "```python\n",
    "\n",
    "lista1.append(12, 34, 56) # Erro\n",
    "\n",
    "```"
   ]
  },
  {
   "cell_type": "code",
   "execution_count": 8,
   "metadata": {},
   "outputs": [
    {
     "name": "stdout",
     "output_type": "stream",
     "text": [
      "[1, 1, 3, 4, 15, 22, 27, 27, 42, 44, 99, 42, [8, 3, 1]]\n",
      "Encontrei a lista\n",
      "[1, 1, 3, 4, 15, 22, 27, 27, 42, 44, 99, 42, [8, 3, 1], 123, 44, 67]\n"
     ]
    }
   ],
   "source": [
    "lista1.append([8, 3, 1]) # Coloca a lista como elemento único (sublista)\n",
    "print(lista1)\n",
    "\n",
    "if [8, 3, 1] in lista1:\n",
    "    print('Encontrei a lista')\n",
    "else:\n",
    "    print('Não encontrei a lista')"
   ]
  },
  {
   "cell_type": "markdown",
   "metadata": {},
   "source": [
    "- Coloca cada elemento da lista como valor adicional á lista"
   ]
  },
  {
   "cell_type": "code",
   "execution_count": null,
   "metadata": {},
   "outputs": [],
   "source": [
    "lista1.extend([123, 44, 67]) # \n",
    "print(lista1)"
   ]
  },
  {
   "cell_type": "markdown",
   "metadata": {},
   "source": [
    " - Podemos inserir um novo elemento na lista informando a posição do índice com o método insert()\n",
    " - OBS: Isso não substitui o valor inicial. O mesmo será deslocado para a direita da lista."
   ]
  },
  {
   "cell_type": "code",
   "execution_count": null,
   "metadata": {},
   "outputs": [],
   "source": [
    "lista1.insert(2, 'Novo Valor')\n",
    "print(lista1)"
   ]
  },
  {
   "cell_type": "markdown",
   "metadata": {},
   "source": [
    "Podemos facilmente juntar duas listas"
   ]
  },
  {
   "cell_type": "code",
   "execution_count": null,
   "metadata": {},
   "outputs": [],
   "source": [
    "lista1 = lista1 + lista2\n",
    "lista1.extend(lista2)\n",
    "print(lista1)"
   ]
  },
  {
   "cell_type": "markdown",
   "metadata": {},
   "source": [
    "Podemos facilmente inverter uma lista"
   ]
  },
  {
   "cell_type": "code",
   "execution_count": 9,
   "metadata": {},
   "outputs": [
    {
     "name": "stdout",
     "output_type": "stream",
     "text": [
      "[67, 44, 123, [8, 3, 1], 42, 99, 44, 42, 27, 27, 22, 15, 4, 3, 1, 1]\n",
      "['y', 't', 'i', 's', 'r', 'e', 'v', 'i', 'n', 'U', ' ', 'k', 'e', 'e', 'G']\n",
      "[1, 1, 3, 4, 15, 22, 27, 27, 42, 44, 99, 42, [8, 3, 1], 123, 44, 67]\n",
      "['G', 'e', 'e', 'k', ' ', 'U', 'n', 'i', 'v', 'e', 'r', 's', 'i', 't', 'y']\n"
     ]
    }
   ],
   "source": [
    "# Forma 1\n",
    "lista1.reverse()\n",
    "lista2.reverse()\n",
    "print(lista1)\n",
    "print(lista2)\n",
    "\n",
    "# Forma 2\n",
    "print(lista1[::-1])\n",
    "print(lista2[::-1])\n"
   ]
  },
  {
   "cell_type": "markdown",
   "metadata": {},
   "source": [
    "- copiar lista"
   ]
  },
  {
   "cell_type": "code",
   "execution_count": 14,
   "metadata": {},
   "outputs": [
    {
     "name": "stdout",
     "output_type": "stream",
     "text": [
      "['G', 'e', 'e', 'k', ' ', 'U', 'n', 'i', 'v', 'e', 'r', 's', 'i', 't', 'y']\n"
     ]
    }
   ],
   "source": [
    "lista6 = lista2.copy()\n",
    "lista6.reverse()\n",
    "print(lista6)"
   ]
  },
  {
   "cell_type": "markdown",
   "metadata": {},
   "source": [
    "Podemos contar quantos elementos existem dentro de uma lista"
   ]
  },
  {
   "cell_type": "code",
   "execution_count": 3,
   "metadata": {},
   "outputs": [
    {
     "name": "stdout",
     "output_type": "stream",
     "text": [
      "15\n"
     ]
    }
   ],
   "source": [
    "print(len(lista5))"
   ]
  },
  {
   "cell_type": "markdown",
   "metadata": {},
   "source": [
    "Podemos remover facilmente o último elemento de uma lista\n",
    " - OBS: O pop não somente remove o último elemento mas também o retorna"
   ]
  },
  {
   "cell_type": "code",
   "execution_count": 5,
   "metadata": {},
   "outputs": [
    {
     "name": "stdout",
     "output_type": "stream",
     "text": [
      "['G', 'e', 'e', 'k', ' ', 'U', 'n', 'i', 'v', 'e', 'r', 's', 'i', 't', 'y']\n",
      "['G', 'e', 'e', 'k', ' ', 'U', 'n', 'i', 'v', 'e', 'r', 's', 'i', 't']\n"
     ]
    }
   ],
   "source": [
    "print(lista5)\n",
    "lista5.pop()\n",
    "print(lista5)"
   ]
  },
  {
   "cell_type": "markdown",
   "metadata": {},
   "source": [
    "- Podemos remover um elemento pelo índice\n",
    "- OBS: Os elementos á direita deste índice serão deslocados para a esquerda.\n",
    "- OBS: Se não houver elemento no índice informado, teremos o erro IndexError."
   ]
  },
  {
   "cell_type": "code",
   "execution_count": 6,
   "metadata": {},
   "outputs": [
    {
     "name": "stdout",
     "output_type": "stream",
     "text": [
      "['G', 'e', 'e', 'k', ' ', 'U', 'n', 'i', 'v', 'e', 'r', 's', 'i', 't']\n",
      "['G', 'e', 'k', ' ', 'U', 'n', 'i', 'v', 'e', 'r', 's', 'i', 't']\n"
     ]
    }
   ],
   "source": [
    "print(lista5)\n",
    "lista5.pop(2)\n",
    "print(lista5)"
   ]
  },
  {
   "cell_type": "markdown",
   "metadata": {},
   "source": [
    "- Podemos remover todos os elementos (zerar a lista)"
   ]
  },
  {
   "cell_type": "code",
   "execution_count": 7,
   "metadata": {},
   "outputs": [
    {
     "name": "stdout",
     "output_type": "stream",
     "text": [
      "['G', 'e', 'k', ' ', 'U', 'n', 'i', 'v', 'e', 'r', 's', 'i', 't']\n",
      "[]\n"
     ]
    }
   ],
   "source": [
    "print(lista5)\n",
    "lista5.clear()\n",
    "print(lista5)"
   ]
  },
  {
   "cell_type": "markdown",
   "metadata": {},
   "source": [
    "- Podemos facilmente repetir elementos em uma lista"
   ]
  },
  {
   "cell_type": "code",
   "execution_count": 8,
   "metadata": {},
   "outputs": [
    {
     "name": "stdout",
     "output_type": "stream",
     "text": [
      "[1, 2, 3]\n",
      "[1, 2, 3, 1, 2, 3, 1, 2, 3]\n"
     ]
    }
   ],
   "source": [
    "nova = [1, 2, 3]\n",
    "print(nova)\n",
    "nova = nova * 3\n",
    "print(nova)"
   ]
  },
  {
   "cell_type": "markdown",
   "metadata": {},
   "source": [
    "- Podemos facilmente converter uma string para uma lista"
   ]
  },
  {
   "cell_type": "code",
   "execution_count": 9,
   "metadata": {},
   "outputs": [
    {
     "name": "stdout",
     "output_type": "stream",
     "text": [
      "Programação em Python: Essencial\n",
      "['Programação', 'em', 'Python:', 'Essencial']\n"
     ]
    }
   ],
   "source": [
    "curso = 'Programação em Python: Essencial'\n",
    "print(curso)\n",
    "curso = curso.split()\n",
    "print(curso)\n",
    "\n",
    "# OBS: Por padrão, o split separa os elemento da lista pelo espaço entre elas."
   ]
  },
  {
   "cell_type": "code",
   "execution_count": 10,
   "metadata": {},
   "outputs": [
    {
     "name": "stdout",
     "output_type": "stream",
     "text": [
      "Programação,em,Python:,Essencial\n",
      "['Programação', 'em', 'Python:', 'Essencial']\n"
     ]
    }
   ],
   "source": [
    "curso = 'Programação,em,Python:,Essencial'\n",
    "print(curso)\n",
    "curso = curso.split(',')\n",
    "print(curso)"
   ]
  },
  {
   "cell_type": "markdown",
   "metadata": {},
   "source": [
    "- Convertendo uma lista em uma string"
   ]
  },
  {
   "cell_type": "code",
   "execution_count": 12,
   "metadata": {},
   "outputs": [
    {
     "name": "stdout",
     "output_type": "stream",
     "text": [
      "['Programação', 'em', 'Python:', 'Essencial']\n",
      "Programação em Python: Essencial\n"
     ]
    }
   ],
   "source": [
    "lista6 = ['Programação', 'em', 'Python:', 'Essencial']\n",
    "print(lista6)\n",
    "\n",
    "# Abaixo estamos falando: Pega a lista6, coloca espaço entre cada elemento e transforma em uma string\n",
    "curso = ' '.join(lista6)\n",
    "print(curso)"
   ]
  },
  {
   "cell_type": "code",
   "execution_count": 13,
   "metadata": {},
   "outputs": [
    {
     "name": "stdout",
     "output_type": "stream",
     "text": [
      "Programação$em$Python:$Essencial\n"
     ]
    }
   ],
   "source": [
    "#Abaixo estamos falando: Pega a lista6, coloca cifrão entre cada elemento e transforma em uma string\n",
    "curso = '$'.join(lista6)\n",
    "print(curso)"
   ]
  },
  {
   "cell_type": "markdown",
   "metadata": {},
   "source": [
    "- Podemos realmente colocar qualquer tipo de dado em uma lista, inclusive misturando esses dados"
   ]
  },
  {
   "cell_type": "code",
   "execution_count": 14,
   "metadata": {},
   "outputs": [
    {
     "name": "stdout",
     "output_type": "stream",
     "text": [
      "[1, 2.34, True, 'Geek', 'd', [1, 2, 3], 45345345345]\n",
      "<class 'list'>\n"
     ]
    }
   ],
   "source": [
    "lista6 = [1, 2.34, True, 'Geek', 'd', [1, 2, 3], 45345345345]\n",
    "print(lista6)\n",
    "print(type(lista6))"
   ]
  },
  {
   "cell_type": "markdown",
   "metadata": {},
   "source": [
    "### Iterando sobre listas"
   ]
  },
  {
   "cell_type": "markdown",
   "metadata": {},
   "source": [
    "Utilizando for"
   ]
  },
  {
   "cell_type": "code",
   "execution_count": 19,
   "metadata": {},
   "outputs": [
    {
     "name": "stdout",
     "output_type": "stream",
     "text": [
      "[0, 1, 2, 3, 4, 5, 6, 7, 8, 9, 10]\n",
      "0\n",
      "1\n",
      "2\n",
      "3\n",
      "4\n",
      "5\n",
      "6\n",
      "7\n",
      "8\n",
      "9\n",
      "10\n",
      "55\n"
     ]
    }
   ],
   "source": [
    "soma = 0\n",
    "print(lista4)\n",
    "for elemento in lista4:\n",
    "    print(elemento)\n",
    "    soma = soma + elemento\n",
    "print(soma)"
   ]
  },
  {
   "cell_type": "markdown",
   "metadata": {},
   "source": [
    "Utilizando while"
   ]
  },
  {
   "cell_type": "code",
   "execution_count": 20,
   "metadata": {},
   "outputs": [
    {
     "name": "stdout",
     "output_type": "stream",
     "text": [
      "qwe\n",
      "fgt\n"
     ]
    }
   ],
   "source": [
    "carrinho = []\n",
    "produto = ''\n",
    "\n",
    "while produto != 'sair':\n",
    "    produto = str(input(\"Adicione um produto na lista ou digite 'sair' para sair: \"))\n",
    "    if produto != 'sair':\n",
    "        carrinho.append(produto)\n",
    "\n",
    "for produto in carrinho:\n",
    "    print(produto)"
   ]
  },
  {
   "cell_type": "markdown",
   "metadata": {},
   "source": [
    "- Utilizando variáveis em listas"
   ]
  },
  {
   "cell_type": "code",
   "execution_count": 21,
   "metadata": {},
   "outputs": [
    {
     "name": "stdout",
     "output_type": "stream",
     "text": [
      "[1, 2, 3, 4, 5]\n",
      "[1, 2, 3, 4, 5]\n"
     ]
    }
   ],
   "source": [
    "numeros = [1, 2, 3, 4, 5]\n",
    "print(numeros)\n",
    "\n",
    "num1 = 1\n",
    "num2 = 2\n",
    "num3 = 3\n",
    "num4 = 4\n",
    "num5 = 5\n",
    "\n",
    "numeros = [num1, num2, num3, num4, num5]\n",
    "print(numeros)"
   ]
  },
  {
   "cell_type": "markdown",
   "metadata": {},
   "source": [
    "- Fazemos acesso aos elementos de forma indexada"
   ]
  },
  {
   "cell_type": "code",
   "execution_count": 23,
   "metadata": {},
   "outputs": [
    {
     "name": "stdout",
     "output_type": "stream",
     "text": [
      "verde\n",
      "amarelo\n",
      "azul\n",
      "branco\n",
      "branco\n",
      "azul\n",
      "amarelo\n",
      "verde\n",
      "verde\n",
      "amarelo\n",
      "azul\n",
      "branco\n",
      "verde\n",
      "amarelo\n",
      "azul\n",
      "branco\n"
     ]
    }
   ],
   "source": [
    "cores = ['verde', 'amarelo', 'azul', 'branco']\n",
    "\n",
    "print(cores[0])  # verde\n",
    "print(cores[1])  # amarelo\n",
    "print(cores[2])  # azul\n",
    "print(cores[3])  # branco\n",
    "\n",
    "# Fazer acesso aos elementos de forma indexada inversa\n",
    "# Para entender melhor o índice negativo, pense na lista como um círculo, onde\n",
    "# o final de um elemento está ligado ao início da lista\n",
    "\n",
    "print(cores[-1])  # branco\n",
    "print(cores[-2])  # azul\n",
    "print(cores[-3])  # amarelo\n",
    "print(cores[-4])  # verde\n",
    "# print(cores[-5])  # Erro, pois não existe índice -5\n",
    "\n",
    "for cor in cores:\n",
    "    print(cor)\n",
    "\n",
    "indice = 0\n",
    "while indice < len(cores):\n",
    "    print(cores[indice])\n",
    "    indice = indice + 1"
   ]
  },
  {
   "cell_type": "markdown",
   "metadata": {},
   "source": [
    "- Gerar indice em um for"
   ]
  },
  {
   "cell_type": "code",
   "execution_count": 24,
   "metadata": {},
   "outputs": [
    {
     "name": "stdout",
     "output_type": "stream",
     "text": [
      "0 verde\n",
      "1 amarelo\n",
      "2 azul\n",
      "3 branco\n"
     ]
    }
   ],
   "source": [
    "for indice, cor in enumerate(cores):\n",
    "    print(indice, cor)"
   ]
  },
  {
   "cell_type": "markdown",
   "metadata": {},
   "source": [
    "- Listas aceitam valores repetidos"
   ]
  },
  {
   "cell_type": "code",
   "execution_count": 26,
   "metadata": {},
   "outputs": [
    {
     "name": "stdout",
     "output_type": "stream",
     "text": [
      "[42, 42, 33, 33, 42]\n"
     ]
    }
   ],
   "source": [
    "lista = []\n",
    "lista.append(42)\n",
    "lista.append(42)\n",
    "lista.append(33)\n",
    "lista.append(33)\n",
    "lista.append(42)\n",
    "\n",
    "print(lista)"
   ]
  }
 ],
 "metadata": {
  "kernelspec": {
   "display_name": "Python 3",
   "language": "python",
   "name": "python3"
  },
  "language_info": {
   "codemirror_mode": {
    "name": "ipython",
    "version": 3
   },
   "file_extension": ".py",
   "mimetype": "text/x-python",
   "name": "python",
   "nbconvert_exporter": "python",
   "pygments_lexer": "ipython3",
   "version": "3.13.0"
  }
 },
 "nbformat": 4,
 "nbformat_minor": 2
}
