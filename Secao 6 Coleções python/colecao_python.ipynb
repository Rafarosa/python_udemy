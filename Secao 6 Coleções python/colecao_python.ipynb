{
 "cells": [
  {
   "cell_type": "markdown",
   "metadata": {},
   "source": [
    "# 6 Coleções em Payton"
   ]
  },
  {
   "cell_type": "markdown",
   "metadata": {},
   "source": [
    "## 31 - Listas"
   ]
  },
  {
   "cell_type": "markdown",
   "metadata": {},
   "source": [
    "Listas (List)\n",
    "\n",
    "Listas em Python funcional como vetores/matrizes (arrays) em outras linguagens, com a diferença\n",
    "de serem DINÂMICO e também de podermos colocar QUALQUER tipo de dado.\n",
    "\n",
    "Já em Python:\n",
    "\n",
    "- Dinâmico: Não possuem tamanho fixo; Ou seja, podemos criar a lista e simplesmente ir adicionando elementos;\n",
    "- Qualquer tipo de dado: Não possuem tipo de dado fixo; Ou seja, podemos colocar qualquer tipo de dado;\n",
    "\n",
    "As listas em Python são representadas por colchetes: []\n",
    "\n",
    "Listas são mutáveis: Ou seja, elas podem mudar constantemente."
   ]
  },
  {
   "cell_type": "code",
   "execution_count": 1,
   "metadata": {},
   "outputs": [
    {
     "data": {
      "text/plain": [
       "list"
      ]
     },
     "execution_count": 1,
     "metadata": {},
     "output_type": "execute_result"
    }
   ],
   "source": [
    "type([])"
   ]
  },
  {
   "cell_type": "code",
   "execution_count": 15,
   "metadata": {},
   "outputs": [
    {
     "name": "stdout",
     "output_type": "stream",
     "text": [
      "[0, 1, 2, 3, 4, 5, 6, 7, 8, 9, 10]\n"
     ]
    }
   ],
   "source": [
    "lista1 = [1, 99, 4, 27, 15, 22, 3, 1, 44, 42, 27]\n",
    "\n",
    "lista2 = ['G', 'e', 'e', 'k', ' ', 'U', 'n', 'i', 'v', 'e', 'r', 's', 'i', 't', 'y']\n",
    "\n",
    "lista3 = []\n",
    "\n",
    "lista4 = list(range(11))\n",
    "\n",
    "lista5 = list('Geek University')\n",
    "\n",
    "print(lista4)"
   ]
  },
  {
   "cell_type": "markdown",
   "metadata": {},
   "source": [
    "- Podemos facilmente checar se determinado valor está contido na lista"
   ]
  },
  {
   "cell_type": "code",
   "execution_count": 4,
   "metadata": {},
   "outputs": [
    {
     "name": "stdout",
     "output_type": "stream",
     "text": [
      "Encontrei o número 7\n"
     ]
    }
   ],
   "source": [
    "num = 7\n",
    "if num in lista4:\n",
    "    print(f'Encontrei o número {num}')\n",
    "else:\n",
    "    print(f'Não encontrei o número {num}')"
   ]
  },
  {
   "cell_type": "markdown",
   "metadata": {},
   "source": [
    "- Podemos facilmente ordenar uma lista"
   ]
  },
  {
   "cell_type": "code",
   "execution_count": 5,
   "metadata": {},
   "outputs": [
    {
     "name": "stdout",
     "output_type": "stream",
     "text": [
      "[1, 1, 3, 4, 15, 22, 27, 27, 42, 44, 99]\n"
     ]
    }
   ],
   "source": [
    "lista1.sort()\n",
    "print(lista1)"
   ]
  },
  {
   "cell_type": "markdown",
   "metadata": {},
   "source": [
    "- Podemos facilmente contar o número de ocorrências de um valor em uma lista"
   ]
  },
  {
   "cell_type": "code",
   "execution_count": 6,
   "metadata": {},
   "outputs": [
    {
     "name": "stdout",
     "output_type": "stream",
     "text": [
      "2\n",
      "3\n"
     ]
    }
   ],
   "source": [
    "print(lista1.count(1))\n",
    "print(lista5.count('e'))"
   ]
  },
  {
   "cell_type": "markdown",
   "metadata": {},
   "source": [
    "- Adicionar elementos em listas\n",
    "Para adicionar elementos em listas, utilizamos a função append()\n",
    "a função append inclui o valor no final da lista"
   ]
  },
  {
   "cell_type": "code",
   "execution_count": 7,
   "metadata": {},
   "outputs": [
    {
     "name": "stdout",
     "output_type": "stream",
     "text": [
      "[1, 1, 3, 4, 15, 22, 27, 27, 42, 44, 99]\n",
      "[1, 1, 3, 4, 15, 22, 27, 27, 42, 44, 99, 42]\n"
     ]
    }
   ],
   "source": [
    "print(lista1)\n",
    "lista1.append(42)\n",
    "print(lista1)"
   ]
  },
  {
   "cell_type": "markdown",
   "metadata": {},
   "source": [
    "OBS: Com append, nós só conseguimos adicionar 1 elemento por vez\n",
    "\n",
    "```python\n",
    "\n",
    "lista1.append(12, 34, 56) # Erro\n",
    "\n",
    "```"
   ]
  },
  {
   "cell_type": "code",
   "execution_count": 8,
   "metadata": {},
   "outputs": [
    {
     "name": "stdout",
     "output_type": "stream",
     "text": [
      "[1, 1, 3, 4, 15, 22, 27, 27, 42, 44, 99, 42, [8, 3, 1]]\n",
      "Encontrei a lista\n",
      "[1, 1, 3, 4, 15, 22, 27, 27, 42, 44, 99, 42, [8, 3, 1], 123, 44, 67]\n"
     ]
    }
   ],
   "source": [
    "lista1.append([8, 3, 1]) # Coloca a lista como elemento único (sublista)\n",
    "print(lista1)\n",
    "\n",
    "if [8, 3, 1] in lista1:\n",
    "    print('Encontrei a lista')\n",
    "else:\n",
    "    print('Não encontrei a lista')"
   ]
  },
  {
   "cell_type": "markdown",
   "metadata": {},
   "source": [
    "- Coloca cada elemento da lista como valor adicional á lista"
   ]
  },
  {
   "cell_type": "code",
   "execution_count": null,
   "metadata": {},
   "outputs": [],
   "source": [
    "lista1.extend([123, 44, 67]) # \n",
    "print(lista1)"
   ]
  },
  {
   "cell_type": "markdown",
   "metadata": {},
   "source": [
    " - Podemos inserir um novo elemento na lista informando a posição do índice com o método insert()\n",
    " - OBS: Isso não substitui o valor inicial. O mesmo será deslocado para a direita da lista."
   ]
  },
  {
   "cell_type": "code",
   "execution_count": null,
   "metadata": {},
   "outputs": [],
   "source": [
    "lista1.insert(2, 'Novo Valor')\n",
    "print(lista1)"
   ]
  },
  {
   "cell_type": "markdown",
   "metadata": {},
   "source": [
    "Podemos facilmente juntar duas listas"
   ]
  },
  {
   "cell_type": "code",
   "execution_count": null,
   "metadata": {},
   "outputs": [],
   "source": [
    "lista1 = lista1 + lista2\n",
    "lista1.extend(lista2)\n",
    "print(lista1)"
   ]
  },
  {
   "cell_type": "markdown",
   "metadata": {},
   "source": [
    "Podemos facilmente inverter uma lista"
   ]
  },
  {
   "cell_type": "code",
   "execution_count": 9,
   "metadata": {},
   "outputs": [
    {
     "name": "stdout",
     "output_type": "stream",
     "text": [
      "[67, 44, 123, [8, 3, 1], 42, 99, 44, 42, 27, 27, 22, 15, 4, 3, 1, 1]\n",
      "['y', 't', 'i', 's', 'r', 'e', 'v', 'i', 'n', 'U', ' ', 'k', 'e', 'e', 'G']\n",
      "[1, 1, 3, 4, 15, 22, 27, 27, 42, 44, 99, 42, [8, 3, 1], 123, 44, 67]\n",
      "['G', 'e', 'e', 'k', ' ', 'U', 'n', 'i', 'v', 'e', 'r', 's', 'i', 't', 'y']\n"
     ]
    }
   ],
   "source": [
    "# Forma 1\n",
    "lista1.reverse()\n",
    "lista2.reverse()\n",
    "print(lista1)\n",
    "print(lista2)\n",
    "\n",
    "# Forma 2\n",
    "print(lista1[::-1])\n",
    "print(lista2[::-1])\n"
   ]
  },
  {
   "cell_type": "markdown",
   "metadata": {},
   "source": [
    "- copiar lista"
   ]
  },
  {
   "cell_type": "code",
   "execution_count": 14,
   "metadata": {},
   "outputs": [
    {
     "name": "stdout",
     "output_type": "stream",
     "text": [
      "['G', 'e', 'e', 'k', ' ', 'U', 'n', 'i', 'v', 'e', 'r', 's', 'i', 't', 'y']\n"
     ]
    }
   ],
   "source": [
    "lista6 = lista2.copy()\n",
    "lista6.reverse()\n",
    "print(lista6)"
   ]
  },
  {
   "cell_type": "markdown",
   "metadata": {},
   "source": [
    "Podemos contar quantos elementos existem dentro de uma lista"
   ]
  },
  {
   "cell_type": "code",
   "execution_count": 3,
   "metadata": {},
   "outputs": [
    {
     "name": "stdout",
     "output_type": "stream",
     "text": [
      "15\n"
     ]
    }
   ],
   "source": [
    "print(len(lista5))"
   ]
  },
  {
   "cell_type": "markdown",
   "metadata": {},
   "source": [
    "Podemos remover facilmente o último elemento de uma lista\n",
    " - OBS: O pop não somente remove o último elemento mas também o retorna"
   ]
  },
  {
   "cell_type": "code",
   "execution_count": 5,
   "metadata": {},
   "outputs": [
    {
     "name": "stdout",
     "output_type": "stream",
     "text": [
      "['G', 'e', 'e', 'k', ' ', 'U', 'n', 'i', 'v', 'e', 'r', 's', 'i', 't', 'y']\n",
      "['G', 'e', 'e', 'k', ' ', 'U', 'n', 'i', 'v', 'e', 'r', 's', 'i', 't']\n"
     ]
    }
   ],
   "source": [
    "print(lista5)\n",
    "lista5.pop()\n",
    "print(lista5)"
   ]
  },
  {
   "cell_type": "markdown",
   "metadata": {},
   "source": [
    "- Podemos remover um elemento pelo índice\n",
    "- OBS: Os elementos á direita deste índice serão deslocados para a esquerda.\n",
    "- OBS: Se não houver elemento no índice informado, teremos o erro IndexError."
   ]
  },
  {
   "cell_type": "code",
   "execution_count": 6,
   "metadata": {},
   "outputs": [
    {
     "name": "stdout",
     "output_type": "stream",
     "text": [
      "['G', 'e', 'e', 'k', ' ', 'U', 'n', 'i', 'v', 'e', 'r', 's', 'i', 't']\n",
      "['G', 'e', 'k', ' ', 'U', 'n', 'i', 'v', 'e', 'r', 's', 'i', 't']\n"
     ]
    }
   ],
   "source": [
    "print(lista5)\n",
    "lista5.pop(2)\n",
    "print(lista5)"
   ]
  },
  {
   "cell_type": "markdown",
   "metadata": {},
   "source": [
    "- Podemos remover todos os elementos (zerar a lista)"
   ]
  },
  {
   "cell_type": "code",
   "execution_count": 7,
   "metadata": {},
   "outputs": [
    {
     "name": "stdout",
     "output_type": "stream",
     "text": [
      "['G', 'e', 'k', ' ', 'U', 'n', 'i', 'v', 'e', 'r', 's', 'i', 't']\n",
      "[]\n"
     ]
    }
   ],
   "source": [
    "print(lista5)\n",
    "lista5.clear()\n",
    "print(lista5)"
   ]
  },
  {
   "cell_type": "markdown",
   "metadata": {},
   "source": [
    "- Podemos facilmente repetir elementos em uma lista"
   ]
  },
  {
   "cell_type": "code",
   "execution_count": 8,
   "metadata": {},
   "outputs": [
    {
     "name": "stdout",
     "output_type": "stream",
     "text": [
      "[1, 2, 3]\n",
      "[1, 2, 3, 1, 2, 3, 1, 2, 3]\n"
     ]
    }
   ],
   "source": [
    "nova = [1, 2, 3]\n",
    "print(nova)\n",
    "nova = nova * 3\n",
    "print(nova)"
   ]
  },
  {
   "cell_type": "markdown",
   "metadata": {},
   "source": [
    "- Podemos facilmente converter uma string para uma lista"
   ]
  },
  {
   "cell_type": "code",
   "execution_count": 9,
   "metadata": {},
   "outputs": [
    {
     "name": "stdout",
     "output_type": "stream",
     "text": [
      "Programação em Python: Essencial\n",
      "['Programação', 'em', 'Python:', 'Essencial']\n"
     ]
    }
   ],
   "source": [
    "curso = 'Programação em Python: Essencial'\n",
    "print(curso)\n",
    "curso = curso.split()\n",
    "print(curso)\n",
    "\n",
    "# OBS: Por padrão, o split separa os elemento da lista pelo espaço entre elas."
   ]
  },
  {
   "cell_type": "code",
   "execution_count": 10,
   "metadata": {},
   "outputs": [
    {
     "name": "stdout",
     "output_type": "stream",
     "text": [
      "Programação,em,Python:,Essencial\n",
      "['Programação', 'em', 'Python:', 'Essencial']\n"
     ]
    }
   ],
   "source": [
    "curso = 'Programação,em,Python:,Essencial'\n",
    "print(curso)\n",
    "curso = curso.split(',')\n",
    "print(curso)"
   ]
  },
  {
   "cell_type": "markdown",
   "metadata": {},
   "source": [
    "- Convertendo uma lista em uma string"
   ]
  },
  {
   "cell_type": "code",
   "execution_count": 12,
   "metadata": {},
   "outputs": [
    {
     "name": "stdout",
     "output_type": "stream",
     "text": [
      "['Programação', 'em', 'Python:', 'Essencial']\n",
      "Programação em Python: Essencial\n"
     ]
    }
   ],
   "source": [
    "lista6 = ['Programação', 'em', 'Python:', 'Essencial']\n",
    "print(lista6)\n",
    "\n",
    "# Abaixo estamos falando: Pega a lista6, coloca espaço entre cada elemento e transforma em uma string\n",
    "curso = ' '.join(lista6)\n",
    "print(curso)"
   ]
  },
  {
   "cell_type": "code",
   "execution_count": 13,
   "metadata": {},
   "outputs": [
    {
     "name": "stdout",
     "output_type": "stream",
     "text": [
      "Programação$em$Python:$Essencial\n"
     ]
    }
   ],
   "source": [
    "#Abaixo estamos falando: Pega a lista6, coloca cifrão entre cada elemento e transforma em uma string\n",
    "curso = '$'.join(lista6)\n",
    "print(curso)"
   ]
  },
  {
   "cell_type": "markdown",
   "metadata": {},
   "source": [
    "- Podemos realmente colocar qualquer tipo de dado em uma lista, inclusive misturando esses dados"
   ]
  },
  {
   "cell_type": "code",
   "execution_count": 14,
   "metadata": {},
   "outputs": [
    {
     "name": "stdout",
     "output_type": "stream",
     "text": [
      "[1, 2.34, True, 'Geek', 'd', [1, 2, 3], 45345345345]\n",
      "<class 'list'>\n"
     ]
    }
   ],
   "source": [
    "lista6 = [1, 2.34, True, 'Geek', 'd', [1, 2, 3], 45345345345]\n",
    "print(lista6)\n",
    "print(type(lista6))"
   ]
  },
  {
   "cell_type": "markdown",
   "metadata": {},
   "source": [
    "### Iterando sobre listas"
   ]
  },
  {
   "cell_type": "markdown",
   "metadata": {},
   "source": [
    "Utilizando for"
   ]
  },
  {
   "cell_type": "code",
   "execution_count": 19,
   "metadata": {},
   "outputs": [
    {
     "name": "stdout",
     "output_type": "stream",
     "text": [
      "[0, 1, 2, 3, 4, 5, 6, 7, 8, 9, 10]\n",
      "0\n",
      "1\n",
      "2\n",
      "3\n",
      "4\n",
      "5\n",
      "6\n",
      "7\n",
      "8\n",
      "9\n",
      "10\n",
      "55\n"
     ]
    }
   ],
   "source": [
    "soma = 0\n",
    "print(lista4)\n",
    "for elemento in lista4:\n",
    "    print(elemento)\n",
    "    soma = soma + elemento\n",
    "print(soma)"
   ]
  },
  {
   "cell_type": "markdown",
   "metadata": {},
   "source": [
    "Utilizando while"
   ]
  },
  {
   "cell_type": "code",
   "execution_count": 20,
   "metadata": {},
   "outputs": [
    {
     "name": "stdout",
     "output_type": "stream",
     "text": [
      "qwe\n",
      "fgt\n"
     ]
    }
   ],
   "source": [
    "carrinho = []\n",
    "produto = ''\n",
    "\n",
    "while produto != 'sair':\n",
    "    produto = str(input(\"Adicione um produto na lista ou digite 'sair' para sair: \"))\n",
    "    if produto != 'sair':\n",
    "        carrinho.append(produto)\n",
    "\n",
    "for produto in carrinho:\n",
    "    print(produto)"
   ]
  },
  {
   "cell_type": "markdown",
   "metadata": {},
   "source": [
    "- Utilizando variáveis em listas"
   ]
  },
  {
   "cell_type": "code",
   "execution_count": 21,
   "metadata": {},
   "outputs": [
    {
     "name": "stdout",
     "output_type": "stream",
     "text": [
      "[1, 2, 3, 4, 5]\n",
      "[1, 2, 3, 4, 5]\n"
     ]
    }
   ],
   "source": [
    "numeros = [1, 2, 3, 4, 5]\n",
    "print(numeros)\n",
    "\n",
    "num1 = 1\n",
    "num2 = 2\n",
    "num3 = 3\n",
    "num4 = 4\n",
    "num5 = 5\n",
    "\n",
    "numeros = [num1, num2, num3, num4, num5]\n",
    "print(numeros)"
   ]
  },
  {
   "cell_type": "markdown",
   "metadata": {},
   "source": [
    "- Fazemos acesso aos elementos de forma indexada"
   ]
  },
  {
   "cell_type": "code",
   "execution_count": 23,
   "metadata": {},
   "outputs": [
    {
     "name": "stdout",
     "output_type": "stream",
     "text": [
      "verde\n",
      "amarelo\n",
      "azul\n",
      "branco\n",
      "branco\n",
      "azul\n",
      "amarelo\n",
      "verde\n",
      "verde\n",
      "amarelo\n",
      "azul\n",
      "branco\n",
      "verde\n",
      "amarelo\n",
      "azul\n",
      "branco\n"
     ]
    }
   ],
   "source": [
    "cores = ['verde', 'amarelo', 'azul', 'branco']\n",
    "\n",
    "print(cores[0])  # verde\n",
    "print(cores[1])  # amarelo\n",
    "print(cores[2])  # azul\n",
    "print(cores[3])  # branco\n",
    "\n",
    "# Fazer acesso aos elementos de forma indexada inversa\n",
    "# Para entender melhor o índice negativo, pense na lista como um círculo, onde\n",
    "# o final de um elemento está ligado ao início da lista\n",
    "\n",
    "print(cores[-1])  # branco\n",
    "print(cores[-2])  # azul\n",
    "print(cores[-3])  # amarelo\n",
    "print(cores[-4])  # verde\n",
    "# print(cores[-5])  # Erro, pois não existe índice -5\n",
    "\n",
    "for cor in cores:\n",
    "    print(cor)\n",
    "\n",
    "indice = 0\n",
    "while indice < len(cores):\n",
    "    print(cores[indice])\n",
    "    indice = indice + 1"
   ]
  },
  {
   "cell_type": "markdown",
   "metadata": {},
   "source": [
    "- Gerar indice em um for"
   ]
  },
  {
   "cell_type": "code",
   "execution_count": 24,
   "metadata": {},
   "outputs": [
    {
     "name": "stdout",
     "output_type": "stream",
     "text": [
      "0 verde\n",
      "1 amarelo\n",
      "2 azul\n",
      "3 branco\n"
     ]
    }
   ],
   "source": [
    "for indice, cor in enumerate(cores):\n",
    "    print(indice, cor)"
   ]
  },
  {
   "cell_type": "markdown",
   "metadata": {},
   "source": [
    "- Listas aceitam valores repetidos"
   ]
  },
  {
   "cell_type": "code",
   "execution_count": 26,
   "metadata": {},
   "outputs": [
    {
     "name": "stdout",
     "output_type": "stream",
     "text": [
      "[42, 42, 33, 33, 42]\n"
     ]
    }
   ],
   "source": [
    "lista = []\n",
    "lista.append(42)\n",
    "lista.append(42)\n",
    "lista.append(33)\n",
    "lista.append(33)\n",
    "lista.append(42)\n",
    "\n",
    "print(lista)"
   ]
  },
  {
   "cell_type": "markdown",
   "metadata": {},
   "source": [
    "### Outros métodos não tão importantes mas também úteis"
   ]
  },
  {
   "cell_type": "markdown",
   "metadata": {},
   "source": [
    "Encontrar o índice de um elemento na lista"
   ]
  },
  {
   "cell_type": "code",
   "execution_count": 1,
   "metadata": {},
   "outputs": [
    {
     "name": "stdout",
     "output_type": "stream",
     "text": [
      "1\n",
      "5\n"
     ]
    }
   ],
   "source": [
    "numeros = [5, 6, 7, 5, 8, 9, 10]\n",
    "\n",
    "# Em qual índice da lista está o valor 6?\n",
    "print(numeros.index(6))\n",
    "\n",
    "# Em qual índice da lista está o valor 9?\n",
    "print(numeros.index(9))\n",
    "\n",
    "# print(numeros.index(19)) # Gera ValueError\n",
    "# OBS: Caso não tenha este elemento na lista, será apresentado erro ValueError\n",
    "\n",
    "#OBS: Retorna o índice do primeiro elemento encontrato\n",
    "print(numeros.index(5))"
   ]
  },
  {
   "cell_type": "markdown",
   "metadata": {},
   "source": [
    "Podemos fazer busca dentro de um range, ou seja, qual indice começar a buscar"
   ]
  },
  {
   "cell_type": "code",
   "execution_count": 4,
   "metadata": {},
   "outputs": [
    {
     "name": "stdout",
     "output_type": "stream",
     "text": [
      "3\n",
      "3\n",
      "3\n"
     ]
    },
    {
     "ename": "",
     "evalue": "",
     "output_type": "error",
     "traceback": [
      "\u001b[1;31mO Kernel deu pane ao executar o código na célula atual ou em uma célula anterior. \n",
      "\u001b[1;31mAnalise o código nas células para identificar uma possível causa da pane. \n",
      "\u001b[1;31mClique <a href='https://aka.ms/vscodeJupyterKernelCrash'>aqui</a> para obter mais informações. \n",
      "\u001b[1;31mConsulte Jupyter <a href='command:jupyter.viewOutput'>log</a> para obter mais detalhes."
     ]
    }
   ],
   "source": [
    "print(numeros.index(5, 1))  # buscando a partir do índice 1\n",
    "print(numeros.index(5, 2))  # buscando a partir do índice 2\n",
    "print(numeros.index(5, 3))  # buscando a partir do índice 3\n",
    "# print(numeros.index(5, 4))  # buscando a partir do índice 4\n",
    "# OBS: Caso não tenha este elemento na lista, será apresentado erro ValueError"
   ]
  },
  {
   "cell_type": "markdown",
   "metadata": {},
   "source": [
    "Podemos fazer busca dentro de um range, inicio/fim"
   ]
  },
  {
   "cell_type": "code",
   "execution_count": null,
   "metadata": {},
   "outputs": [],
   "source": [
    "print(numeros.index(8, 3, 6)) # Buscar o indice do valro 8, entre os índices 3 a 6\n",
    "\n",
    "# Revisão de slicing\n",
    "\n",
    "# lista[inicio:fim:passo]\n",
    "# range(inicio:fim:passo)\n",
    "\n",
    "# Trabalhando com slice de lista com o parâmetro 'inicio'\n",
    "\n",
    "lista = [1, 2, 3, 4]\n",
    "\n",
    "print(lista[1:])  # Iniciando no índice 1 e pegando todos os relementos restantes\n",
    "\n",
    "# Trabalhando com slice de lista com o parâmetro 'fim'\n",
    "\n",
    "print(lista[:2])  # começa em 0, pega até o índice 2 - 1\n",
    "\n",
    "print(lista[:4])  # começa em 0, pega até o índice 4 - 1\n",
    "\n",
    "print(lista[1:3]) # começa em 1, pega até o índice 3 - 1"
   ]
  },
  {
   "cell_type": "markdown",
   "metadata": {},
   "source": [
    "Trabalhando com slice de lista com o parâmetro 'passo'"
   ]
  },
  {
   "cell_type": "code",
   "execution_count": null,
   "metadata": {},
   "outputs": [],
   "source": [
    "print(lista[1::2])  # Começa em 1, vai até o final, de 2 em 2\n",
    "\n",
    "print(lista[::2])  # Começa em 0, vai até o final, de 2 em 2"
   ]
  },
  {
   "cell_type": "markdown",
   "metadata": {},
   "source": [
    "Invertendo valores em uma lista"
   ]
  },
  {
   "cell_type": "code",
   "execution_count": null,
   "metadata": {},
   "outputs": [],
   "source": [
    "nomes = ['Geek', 'University']\n",
    "\n",
    "nomes[0], nomes[1] = nomes[1], nomes[0]\n",
    "\n",
    "print(nomes)\n",
    "\n",
    "nomes = ['Geek', 'University']\n",
    "\n",
    "nomes.reverse()\n",
    "print(nomes)"
   ]
  },
  {
   "cell_type": "markdown",
   "metadata": {},
   "source": [
    "Soma*, Valor Máximo*, Valor Mínimo*, Tamanho\n",
    "-  Se os valores forem todos inteiros ou reais."
   ]
  },
  {
   "cell_type": "code",
   "execution_count": null,
   "metadata": {},
   "outputs": [],
   "source": [
    "lista = [1, 2, 3, 4, 5, 6]\n",
    "\n",
    "print(sum(lista))  # soma\n",
    "print(max(lista))  # máximo valor\n",
    "print(min(lista))  # mínimo valor\n",
    "print(len(lista))  # tamanho da lista"
   ]
  },
  {
   "cell_type": "markdown",
   "metadata": {},
   "source": [
    "Transformar uma lista em tupla"
   ]
  },
  {
   "cell_type": "code",
   "execution_count": null,
   "metadata": {},
   "outputs": [],
   "source": [
    "lista = [1, 2, 3, 4, 5, 6]\n",
    "print(lista)\n",
    "print(type(lista))\n",
    "\n",
    "tupla = tuple(lista)\n",
    "print(tupla)\n",
    "print(type(tupla))"
   ]
  },
  {
   "cell_type": "markdown",
   "metadata": {},
   "source": [
    "Desempacotamento de listas"
   ]
  },
  {
   "cell_type": "code",
   "execution_count": null,
   "metadata": {},
   "outputs": [],
   "source": [
    "lista = [1, 2, 3]\n",
    "\n",
    "num1, num2, num3 = lista\n",
    "\n",
    "print(num1)\n",
    "print(num2)\n",
    "print(num3)\n",
    "\n",
    "# OBS: Se tivermos um número diferente de elementos na lista ou variáveis para receber os dados, teremos ValueError\n"
   ]
  },
  {
   "cell_type": "markdown",
   "metadata": {},
   "source": [
    "Copiando uma lista para outra (Shallow Copy e Deep Copy)"
   ]
  },
  {
   "cell_type": "code",
   "execution_count": null,
   "metadata": {},
   "outputs": [],
   "source": [
    "# Forma 1 - Deep Copy\n",
    "\n",
    "lista = [1, 2, 3]\n",
    "print(lista)\n",
    "\n",
    "nova = lista.copy()  # cópia\n",
    "\n",
    "print(nova)\n",
    "\n",
    "nova.append(4)\n",
    "\n",
    "print(lista)\n",
    "print(nova)\n",
    "\n",
    "# Veja que ao utilizarmos lista.copy() copiamos os dados da lista para uma nova lista, mas elas\n",
    "# ficaram totalmente independentes, ou seja, modificando uma lista, não afeta a outra. Isso em Python\n",
    "# é chamado de Deep Copy (cópia profunda)\n",
    "\n",
    "# Forma 2 - Shallow Copy\n",
    "\n",
    "lista = [1, 2, 3]\n",
    "print(lista)\n",
    "\n",
    "nova = lista  # cópia\n",
    "\n",
    "print(nova)\n",
    "\n",
    "nova.append(4)\n",
    "\n",
    "print(lista)\n",
    "print(nova)\n",
    "\n",
    "# Veja que utilizamos a cópia via atribuição e copiamos os dados da lista para a nova lista, mas\n",
    "# após realizar modificação em uma das listas, essa modificação se refletiu em ambas as listas.\n",
    "# Isso em Python é chamado de Shallow Copy."
   ]
  },
  {
   "cell_type": "markdown",
   "metadata": {},
   "source": [
    "### 32 Tuplas"
   ]
  },
  {
   "cell_type": "markdown",
   "metadata": {},
   "source": [
    "Tuplas são bastante parecidas com listas.\n",
    "\n",
    "Existem basicamente duas diferenças básicas:\n",
    "\n",
    "1 - As tuplas são representdas por parênteses ()\n",
    "\n",
    "2 - As tuplas são imutáveis: Isso significa que ao se criar uma tupla ela não muda. Toda\n",
    "operação em uma tupla gera uma nova tupla."
   ]
  },
  {
   "cell_type": "markdown",
   "metadata": {},
   "source": [
    "- CUIDADO 1: As tuplas são representadas por (), mas veja:"
   ]
  },
  {
   "cell_type": "code",
   "execution_count": 1,
   "metadata": {},
   "outputs": [
    {
     "name": "stdout",
     "output_type": "stream",
     "text": [
      "(1, 2, 3, 4, 5, 6)\n",
      "<class 'tuple'>\n",
      "(1, 2, 3, 4, 5, 6)\n",
      "<class 'tuple'>\n",
      "4\n",
      "<class 'int'>\n",
      "(4,)\n",
      "<class 'tuple'>\n",
      "(4,)\n",
      "<class 'tuple'>\n"
     ]
    }
   ],
   "source": [
    "#Exemplo de tupla\n",
    "\n",
    "tupla1 = (1, 2, 3, 4, 5, 6,)\n",
    "print(tupla1)\n",
    "print(type(tupla1))\n",
    "\n",
    "# Tupla pode ser designada com elementos separados por virgula sem a necessidade de colocalos em ()\n",
    "\n",
    "tupla2 = 1, 2, 3, 4, 5, 6,\n",
    "print(tupla2)\n",
    "print(type(tupla2))\n",
    "\n",
    "# CUIDADO 2: Tuplas com 1 elemento\n",
    "\n",
    "tupla3 = (4)  # Isso não é uma tupla!\n",
    "print(tupla3)\n",
    "print(type(tupla3))\n",
    "\n",
    "\n",
    "tupla4 = (4,)  # Isso é uma tupla!\n",
    "print(tupla4)\n",
    "\n",
    "print(type(tupla4))\n",
    "\n",
    "tupla5 = 4,\n",
    "print(tupla5)\n",
    "\n",
    "print(type(tupla5))"
   ]
  },
  {
   "cell_type": "markdown",
   "metadata": {},
   "source": [
    "CONCLUSÃO: Podemos concluir que tuplas são definidas pela vírtula e não pelo uso do parênteses\n",
    "\n",
    "- (4) -> Não é tupla\n",
    "- (4,) -> É tupla\n",
    "- 4, -> É tupla"
   ]
  },
  {
   "cell_type": "markdown",
   "metadata": {},
   "source": [
    "Podemos gerar uma tupla dinamicamente com range(inicio,fim,passo)"
   ]
  },
  {
   "cell_type": "code",
   "execution_count": 2,
   "metadata": {},
   "outputs": [
    {
     "name": "stdout",
     "output_type": "stream",
     "text": [
      "(0, 1, 2, 3, 4, 5, 6, 7, 8, 9, 10)\n",
      "<class 'tuple'>\n"
     ]
    }
   ],
   "source": [
    "tupla = tuple(range(11))\n",
    "print(tupla)\n",
    "print(type(tupla))"
   ]
  },
  {
   "cell_type": "markdown",
   "metadata": {},
   "source": [
    "Desempacotamento de tupla"
   ]
  },
  {
   "cell_type": "code",
   "execution_count": 5,
   "metadata": {},
   "outputs": [
    {
     "name": "stdout",
     "output_type": "stream",
     "text": [
      "Geek University\n",
      "Programação em Python: Essencial\n"
     ]
    }
   ],
   "source": [
    "tupla = ('Geek University', 'Programação em Python: Essencial')\n",
    "\n",
    "escola, curso = tupla\n",
    "\n",
    "print(escola)\n",
    "print(curso)\n",
    "\n",
    "#OBS: Gera erro (ValueError) se colocarmos um número diferente de elementos para desenpacotar."
   ]
  },
  {
   "cell_type": "markdown",
   "metadata": {},
   "source": [
    "Métodos para adição e remoção de elementos nas tuplas são existem, dado o fato das tuplas serem imutáveis.\n",
    "- Soma*, Valor Máximo*, Valor Mínimo* e Tamanho\n",
    "-  Se os valores forem todos inteiros ou reais"
   ]
  },
  {
   "cell_type": "code",
   "execution_count": 6,
   "metadata": {},
   "outputs": [
    {
     "name": "stdout",
     "output_type": "stream",
     "text": [
      "21\n",
      "6\n",
      "1\n",
      "6\n"
     ]
    }
   ],
   "source": [
    "tupla = (1, 2, 3, 4, 5, 6)\n",
    "\n",
    "print(sum(tupla))\n",
    "print(max(tupla))\n",
    "print(min(tupla))\n",
    "print(len(tupla))"
   ]
  },
  {
   "cell_type": "markdown",
   "metadata": {},
   "source": [
    "Concatenação de tuplas"
   ]
  },
  {
   "cell_type": "code",
   "execution_count": null,
   "metadata": {},
   "outputs": [],
   "source": [
    "tupla1 = (1, 2, 3)\n",
    "print(tupla1)\n",
    "\n",
    "tupla2 = (4, 5, 6)\n",
    "print(tupla2)\n",
    "\n",
    "print(tupla1 + tupla2)  # Tuplas são imutáveis\n",
    "\n",
    "print(tupla1)\n",
    "print(tupla2)\n",
    "\n",
    "# A concatenação de tuplas só existirá de maneira permanete apartir do momento em que seja criado uma variavel com o a concatenação\n",
    "tupla3 = tupla1 + tupla2\n",
    "print(tupla3)\n",
    "print(tupla1)\n",
    "print(tupla2)\n",
    "\n",
    "\n",
    "tupla1 = tupla1 + tupla2  # Tuplas são imutáveis, mas podemos sobrescrever seus valores\n",
    "print(tupla1)"
   ]
  },
  {
   "cell_type": "markdown",
   "metadata": {},
   "source": [
    "Verificar se determinado elemento está contido na tupla"
   ]
  },
  {
   "cell_type": "code",
   "execution_count": 7,
   "metadata": {},
   "outputs": [
    {
     "name": "stdout",
     "output_type": "stream",
     "text": [
      "True\n"
     ]
    }
   ],
   "source": [
    "tupla = (1, 2, 3)\n",
    "\n",
    "print(3 in tupla)"
   ]
  },
  {
   "cell_type": "markdown",
   "metadata": {},
   "source": [
    "Iterando sobre uma tupla"
   ]
  },
  {
   "cell_type": "code",
   "execution_count": 9,
   "metadata": {},
   "outputs": [
    {
     "name": "stdout",
     "output_type": "stream",
     "text": [
      "1\n",
      "2\n",
      "3\n",
      "0 1\n",
      "1 2\n",
      "2 3\n"
     ]
    }
   ],
   "source": [
    "tupla = (1, 2, 3)\n",
    "\n",
    "for n in tupla:\n",
    "    print(n)\n",
    "\n",
    "for indice, valor in enumerate(tupla):\n",
    "    print(indice, valor)"
   ]
  },
  {
   "cell_type": "markdown",
   "metadata": {},
   "source": [
    "Contando elementos dentro de uma tupla"
   ]
  },
  {
   "cell_type": "code",
   "execution_count": 10,
   "metadata": {},
   "outputs": [
    {
     "name": "stdout",
     "output_type": "stream",
     "text": [
      "1\n",
      "('G', 'e', 'e', 'k', ' ', 'U', 'n', 'i', 'v', 'e', 'r', 's', 'i', 't', 'y')\n",
      "3\n"
     ]
    }
   ],
   "source": [
    "tupla = ('a', 'b', 'c', 'd', 'e', 'a', 'b')\n",
    "\n",
    "# quantas vezes aparece o valor c na tupla\n",
    "print(tupla.count('c'))\n",
    "\n",
    "#tranforma um str em uma tupla\n",
    "escola = tuple('Geek University')\n",
    "print(escola)\n",
    "\n",
    "#quantas vezes aprarece o valor e na variavel escola(tupla)\n",
    "print(escola.count('e'))"
   ]
  },
  {
   "cell_type": "markdown",
   "metadata": {},
   "source": [
    "Dicas na utilização de tuplas\n",
    "\n",
    "- Devemos utilizar tuplas SEMPRE que não precisarmos modificar os dados contidos em uma coleção"
   ]
  },
  {
   "cell_type": "code",
   "execution_count": null,
   "metadata": {},
   "outputs": [],
   "source": [
    "# Exemplo 1\n",
    "\n",
    "meses = ('Janeiro', 'Fevereiro', 'Março', 'Abril', 'Maio', 'Junho', 'Junho', 'Agosto', 'Setembro', 'Outubro', 'Novembro', 'Dezembro')\n",
    "\n",
    "\n",
    "# Slicing\n",
    "\n",
    "# tupla[inicio:fim:passo]\n",
    "\n",
    "print(meses[5:9])\n",
    "\n",
    "\n",
    "# O acesso a elementos de uma tupla também é semelhante a de uma lista\n",
    "\n",
    "print(meses[5])\n",
    "\n",
    "# Iterar com while\n",
    "i = 0\n",
    "\n",
    "while i < len(meses):\n",
    "    print(meses[i])\n",
    "    i = i + 1\n",
    "\n",
    "# Verificamos em qual índice um elemento está na tupla\n",
    "\n",
    "print(meses.index('Junho'))\n",
    "\n",
    "# OBS: Caso o elemento não exista, será gerado ValueError."
   ]
  },
  {
   "cell_type": "markdown",
   "metadata": {},
   "source": [
    "Por quê utilizar tuplas?\n",
    "\n",
    "- Tuplas são mais rápidas do que listas.\n",
    "- Tuplas deixam seu código mais seguro*.\n",
    "\n",
    " - * Isso porque trabalhar com elementos imutáveis traz segurança para o código."
   ]
  },
  {
   "cell_type": "code",
   "execution_count": 11,
   "metadata": {},
   "outputs": [
    {
     "name": "stdout",
     "output_type": "stream",
     "text": [
      "(1, 2, 3)\n",
      "(1, 2, 3)\n",
      "(1, 2, 3)\n",
      "(1, 2, 3, 4, 5, 6)\n",
      "(1, 2, 3)\n"
     ]
    }
   ],
   "source": [
    "# Copiando uma tupla para outra\n",
    "\n",
    "tupla = (1, 2, 3)\n",
    "print(tupla)\n",
    "\n",
    "nova = tupla  # Na tupla não temos o problema de Shallow Copy\n",
    "\n",
    "print(nova)\n",
    "print(tupla)\n",
    "\n",
    "outra = (4, 5, 6)\n",
    "\n",
    "nova = nova + outra\n",
    "\n",
    "print(nova)\n",
    "print(tupla)"
   ]
  },
  {
   "cell_type": "markdown",
   "metadata": {},
   "source": [
    "## 33 Dicionario"
   ]
  },
  {
   "cell_type": "markdown",
   "metadata": {},
   "source": [
    "OBS: Em algumas linguagens de programação, os dicionários Python são conhecidos\n",
    "por mapas.\n",
    "\n",
    "\n",
    "Dicionários são coleções do tipo chave/valor.\n",
    "\n",
    "\n",
    "Dicionários são representados por chaves {}.\n",
    "```python\n",
    "\n",
    "print(type({}))\n",
    "```\n",
    "\n",
    "OBS: Sobre dicionários\n",
    "- Chave e valor são separados por dois pontos 'chave:valor';\n",
    "- Tanto chave quanto valor podem ser de qualquer tipo de dado;\n",
    "- Podemos misturar tipos de dados;"
   ]
  },
  {
   "cell_type": "markdown",
   "metadata": {},
   "source": [
    "- Criação de dicionários"
   ]
  },
  {
   "cell_type": "code",
   "execution_count": 1,
   "metadata": {},
   "outputs": [
    {
     "name": "stdout",
     "output_type": "stream",
     "text": [
      "{'br': 'Brasil', 'eua': 'Estados Unidos', 'py': 'Paraguai'}\n",
      "<class 'dict'>\n",
      "{'br': 'Brasil', 'eua': 'Estados Unidos', 'py': 'Paraguay'}\n",
      "<class 'dict'>\n"
     ]
    }
   ],
   "source": [
    "# Forma 1 (Mais comum)\n",
    "\n",
    "paises = {'br': 'Brasil', 'eua': 'Estados Unidos', 'py': 'Paraguai'}\n",
    "\n",
    "print(paises)\n",
    "print(type(paises))\n",
    "\n",
    "\n",
    "# Forma 2 (Menos comum)\n",
    "\n",
    "paises = dict(br='Brasil', eua='Estados Unidos', py='Paraguay')\n",
    "\n",
    "print(paises)\n",
    "print(type(paises))"
   ]
  },
  {
   "cell_type": "markdown",
   "metadata": {},
   "source": [
    "- Acessando elemento"
   ]
  },
  {
   "cell_type": "markdown",
   "metadata": {},
   "source": [
    "- - Forma 1 - acessando via chave, da mesma forma que a lista/tupla"
   ]
  },
  {
   "cell_type": "code",
   "execution_count": 2,
   "metadata": {},
   "outputs": [
    {
     "name": "stdout",
     "output_type": "stream",
     "text": [
      "Brasil\n"
     ]
    },
    {
     "ename": "TypeError",
     "evalue": "'dict' object is not callable",
     "output_type": "error",
     "traceback": [
      "\u001b[1;31m---------------------------------------------------------------------------\u001b[0m",
      "\u001b[1;31mTypeError\u001b[0m                                 Traceback (most recent call last)",
      "Cell \u001b[1;32mIn[2], line 4\u001b[0m\n\u001b[0;32m      1\u001b[0m \u001b[38;5;66;03m# Forma 1 - acessando via chave, da mesma forma que a lista/tupla\u001b[39;00m\n\u001b[0;32m      3\u001b[0m \u001b[38;5;28mprint\u001b[39m(paises[\u001b[38;5;124m'\u001b[39m\u001b[38;5;124mbr\u001b[39m\u001b[38;5;124m'\u001b[39m])\n\u001b[1;32m----> 4\u001b[0m \u001b[38;5;28mprint\u001b[39m(\u001b[43mpaises\u001b[49m\u001b[43m(\u001b[49m\u001b[38;5;124;43m'\u001b[39;49m\u001b[38;5;124;43mru\u001b[39;49m\u001b[38;5;124;43m'\u001b[39;49m\u001b[43m)\u001b[49m)\n",
      "\u001b[1;31mTypeError\u001b[0m: 'dict' object is not callable"
     ]
    }
   ],
   "source": [
    "print(paises['br'])\n",
    "print(paises('ru'))\n",
    "\n",
    "# OBS: Caso tentamos fazer um acesso utilizando uma chave que não existe, terremos um erro KeyError"
   ]
  },
  {
   "cell_type": "markdown",
   "metadata": {},
   "source": [
    "- Forma 2 - Acessando via get - Remomendada"
   ]
  },
  {
   "cell_type": "code",
   "execution_count": 4,
   "metadata": {},
   "outputs": [
    {
     "name": "stdout",
     "output_type": "stream",
     "text": [
      "Brasil\n",
      "None\n",
      "Encontrei o país Brasil\n"
     ]
    }
   ],
   "source": [
    "print(paises.get('br'))\n",
    "print(paises.get('ru'))\n",
    "\n",
    "# Caso o get não encontre o objeto com a chave informada será retornado o valor None e não será gerado KeyError\n",
    "\n",
    "pais = paises.get('br')\n",
    "\n",
    "if pais:\n",
    "    print(f'Encontrei o país {pais}')\n",
    "else:\n",
    "    print('Não encontrei o país')"
   ]
  },
  {
   "cell_type": "markdown",
   "metadata": {},
   "source": [
    "Podemos definir um valor padrão para caso não encontremos o objeto com a chave informada"
   ]
  },
  {
   "cell_type": "code",
   "execution_count": 5,
   "metadata": {},
   "outputs": [
    {
     "name": "stdout",
     "output_type": "stream",
     "text": [
      "Encontrei o país Paraguay\n"
     ]
    }
   ],
   "source": [
    "pais = paises.get('py', 'Não encontrado')\n",
    "\n",
    "print(f'Encontrei o país {pais}')"
   ]
  },
  {
   "cell_type": "markdown",
   "metadata": {},
   "source": [
    "Podemos verificar se determinada chave se encontra em um dicionário"
   ]
  },
  {
   "cell_type": "code",
   "execution_count": 6,
   "metadata": {},
   "outputs": [
    {
     "name": "stdout",
     "output_type": "stream",
     "text": [
      "True\n",
      "False\n",
      "False\n"
     ]
    }
   ],
   "source": [
    "print('br' in paises)\n",
    "print('ru' in paises)\n",
    "print('Estados Unidos' in paises)\n",
    "\n",
    "# Podemos utilizar qualquer tipo de dado (int, float, string, boolean), inclusice lista, tupla dicionário, como chaves de dicionários."
   ]
  },
  {
   "cell_type": "markdown",
   "metadata": {},
   "source": [
    "Tuplas por exemplo são bastante interessantes de serem utilizadas como chave de dicionários, pois as mesmas são imutáveis."
   ]
  },
  {
   "cell_type": "code",
   "execution_count": 7,
   "metadata": {},
   "outputs": [
    {
     "name": "stdout",
     "output_type": "stream",
     "text": [
      "{(35.6895, 39.6917): 'Escritório em Tókio', (40.7128, 74.006): 'Escritório em Nova York', (37.7749, 122.4194): 'Escritório em São Paulo'}\n",
      "<class 'dict'>\n"
     ]
    }
   ],
   "source": [
    "localidades = {\n",
    "    (35.6895, 39.6917): 'Escritório em Tókio',\n",
    "    (40.7128, 74.0060): 'Escritório em Nova York',\n",
    "    (37.7749, 122.4194): 'Escritório em São Paulo',\n",
    "}\n",
    "\n",
    "print(localidades)\n",
    "print(type(localidades))"
   ]
  },
  {
   "cell_type": "markdown",
   "metadata": {},
   "source": [
    "Adicionar elementos em um dicionário"
   ]
  },
  {
   "cell_type": "code",
   "execution_count": 8,
   "metadata": {},
   "outputs": [
    {
     "name": "stdout",
     "output_type": "stream",
     "text": [
      "{'jan': 100, 'fev': 120, 'mar': 300}\n",
      "<class 'dict'>\n"
     ]
    }
   ],
   "source": [
    "receita = {'jan': 100, 'fev': 120, 'mar': 300}\n",
    "\n",
    "print(receita)\n",
    "print(type(receita))"
   ]
  },
  {
   "cell_type": "markdown",
   "metadata": {},
   "source": [
    "Forma 01 - Forma mais comum de adicionar elementos ao dicionário"
   ]
  },
  {
   "cell_type": "code",
   "execution_count": 10,
   "metadata": {},
   "outputs": [
    {
     "name": "stdout",
     "output_type": "stream",
     "text": [
      "{'jan': 100, 'fev': 120, 'mar': 300, 'abr': 350}\n"
     ]
    }
   ],
   "source": [
    "receita['abr'] = 350\n",
    "print(receita)"
   ]
  },
  {
   "cell_type": "markdown",
   "metadata": {},
   "source": [
    "Forma 2"
   ]
  },
  {
   "cell_type": "code",
   "execution_count": 14,
   "metadata": {},
   "outputs": [
    {
     "name": "stdout",
     "output_type": "stream",
     "text": [
      "{'jan': 100, 'fev': 120, 'mar': 300, 'abr': 350, 'mai': 500}\n"
     ]
    }
   ],
   "source": [
    "novo_dado = {'mai' : 500}\n",
    "receita.update(novo_dado) #receita.update({'mai': 500})\n",
    "print(receita)"
   ]
  },
  {
   "cell_type": "markdown",
   "metadata": {},
   "source": [
    "Atualizando dados em um dicionário"
   ]
  },
  {
   "cell_type": "code",
   "execution_count": null,
   "metadata": {},
   "outputs": [],
   "source": [
    "# Forma 1\n",
    "\n",
    "receita['mai'] = 550\n",
    "\n",
    "print(receita)\n",
    "\n",
    "# Forma 2\n",
    "\n",
    "receita.update({'mai': 600})\n",
    "\n",
    "print(receita)"
   ]
  },
  {
   "cell_type": "markdown",
   "metadata": {},
   "source": [
    "- CONCLUSÃO 1: A forma de adicionar novos elementos ou atualizar dados em um dicionário é a mesma.\n",
    "- CONCLUSÃO 2: Em dicionários, NÃO podemos ter chaves repetidas."
   ]
  },
  {
   "cell_type": "markdown",
   "metadata": {},
   "source": [
    "Remover dados de um dicionário"
   ]
  },
  {
   "cell_type": "code",
   "execution_count": null,
   "metadata": {},
   "outputs": [],
   "source": [
    "receita = {'jan': 100, 'fev': 120, 'mar': 300}\n",
    "\n",
    "print(receita)\n",
    "\n",
    "# Forma 1 - Mais comum\n",
    "\n",
    "ret = receita.pop('mar')\n",
    "print(ret)\n",
    "\n",
    "print(receita)\n",
    "\n",
    "# OBS 1: Aqui precisamos SEMPRE informar a chave, e caso não encontre o elemento, um KeyError é retornado.\n",
    "# OBS 2: Ao removermos um objeto, o valor deste objeto é sempre retornado.\n",
    "\n",
    "# Forma 2\n",
    "\n",
    "del receita['fev']\n",
    "\n",
    "print(receita)\n",
    "\n",
    "# Se a chave não existir será gerado um KeyError\n",
    "# OBS: Neste caso o valor removido não é retornado."
   ]
  },
  {
   "cell_type": "markdown",
   "metadata": {},
   "source": [
    "Métodos de dicionários."
   ]
  },
  {
   "cell_type": "code",
   "execution_count": null,
   "metadata": {},
   "outputs": [],
   "source": [
    "d = dict(a=1, b=2, c=3)\n",
    "\n",
    "print(d)\n",
    "print(type(d))"
   ]
  },
  {
   "cell_type": "markdown",
   "metadata": {},
   "source": [
    "Limpar o dicionário (Zerar dados)\n"
   ]
  },
  {
   "cell_type": "code",
   "execution_count": null,
   "metadata": {},
   "outputs": [],
   "source": [
    "d.clear()\n",
    "\n",
    "print(d)"
   ]
  },
  {
   "cell_type": "markdown",
   "metadata": {},
   "source": [
    "Copiando um dicionário para outro"
   ]
  },
  {
   "cell_type": "code",
   "execution_count": null,
   "metadata": {},
   "outputs": [],
   "source": [
    "Forma 1 # Deep Copy\n",
    "\n",
    "novo = d.copy()\n",
    "\n",
    "print(novo)\n",
    "\n",
    "novo['d'] = 4\n",
    "\n",
    "print(d)\n",
    "print(novo)\n",
    "\n",
    "# Forma 2 # Shallow Copy\n",
    "\n",
    "novo = d\n",
    "\n",
    "print(novo)\n",
    "\n",
    "novo['d'] = 4\n",
    "\n",
    "print(d)\n",
    "print(novo)"
   ]
  },
  {
   "cell_type": "markdown",
   "metadata": {},
   "source": [
    "Forma não usual de criação de dicionários"
   ]
  },
  {
   "cell_type": "code",
   "execution_count": 15,
   "metadata": {},
   "outputs": [
    {
     "name": "stdout",
     "output_type": "stream",
     "text": [
      "{'a': 'b'}\n",
      "<class 'dict'>\n",
      "{'nome': 'desconhecido', 'pontos': 'desconhecido', 'email': 'desconhecido', 'profile': 'desconhecido'}\n",
      "<class 'dict'>\n",
      "{'t': 'valor', 'e': 'valor', 's': 'valor'}\n",
      "{1: 'novo', 2: 'novo', 3: 'novo', 4: 'novo', 5: 'novo', 6: 'novo', 7: 'novo', 8: 'novo', 9: 'novo', 10: 'novo'}\n"
     ]
    }
   ],
   "source": [
    "outro = {}.fromkeys('a', 'b')\n",
    "\n",
    "print(outro)\n",
    "print(type(outro))\n",
    "\n",
    "\n",
    "usuario = {}.fromkeys(['nome', 'pontos', 'email', 'profile'], 'desconhecido')\n",
    "print(usuario)\n",
    "print(type(usuario))\n",
    "\n",
    "# O método fromkeys recebe dois parâmetros: um interável e um valor.\n",
    "# Ele vai gerar para cada valor do iterável uma chave e irá atribuir a esta chave o valor informado.\n",
    "\n",
    "veja = {}.fromkeys('teste', 'valor')\n",
    "print(veja)\n",
    "\n",
    "veja = {}.fromkeys(range(1, 11), 'novo')\n",
    "\n",
    "print(veja)"
   ]
  },
  {
   "cell_type": "markdown",
   "metadata": {},
   "source": [
    "## 34 Mapas"
   ]
  },
  {
   "cell_type": "markdown",
   "metadata": {},
   "source": [
    "Também conhecidos como dicionários\n",
    "\n",
    "Dicionarios em python são representados por chaves {}"
   ]
  },
  {
   "cell_type": "code",
   "execution_count": 2,
   "metadata": {},
   "outputs": [
    {
     "name": "stdout",
     "output_type": "stream",
     "text": [
      "jan\n",
      "fev\n",
      "mar\n",
      "100\n",
      "120\n",
      "300\n",
      "Em jan eu recebi 100\n",
      "Em fev eu recebi 120\n",
      "Em mar eu recebi 300\n"
     ]
    }
   ],
   "source": [
    "# Interando sobre dicionários \n",
    "receita = {'jan': 100, 'fev': 120, 'mar': 300}\n",
    "\n",
    "for chave in receita:\n",
    "    print(chave)\n",
    "\n",
    "for chave in receita:\n",
    "    print(receita[chave])\n",
    "\n",
    "for chave in receita:\n",
    "    print(f'Em {chave} eu recebi {receita[chave]}')"
   ]
  },
  {
   "cell_type": "code",
   "execution_count": 5,
   "metadata": {},
   "outputs": [
    {
     "name": "stdout",
     "output_type": "stream",
     "text": [
      "dict_keys(['jan', 'fev', 'mar'])\n",
      "100\n",
      "120\n",
      "300\n"
     ]
    }
   ],
   "source": [
    "# Acessando chaves\n",
    "print(receita.keys()) # Será retornado um dicionário de chaves\n",
    "\n",
    "for chave in receita.keys():\n",
    "    print(receita[chave])"
   ]
  },
  {
   "cell_type": "code",
   "execution_count": 7,
   "metadata": {},
   "outputs": [
    {
     "name": "stdout",
     "output_type": "stream",
     "text": [
      "dict_values([100, 120, 300])\n",
      "100\n",
      "120\n",
      "300\n",
      "{'jan': 100, 'fev': 120, 'mar': 300}\n"
     ]
    }
   ],
   "source": [
    "# Acessando valore\n",
    "print(receita.values()) #Retorna um dicionário de valores\n",
    "\n",
    "for valor in receita.values():\n",
    "    print(valor)\n",
    "print(receita)\n"
   ]
  },
  {
   "cell_type": "code",
   "execution_count": 8,
   "metadata": {},
   "outputs": [
    {
     "name": "stdout",
     "output_type": "stream",
     "text": [
      "dict_items([('jan', 100), ('fev', 120), ('mar', 300)])\n",
      "chave=jan e valor=100\n",
      "chave=fev e valor=120\n",
      "chave=mar e valor=300\n"
     ]
    }
   ],
   "source": [
    "# Desempacotamento de dicionários\n",
    "\n",
    "print(receita.items()) # retorna um dicionário de chave e valor \n",
    "\n",
    "\n",
    "for chave, valor in receita.items():\n",
    "    print(f'chave={chave} e valor={valor}')"
   ]
  },
  {
   "cell_type": "code",
   "execution_count": 9,
   "metadata": {},
   "outputs": [
    {
     "name": "stdout",
     "output_type": "stream",
     "text": [
      "520\n",
      "300\n",
      "100\n",
      "3\n"
     ]
    }
   ],
   "source": [
    "# Soma*, Valor Máximo*, Valor Mínimo*, Tamanho\n",
    "\n",
    "# * Se os valores forem todos inteiros ou reais\n",
    "\n",
    "print(sum(receita.values()))\n",
    "print(max(receita.values()))\n",
    "print(min(receita.values()))\n",
    "print(len(receita))\n"
   ]
  }
 ],
 "metadata": {
  "kernelspec": {
   "display_name": "Python 3",
   "language": "python",
   "name": "python3"
  },
  "language_info": {
   "codemirror_mode": {
    "name": "ipython",
    "version": 3
   },
   "file_extension": ".py",
   "mimetype": "text/x-python",
   "name": "python",
   "nbconvert_exporter": "python",
   "pygments_lexer": "ipython3",
   "version": "3.13.1"
  }
 },
 "nbformat": 4,
 "nbformat_minor": 2
}
