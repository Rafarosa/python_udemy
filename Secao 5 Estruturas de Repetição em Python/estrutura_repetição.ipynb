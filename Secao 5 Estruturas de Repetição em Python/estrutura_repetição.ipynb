{
 "cells": [
  {
   "cell_type": "markdown",
   "metadata": {},
   "source": [
    "# 5 Estrutura de repetição"
   ]
  },
  {
   "cell_type": "markdown",
   "metadata": {},
   "source": [
    "### 24 - loop for"
   ]
  },
  {
   "cell_type": "markdown",
   "metadata": {},
   "source": [
    "Utilizamos loops para iterar sobre sequências ou sobre valores interáveis\n",
    " - String\n",
    " - lista\n",
    " - range"
   ]
  },
  {
   "cell_type": "code",
   "execution_count": null,
   "metadata": {},
   "outputs": [],
   "source": [
    "# exemplo de estrutura for\n",
    "# for item in intervalo\n",
    "#    //execução do loop for\n"
   ]
  },
  {
   "cell_type": "code",
   "execution_count": 12,
   "metadata": {},
   "outputs": [
    {
     "name": "stdout",
     "output_type": "stream",
     "text": [
      "Rafael A.R da Rosa"
     ]
    }
   ],
   "source": [
    "nome = 'Rafael A.R da Rosa'\n",
    "lista = [1, 2, 3, 4, 5, 6]\n",
    "numeros = range(1,10)\n",
    "\n",
    "#exemplo 1 - iterando sobre uma string\n",
    "for letra in nome:\n",
    "    print(letra, end='')"
   ]
  },
  {
   "cell_type": "code",
   "execution_count": null,
   "metadata": {},
   "outputs": [],
   "source": [
    "# Exemplo 2 - iterando sobre uma lista\n",
    "\n",
    "for numero in lista:\n",
    "    print(numero)"
   ]
  },
  {
   "cell_type": "code",
   "execution_count": null,
   "metadata": {},
   "outputs": [],
   "source": [
    "#Exemplo 3 -  iterando pro um range\n",
    "for numero in range(1, 10):\n",
    "    print(numero)"
   ]
  },
  {
   "cell_type": "code",
   "execution_count": null,
   "metadata": {},
   "outputs": [],
   "source": [
    "for indice, letra in enumerate(nome):\n",
    "    print(indice, letra)"
   ]
  },
  {
   "cell_type": "code",
   "execution_count": null,
   "metadata": {},
   "outputs": [],
   "source": [
    "# Quando não precisameo de um valor, podemos descarta-lo utilizando um underline(_)\n",
    "for _, letra in enumerate(nome):\n",
    "    print(_)"
   ]
  },
  {
   "cell_type": "code",
   "execution_count": 11,
   "metadata": {},
   "outputs": [
    {
     "name": "stdout",
     "output_type": "stream",
     "text": [
      "A soma é 15\n"
     ]
    }
   ],
   "source": [
    "qtd = int(input('Quantas vezes esse loop deve rodar:'))\n",
    "soma = 0\n",
    "\n",
    "for n in range(1, qtd+1):\n",
    "    num = int(input(f'informe o {n}/{qtd} valor:'))\n",
    "    soma = soma + num\n",
    "print(f'A soma é {soma}')"
   ]
  },
  {
   "cell_type": "markdown",
   "metadata": {},
   "source": [
    "### 25 - Entendendo e explorando ranges"
   ]
  },
  {
   "cell_type": "markdown",
   "metadata": {},
   "source": [
    "- Precisamos conhecer o loop for para usar os ranges\n",
    "- Precisamos conhecer os range para trabalhar melhor com os loop for\n",
    "\n",
    "Ranges são utilizados para gerar sequências numéricas, não aleatorias, mas sim de maneira especifica "
   ]
  },
  {
   "cell_type": "code",
   "execution_count": 14,
   "metadata": {},
   "outputs": [
    {
     "name": "stdout",
     "output_type": "stream",
     "text": [
      "012345678910"
     ]
    }
   ],
   "source": [
    "# Forma 1\n",
    "# range(valor_de_parada)\n",
    "# OBS: valor de parada não inclusive(inicio em 0, e passo de 1 em 1)\n",
    "\n",
    "for num in range(11):\n",
    "    print(num, end = '')\n",
    "\n"
   ]
  },
  {
   "cell_type": "code",
   "execution_count": 17,
   "metadata": {},
   "outputs": [
    {
     "name": "stdout",
     "output_type": "stream",
     "text": [
      "1\n",
      "2\n",
      "3\n",
      "4\n",
      "5\n",
      "6\n",
      "7\n",
      "8\n",
      "9\n",
      "10\n"
     ]
    }
   ],
   "source": [
    "# Forma 2\n",
    "# range(valor_de_inicio, valor_de_parada)\n",
    "# OBS: valor de parada não inclusive(inicio em especificado pelo usuário, e passo de 1 em 1)\n",
    "for numero in range(1, 11):\n",
    "    print(numero)"
   ]
  },
  {
   "cell_type": "code",
   "execution_count": 16,
   "metadata": {},
   "outputs": [
    {
     "name": "stdout",
     "output_type": "stream",
     "text": [
      "0\n",
      "3\n",
      "6\n",
      "9\n"
     ]
    }
   ],
   "source": [
    "# Forma 3\n",
    "# range(valor_de_inicio, valor_de_parada, passo)\n",
    "# OBS: valor de parada não inclusive(inicio em especificado pelo usuário, e passo indicado pelo usuário)\n",
    "\n",
    "for num in range(0,11,3):\n",
    "    print(num)"
   ]
  },
  {
   "cell_type": "code",
   "execution_count": 18,
   "metadata": {},
   "outputs": [
    {
     "name": "stdout",
     "output_type": "stream",
     "text": [
      "10\n",
      "9\n",
      "8\n",
      "7\n",
      "6\n",
      "5\n",
      "4\n",
      "3\n",
      "2\n",
      "1\n"
     ]
    }
   ],
   "source": [
    "# Forma 4\n",
    "# inverso\n",
    "# range(valor_final, Valor inicial, passo negativo)\n",
    "\n",
    "for num in range(10, 0, -1):\n",
    "    print(num)"
   ]
  },
  {
   "cell_type": "markdown",
   "metadata": {},
   "source": [
    "### 26 - Loop while"
   ]
  },
  {
   "cell_type": "markdown",
   "metadata": {},
   "source": [
    "Forma geral\n",
    "\n",
    "```python\n",
    "while # expressão booleana:\n",
    "    #// Execução do loop\n",
    "```\n",
    "O bloco do while será repetido enquando a expressâo booleana for verdadeira.\n"
   ]
  },
  {
   "cell_type": "code",
   "execution_count": null,
   "metadata": {},
   "outputs": [],
   "source": [
    "# Exemplo\n",
    "numero = 1\n",
    "\n",
    "while numero < 10:\n",
    "    print(numero)\n",
    "    numero = numero + 1"
   ]
  },
  {
   "cell_type": "markdown",
   "metadata": {},
   "source": [
    "OBS: Sempre em um look while, verificar o critério de parada, para não ocorrer um loop infinito"
   ]
  },
  {
   "cell_type": "code",
   "execution_count": 4,
   "metadata": {},
   "outputs": [],
   "source": [
    "resposta = ''\n",
    "\n",
    "while resposta != 'sim':\n",
    "    resposta = input('Já acabou Jéssica?  ')"
   ]
  },
  {
   "cell_type": "markdown",
   "metadata": {},
   "source": [
    "### 27 - Saindo de loops com break"
   ]
  },
  {
   "cell_type": "markdown",
   "metadata": {},
   "source": [
    "Utilizamos o break para sair de loops de manira projetada"
   ]
  },
  {
   "cell_type": "code",
   "execution_count": 1,
   "metadata": {},
   "outputs": [
    {
     "name": "stdout",
     "output_type": "stream",
     "text": [
      "1\n",
      "2\n",
      "3\n",
      "4\n",
      "5\n",
      "sai do loop\n"
     ]
    }
   ],
   "source": [
    "for numero in range(1, 10):\n",
    "    if numero == 6:\n",
    "        break\n",
    "    else:\n",
    "        print(numero)\n",
    "print('sai do loop')"
   ]
  }
 ],
 "metadata": {
  "kernelspec": {
   "display_name": "Python 3",
   "language": "python",
   "name": "python3"
  },
  "language_info": {
   "codemirror_mode": {
    "name": "ipython",
    "version": 3
   },
   "file_extension": ".py",
   "mimetype": "text/x-python",
   "name": "python",
   "nbconvert_exporter": "python",
   "pygments_lexer": "ipython3",
   "version": "3.13.0"
  }
 },
 "nbformat": 4,
 "nbformat_minor": 2
}
