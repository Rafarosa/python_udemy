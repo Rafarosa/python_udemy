{
 "cells": [
  {
   "cell_type": "markdown",
   "metadata": {},
   "source": [
    "### Exercicios Curso"
   ]
  },
  {
   "cell_type": "markdown",
   "metadata": {},
   "source": [
    "1. Faça um programa que leia um número inteiro e imprima-o."
   ]
  },
  {
   "cell_type": "code",
   "execution_count": 1,
   "metadata": {},
   "outputs": [
    {
     "name": "stdout",
     "output_type": "stream",
     "text": [
      "50\n"
     ]
    }
   ],
   "source": [
    "num = int(input('Por gentileza, informe um número: '))\n",
    "print(num)"
   ]
  },
  {
   "cell_type": "markdown",
   "metadata": {},
   "source": [
    "2. Faça um programa que peça para o usuário digitar três valores inteiro e imprima a soma deles."
   ]
  },
  {
   "cell_type": "code",
   "execution_count": 8,
   "metadata": {},
   "outputs": [
    {
     "name": "stdout",
     "output_type": "stream",
     "text": [
      "[1, 2, 3]\n",
      "6\n"
     ]
    }
   ],
   "source": [
    "lista_valor = []\n",
    "\n",
    "for valor in range(1,4):\n",
    "    val = int(input('intorme o valor:'))\n",
    "    lista_valor.append(val)\n",
    "print(lista_valor)\n",
    "\n",
    "soma = sum(lista_valor)\n",
    "print(soma)"
   ]
  },
  {
   "cell_type": "markdown",
   "metadata": {},
   "source": [
    "3. Faça um programa que recebe três valores e apresente a soma dos quadrados dos valores lidos."
   ]
  },
  {
   "cell_type": "code",
   "execution_count": 16,
   "metadata": {},
   "outputs": [
    {
     "name": "stdout",
     "output_type": "stream",
     "text": [
      "A soma dos numeros 1, 2, 3 é 14\n"
     ]
    }
   ],
   "source": [
    "valor1 = int(input('informe o primeiro valor'))\n",
    "valor2 = int(input('informe o segundo valor'))\n",
    "valor3 = int(input('informe o terceiro valor'))\n",
    "\n",
    "soma = (valor1**2)+(valor2**2)+(valor3**2)\n",
    "\n",
    "print(f'A soma dos numeros {valor1}, {valor2}, {valor3} é {soma}')"
   ]
  },
  {
   "cell_type": "markdown",
   "metadata": {},
   "source": [
    "1 - Faça um Programa que mostre a mensagem \"Alo mundo\" na tela."
   ]
  },
  {
   "cell_type": "code",
   "execution_count": 17,
   "metadata": {},
   "outputs": [
    {
     "name": "stdout",
     "output_type": "stream",
     "text": [
      "Alo mundo\n"
     ]
    }
   ],
   "source": [
    "print('Alo mundo')"
   ]
  },
  {
   "cell_type": "markdown",
   "metadata": {},
   "source": [
    "2 - Faça um Programa que peça um número e então mostre a mensagem O número informado foi [número]."
   ]
  },
  {
   "cell_type": "code",
   "execution_count": 18,
   "metadata": {},
   "outputs": [
    {
     "name": "stdout",
     "output_type": "stream",
     "text": [
      "O número informado foi 4\n"
     ]
    }
   ],
   "source": [
    "num_02 = int(input('Informe um número: '))\n",
    "print(f'O número informado foi {num_02}')"
   ]
  },
  {
   "cell_type": "markdown",
   "metadata": {},
   "source": [
    "3 - Faça um Programa que peça dois números e imprima a soma."
   ]
  },
  {
   "cell_type": "code",
   "execution_count": 19,
   "metadata": {},
   "outputs": [
    {
     "name": "stdout",
     "output_type": "stream",
     "text": [
      "A soma de 2.0 e 3.0 é 5.0\n"
     ]
    }
   ],
   "source": [
    "num_03_a = float(input('Informe o primeiro número: '))\n",
    "num_03_b = float(input('Informe o segundo número: '))\n",
    "\n",
    "soma = num_03_a + num_03_b\n",
    "\n",
    "print(f'A soma de {num_03_a} e {num_03_b} é {soma}')"
   ]
  },
  {
   "cell_type": "markdown",
   "metadata": {},
   "source": [
    "4 - Faça um Programa que peça as 4 notas bimestrais e mostre a média."
   ]
  },
  {
   "cell_type": "code",
   "execution_count": 20,
   "metadata": {},
   "outputs": [
    {
     "name": "stdout",
     "output_type": "stream",
     "text": [
      "Sua media no bimestre é 8.125\n"
     ]
    }
   ],
   "source": [
    "nota01 = float(input('Informe seu primeira nota do bimestre: '))\n",
    "nota02 = float(input('Informe seu segunda nota do bimestre: '))\n",
    "nota03 = float(input('Informe seu terceira nota do bimestre: '))\n",
    "nota04 = float(input('Informe seu quarta nota do bimestre: '))\n",
    "\n",
    "media_bimestral = (nota01 + nota02 + nota03 + nota04) / 4\n",
    "\n",
    "print(f'Sua media no bimestre é {media_bimestral}')"
   ]
  },
  {
   "cell_type": "markdown",
   "metadata": {},
   "source": [
    "5 - Faça um Programa que converta metros para centímetros."
   ]
  },
  {
   "cell_type": "code",
   "execution_count": 21,
   "metadata": {},
   "outputs": [
    {
     "name": "stdout",
     "output_type": "stream",
     "text": [
      "Convertendo 10.0m em centimetros, fica 1000.0cm\n"
     ]
    }
   ],
   "source": [
    "metros = float(input('Informe a medida em metros:'))\n",
    "centimetros = metros * 100\n",
    "\n",
    "print(f'Convertendo {metros}m em centimetros, fica {centimetros}cm')"
   ]
  },
  {
   "cell_type": "markdown",
   "metadata": {},
   "source": [
    "6 - Faça um Programa que peça o raio de um círculo, calcule e mostre sua área."
   ]
  },
  {
   "cell_type": "code",
   "execution_count": 22,
   "metadata": {},
   "outputs": [
    {
     "name": "stdout",
     "output_type": "stream",
     "text": [
      "A área do circulo com raio 12.0 é 452.16\n"
     ]
    }
   ],
   "source": [
    "raio = float(input('informe o raio do circulo para fazer o calculo: '))\n",
    "\n",
    "circulo = 3.14*(raio ** 2)\n",
    "\n",
    "print(f'A área do circulo com raio {raio} é {circulo}')\n"
   ]
  },
  {
   "cell_type": "markdown",
   "metadata": {},
   "source": [
    "7 - Faça um Programa que calcule a área de um quadrado, em seguida mostre o dobro desta área para o usuário."
   ]
  },
  {
   "cell_type": "code",
   "execution_count": 23,
   "metadata": {},
   "outputs": [
    {
     "name": "stdout",
     "output_type": "stream",
     "text": [
      "A área do quadrado com lado de 4.5 é 20.25\n"
     ]
    }
   ],
   "source": [
    "lado = float(input('Informe o lado do seu quadrado: '))\n",
    "\n",
    "quadrado = lado * lado\n",
    "\n",
    "print(f'A área do quadrado com lado de {lado} é {quadrado}')"
   ]
  },
  {
   "cell_type": "markdown",
   "metadata": {},
   "source": [
    "8 - Faça um Programa que pergunte quanto você ganha por hora e o número de horas trabalhadas no mês. Calcule e mostre o total do seu salário no referido mês."
   ]
  },
  {
   "cell_type": "code",
   "execution_count": 5,
   "metadata": {},
   "outputs": [
    {
     "name": "stdout",
     "output_type": "stream",
     "text": [
      "Seu salario é de R$480.0\n"
     ]
    }
   ],
   "source": [
    "valor_hora = float(input('informe o valor da sua hora trabalhada: '))\n",
    "h_trab = float(input('informe quantas horas você trabalhou esse mês: '))\n",
    "\n",
    "salario = (valor_hora * h_trab)\n",
    "\n",
    "print(f'Seu salario é de R${salario}')"
   ]
  },
  {
   "cell_type": "markdown",
   "metadata": {},
   "source": [
    "9 - Faça um Programa que peça a temperatura em graus Fahrenheit, transforme e mostre a temperatura em graus Celsius.\n",
    "C = 5 * ((F-32) / 9)."
   ]
  },
  {
   "cell_type": "code",
   "execution_count": 7,
   "metadata": {},
   "outputs": [
    {
     "name": "stdout",
     "output_type": "stream",
     "text": [
      "193.0 graus Fahrenheit equivalem a 89.44 graus Celsius\n"
     ]
    }
   ],
   "source": [
    "fah = float(input('Informe a temperatua em graus Fahrenheit para converter em Celsius:  '))\n",
    "\n",
    "cel = 5*((fah - 32) / 9)\n",
    "\n",
    "print(f'{fah} graus Fahrenheit equivalem a {cel:.2f} graus Celsius')"
   ]
  },
  {
   "cell_type": "markdown",
   "metadata": {},
   "source": [
    "10 - Faça um Programa que peça a temperatura em graus Celsius, transforme e mostre em graus Fahrenheit."
   ]
  },
  {
   "cell_type": "code",
   "execution_count": 8,
   "metadata": {},
   "outputs": [
    {
     "name": "stdout",
     "output_type": "stream",
     "text": [
      "50.0 graus Celsios equivalema a 122.0 graus Fahrenheit\n"
     ]
    }
   ],
   "source": [
    "cel = float(input('Informe a temperatua em graus Celsius para converter em Fahrenheit:  '))\n",
    "\n",
    "fah = (cel * (9/5)) + 32\n",
    "\n",
    "print(f'{cel} graus Celsios equivalema a {fah} graus Fahrenheit')"
   ]
  },
  {
   "cell_type": "markdown",
   "metadata": {},
   "source": [
    "11 - Faça um Programa que peça 2 números inteiros e um número real. Calcule e mostre:\n",
    " - o produto do dobro do primeiro com metade do segundo .\n",
    " - a soma do triplo do primeiro com o terceiro.\n",
    " - o terceiro elevado ao cubo"
   ]
  },
  {
   "cell_type": "code",
   "execution_count": 9,
   "metadata": {},
   "outputs": [
    {
     "name": "stdout",
     "output_type": "stream",
     "text": [
      "o produto do dobro do primeiro com metade do segundo é 14.0\n",
      "a soma do triplo do primeiro com o terceiro é 18.5\n",
      "o terceiro elevado ao cubo é 1953.125\n"
     ]
    }
   ],
   "source": [
    "num_11_a = int(input('Informe o primeiro número inteiro: '))\n",
    "num_11_b = int(input('Informe o segundo número inteiro: '))\n",
    "num_11_c = float(input('Informe um número real: '))\n",
    "\n",
    "cal_a = (2 * num_11_a)*(num_11_b / 2)\n",
    "cal_b = (3 * num_11_a) + num_11_c\n",
    "cal_c = num_11_c**3\n",
    "\n",
    "print(f'o produto do dobro do primeiro com metade do segundo é {cal_a}')\n",
    "print(f'a soma do triplo do primeiro com o terceiro é {cal_b}')\n",
    "print(f'o terceiro elevado ao cubo é {cal_c}')\n"
   ]
  },
  {
   "cell_type": "markdown",
   "metadata": {},
   "source": [
    "12 - Tendo como dados de entrada a altura de uma pessoa, construa um algoritmo que calcule seu peso ideal, usando a seguinte fórmula: (72.7*altura) - 58"
   ]
  },
  {
   "cell_type": "code",
   "execution_count": 10,
   "metadata": {},
   "outputs": [
    {
     "name": "stdout",
     "output_type": "stream",
     "text": [
      "Seu peso ideal é 71.406Kg\n"
     ]
    }
   ],
   "source": [
    "altu = float(input('Informe sua altura: '))\n",
    "\n",
    "peso_ideal = (72.7 * altu) - 58\n",
    "\n",
    "print(f'Seu peso ideal é {peso_ideal}Kg')"
   ]
  },
  {
   "cell_type": "markdown",
   "metadata": {},
   "source": [
    "13 - Tendo como dado de entrada a altura (h) de uma pessoa, construa um algoritmo que calcule seu peso ideal, utilizando as seguintes fórmulas:\n",
    " - Para homens: (72.7*h) - 58\n",
    " - Para mulheres: (62.1*h) - 44.7"
   ]
  },
  {
   "cell_type": "code",
   "execution_count": 15,
   "metadata": {},
   "outputs": [
    {
     "name": "stdout",
     "output_type": "stream",
     "text": [
      "Seu peso ideal é 71.41Kg\n"
     ]
    }
   ],
   "source": [
    "sexo = str(input('Informe seu sexo: (M - masculino | F - Feminino)'))\n",
    "altura = float(input('Informe sua altura'))\n",
    "\n",
    "if sexo.lower() == 'm':\n",
    "    peso_ideal = (72.7 * altura) - 58\n",
    "elif sexo.lower() == 'f':\n",
    "    peso_ideal = (62.1 * altura) - 44.7\n",
    "else:\n",
    "    print('Não corresponde..')\n",
    "\n",
    "print(f'Seu peso ideal é {peso_ideal:.2f}Kg')"
   ]
  },
  {
   "cell_type": "markdown",
   "metadata": {},
   "source": [
    "14 - João Papo-de-Pescador, homem de bem, comprou um microcomputador para controlar o rendimento diário de seu trabalho. Toda vez que ele traz um peso de peixes maior que o estabelecido pelo regulamento de pesca do estado de São Paulo (50 quilos) deve pagar uma multa de R$ 4,00 por quilo excedente. João precisa que você faça um programa que leia a variável peso (peso de peixes) e calcule o excesso. Gravar na variável excesso a quantidade de quilos além do limite e na variável multa o valor da multa que João deverá pagar. Imprima os dados do programa com as mensagens adequadas."
   ]
  },
  {
   "cell_type": "code",
   "execution_count": 6,
   "metadata": {},
   "outputs": [
    {
     "name": "stdout",
     "output_type": "stream",
     "text": [
      "você excedeu o limite de pesca hoje em 10.0, valor da multa é de R$40.0\n"
     ]
    }
   ],
   "source": [
    "peixe_pescado = float(input('informe o peso do peixe pescado: '))\n",
    "\n",
    "if peixe_pescado > 50:\n",
    "    peixe_mais = peixe_pescado - 50\n",
    "    multa = peixe_mais * 4\n",
    "    print(f\"você excedeu o limite de pesca hoje em {peixe_mais}, valor da multa é de R${multa}\")\n",
    "else:\n",
    "    print(f'Você pescou {peixe_pescado}, está dentro da regulamentação!!')"
   ]
  },
  {
   "cell_type": "markdown",
   "metadata": {},
   "source": [
    "15 - Faça um Programa que pergunte quanto você ganha por hora e o número de horas trabalhadas no mês. Calcule e mostre o total do seu salário no referido mês, sabendo-se que são descontados 11% para o Imposto de Renda, 8% para o INSS e 5% para o sindicato, faça um programa que nos dê:\n",
    " - salário bruto.\n",
    " - quanto pagou ao INSS.\n",
    " - quanto pagou ao sindicato.\n",
    " - o salário líquido.\n",
    " - calcule os descontos e o salário líquido, conforme a tabela abaixo:\n",
    "    - Salário Bruto : R$\n",
    "    - IR (11%) : R$\n",
    "    - INSS (8%) : R$\n",
    "    - Sindicato ( 5%) : R$\n",
    "    - Salário Liquido : R$"
   ]
  },
  {
   "cell_type": "code",
   "execution_count": 8,
   "metadata": {},
   "outputs": [
    {
     "name": "stdout",
     "output_type": "stream",
     "text": [
      "Salario Bruto: R$4000.0\n",
      " IR(11%): R$440.0 \n",
      " INSS(8%) : R$320.0 \n",
      " Sindicato(5%): R$200.0 \n",
      " Salário liquido: R$3040.0\n"
     ]
    }
   ],
   "source": [
    "valor_hora = float(input('informe o valor da sua hora trabalhada: '))\n",
    "h_trab = float(input('informe quantas horas você trabalhou esse mês: '))\n",
    "\n",
    "salario_bruto = (valor_hora * h_trab)\n",
    "ir = salario_bruto * 0.11\n",
    "inss = salario_bruto * 0.08\n",
    "sindicato = salario_bruto * 0.05\n",
    "\n",
    "salario_liq = salario_bruto - (ir + inss + sindicato)\n",
    "\n",
    "print(f'Salario Bruto: R${salario_bruto}\\n IR(11%): R${ir} \\n INSS(8%) : R${inss} \\n Sindicato(5%): R${sindicato} \\n Salário liquido: R${salario_liq}')"
   ]
  },
  {
   "cell_type": "markdown",
   "metadata": {},
   "source": [
    "16 - Faça um programa para uma loja de tintas. O programa deverá pedir o tamanho em metros quadrados da área a ser pintada. Considere que a cobertura da tinta é de 1 litro para cada 3 metros quadrados e que a tinta é vendida em latas de 18 litros, que custam R$ 80,00. Informe ao usuário a quantidades de latas de tinta a serem compradas e o preço total.\n"
   ]
  },
  {
   "cell_type": "code",
   "execution_count": null,
   "metadata": {},
   "outputs": [],
   "source": [
    "area_pintada = float(input('Informe a área em metros quadrados a ser pintada: '))\n",
    "\n",
    "cobertura_por_litros = 3\n",
    "litros_necessarios = area_pintada / cobertura_por_litros\n",
    "\n",
    "capacidade_lata = 18\n",
    "latas_necessarias = -(-litros_necessarios // capacidade_lata)\n",
    "\n",
    "custo_por_lata = 80.00 \n",
    "custo_total = latas_necessarias * custo_por_lata"
   ]
  },
  {
   "cell_type": "markdown",
   "metadata": {},
   "source": [
    "17 - Faça um Programa para uma loja de tintas. O programa deverá pedir o tamanho em metros quadrados da área a ser pintada. Considere que a cobertura da tinta é de 1 litro para cada 6 metros quadrados e que a tinta é vendida em latas de 18 litros, que custam R$ 80,00 ou em galões de 3,6 litros, que custam R$ 25,00.\n",
    "\n",
    "Informe ao usuário as quantidades de tinta a serem compradas e os respectivos preços em 3 situações:\n",
    " - comprar apenas latas de 18 litros;\n",
    " - comprar apenas galões de 3,6 litros;\n",
    " - misturar latas e galões, de forma que o desperdício de tinta seja menor. Acrescente 10% de folga e sempre arredonde os valores para cima, isto é, considere latas cheias."
   ]
  },
  {
   "cell_type": "markdown",
   "metadata": {},
   "source": [
    "18 - Faça um programa que peça o tamanho de um arquivo para download (em MB) e a velocidade de um link de Internet (em Mbps), calcule e informe o tempo aproximado de download do arquivo usando este link (em minutos).\n"
   ]
  }
 ],
 "metadata": {
  "kernelspec": {
   "display_name": "Python 3",
   "language": "python",
   "name": "python3"
  },
  "language_info": {
   "codemirror_mode": {
    "name": "ipython",
    "version": 3
   },
   "file_extension": ".py",
   "mimetype": "text/x-python",
   "name": "python",
   "nbconvert_exporter": "python",
   "pygments_lexer": "ipython3",
   "version": "3.13.0"
  }
 },
 "nbformat": 4,
 "nbformat_minor": 2
}
