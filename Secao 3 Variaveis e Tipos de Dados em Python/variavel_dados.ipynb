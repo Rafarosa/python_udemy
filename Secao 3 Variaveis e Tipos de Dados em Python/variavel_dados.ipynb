{
 "cells": [
  {
   "cell_type": "markdown",
   "metadata": {},
   "source": [
    "## Seção 3: Variáveis e Tipos de Dados em Python"
   ]
  },
  {
   "cell_type": "markdown",
   "metadata": {},
   "source": [
    "### Tipos numéricos"
   ]
  },
  {
   "cell_type": "markdown",
   "metadata": {},
   "source": [
    "#### Operador"
   ]
  },
  {
   "cell_type": "markdown",
   "metadata": {},
   "source": [
    "#### Soma ou concatenação"
   ]
  },
  {
   "cell_type": "code",
   "execution_count": null,
   "metadata": {},
   "outputs": [],
   "source": [
    "print(2 + 3)"
   ]
  },
  {
   "cell_type": "markdown",
   "metadata": {},
   "source": [
    "#### Subtração"
   ]
  },
  {
   "cell_type": "code",
   "execution_count": null,
   "metadata": {},
   "outputs": [],
   "source": [
    "print(12 - 4)"
   ]
  },
  {
   "cell_type": "markdown",
   "metadata": {},
   "source": [
    "#### Multiplicação"
   ]
  },
  {
   "cell_type": "code",
   "execution_count": null,
   "metadata": {},
   "outputs": [],
   "source": [
    "print(120 * 5)"
   ]
  },
  {
   "cell_type": "markdown",
   "metadata": {},
   "source": [
    "#### Divisão"
   ]
  },
  {
   "cell_type": "code",
   "execution_count": null,
   "metadata": {},
   "outputs": [],
   "source": [
    "print(15 / 5)"
   ]
  },
  {
   "cell_type": "markdown",
   "metadata": {},
   "source": [
    "#### Divisão de inteiro "
   ]
  },
  {
   "cell_type": "code",
   "execution_count": null,
   "metadata": {},
   "outputs": [],
   "source": [
    "print(13 // 5)"
   ]
  },
  {
   "cell_type": "markdown",
   "metadata": {},
   "source": [
    "#### Exponenciação"
   ]
  },
  {
   "cell_type": "code",
   "execution_count": null,
   "metadata": {},
   "outputs": [],
   "source": [
    "print(2 ** 3)"
   ]
  },
  {
   "cell_type": "markdown",
   "metadata": {},
   "source": [
    "#### Módulo de divisão de interiro"
   ]
  },
  {
   "cell_type": "code",
   "execution_count": null,
   "metadata": {},
   "outputs": [],
   "source": [
    "print(15 % 2)"
   ]
  },
  {
   "cell_type": "markdown",
   "metadata": {},
   "source": [
    "##### Atribuição"
   ]
  },
  {
   "cell_type": "code",
   "execution_count": null,
   "metadata": {},
   "outputs": [],
   "source": [
    "atribuicao = 1234"
   ]
  },
  {
   "cell_type": "markdown",
   "metadata": {},
   "source": [
    "| Operador | Descrição | Exemplos |\n",
    "| --- | --- | --- |\n",
    "| +=  | Igual ao operador aritmético de Adição.          |x += y |\n",
    "| -=  | Igual ao operador aritmético de Subtração.       |x -= y |\n",
    "| *=  | Igual ao operador aritmético de Multiplicação.   | x *= y |\n",
    "| /=  | Igual ao operador aritmético de Divisão.         | x /= y |\n",
    "| //= | Igual ao operador aritmético de Divisão inteira. | x //= y | \n",
    "| **= | Igual ao operador aritmético de Exponenciação.   | x **= y |\n",
    "| %=  | Igual ao operador aritmético de Módulo.          | x %= y |\n",
    "| &=  | Igual ao operador bitwise E bit a bit.           | x &= y |\n",
    "| `I=`| Igual ao operador bitwise OU bit a bit.        | x |= y |\n",
    "| ^=  | Igual ao operador bitwise OU exclusivo bit a bit (XOR). | x ^= y |\n",
    "| >>= | Igual ao operador bitwise Deslocamento à direita.  | x >>= n |\n",
    "| <<= | Igual ao operador bitwise Deslocamento à esquerda. | x <<=  | "
   ]
  }
 ],
 "metadata": {
  "language_info": {
   "name": "python"
  }
 },
 "nbformat": 4,
 "nbformat_minor": 2
}
