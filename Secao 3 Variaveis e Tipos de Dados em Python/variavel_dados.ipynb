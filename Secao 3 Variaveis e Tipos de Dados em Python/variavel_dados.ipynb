{
 "cells": [
  {
   "cell_type": "markdown",
   "metadata": {},
   "source": [
    "## Seção 3: Variáveis e Tipos de Dados em Python"
   ]
  },
  {
   "cell_type": "markdown",
   "metadata": {},
   "source": [
    "## 11. Tipos numéricos"
   ]
  },
  {
   "cell_type": "markdown",
   "metadata": {},
   "source": [
    "#### Operador"
   ]
  },
  {
   "cell_type": "markdown",
   "metadata": {},
   "source": [
    "#### Soma ou concatenação"
   ]
  },
  {
   "cell_type": "code",
   "execution_count": null,
   "metadata": {},
   "outputs": [],
   "source": [
    "print(2 + 3)"
   ]
  },
  {
   "cell_type": "markdown",
   "metadata": {},
   "source": [
    "#### Subtração"
   ]
  },
  {
   "cell_type": "code",
   "execution_count": null,
   "metadata": {},
   "outputs": [],
   "source": [
    "print(12 - 4)"
   ]
  },
  {
   "cell_type": "markdown",
   "metadata": {},
   "source": [
    "#### Multiplicação"
   ]
  },
  {
   "cell_type": "code",
   "execution_count": null,
   "metadata": {},
   "outputs": [],
   "source": [
    "print(120 * 5)"
   ]
  },
  {
   "cell_type": "markdown",
   "metadata": {},
   "source": [
    "#### Divisão"
   ]
  },
  {
   "cell_type": "code",
   "execution_count": null,
   "metadata": {},
   "outputs": [],
   "source": [
    "print(15 / 5)"
   ]
  },
  {
   "cell_type": "markdown",
   "metadata": {},
   "source": [
    "#### Divisão de inteiro "
   ]
  },
  {
   "cell_type": "code",
   "execution_count": null,
   "metadata": {},
   "outputs": [],
   "source": [
    "print(13 // 5)"
   ]
  },
  {
   "cell_type": "markdown",
   "metadata": {},
   "source": [
    "#### Exponenciação"
   ]
  },
  {
   "cell_type": "code",
   "execution_count": null,
   "metadata": {},
   "outputs": [],
   "source": [
    "print(2 ** 3)"
   ]
  },
  {
   "cell_type": "markdown",
   "metadata": {},
   "source": [
    "#### Módulo de divisão de interiro"
   ]
  },
  {
   "cell_type": "code",
   "execution_count": null,
   "metadata": {},
   "outputs": [],
   "source": [
    "print(15 % 2)"
   ]
  },
  {
   "cell_type": "markdown",
   "metadata": {},
   "source": [
    "##### Atribuição"
   ]
  },
  {
   "cell_type": "code",
   "execution_count": null,
   "metadata": {},
   "outputs": [],
   "source": [
    "atribuicao = 1234"
   ]
  },
  {
   "cell_type": "markdown",
   "metadata": {},
   "source": [
    "| Operador | Descrição | Exemplos |\n",
    "| --- | --- | --- |\n",
    "| +=  | Igual ao operador aritmético de Adição.          |x += y |\n",
    "| -=  | Igual ao operador aritmético de Subtração.       |x -= y |\n",
    "| *=  | Igual ao operador aritmético de Multiplicação.   | x *= y |\n",
    "| /=  | Igual ao operador aritmético de Divisão.         | x /= y |\n",
    "| //= | Igual ao operador aritmético de Divisão inteira. | x //= y | \n",
    "| **= | Igual ao operador aritmético de Exponenciação.   | x **= y |\n",
    "| %=  | Igual ao operador aritmético de Módulo.          | x %= y |\n",
    "| &=  | Igual ao operador bitwise E bit a bit.           | x &= y |\n",
    "| `I=`| Igual ao operador bitwise OU bit a bit.        | x |= y |\n",
    "| ^=  | Igual ao operador bitwise OU exclusivo bit a bit (XOR). | x ^= y |\n",
    "| >>= | Igual ao operador bitwise Deslocamento à direita.  | x >>= n |\n",
    "| <<= | Igual ao operador bitwise Deslocamento à esquerda. | x <<=  | "
   ]
  },
  {
   "cell_type": "markdown",
   "metadata": {},
   "source": [
    "## 12. O tipo float"
   ]
  },
  {
   "cell_type": "markdown",
   "metadata": {},
   "source": [
    "Tipo real, Casas decimais\n",
    "\n",
    "OBS: o separador de casas decimais na programação éo ponto e não virgula"
   ]
  },
  {
   "cell_type": "code",
   "execution_count": 2,
   "metadata": {},
   "outputs": [
    {
     "name": "stdout",
     "output_type": "stream",
     "text": [
      "(1, 44)\n",
      "<class 'tuple'>\n",
      "1.44\n",
      "<class 'float'>\n"
     ]
    }
   ],
   "source": [
    "# Errado do ponto de vista do float\n",
    "valor = 1,44\n",
    "print(valor)\n",
    "print(type(valor))\n",
    "\n",
    "\n",
    "# Certo do ponto de vista float \n",
    "valor = 1.44\n",
    "print(valor)\n",
    "print(type(valor))"
   ]
  },
  {
   "cell_type": "code",
   "execution_count": 3,
   "metadata": {},
   "outputs": [
    {
     "name": "stdout",
     "output_type": "stream",
     "text": [
      "1\n",
      "44\n"
     ]
    }
   ],
   "source": [
    "# É possivel fazer dupla atribuição\n",
    "valor1, valor2 = 1, 44\n",
    "print(valor1)\n",
    "print(valor2)"
   ]
  },
  {
   "cell_type": "code",
   "execution_count": 4,
   "metadata": {},
   "outputs": [
    {
     "name": "stdout",
     "output_type": "stream",
     "text": [
      "1.44\n",
      "<class 'float'>\n",
      "1\n",
      "<class 'int'>\n"
     ]
    }
   ],
   "source": [
    "# Podemos converter um float para um Int\n",
    "print(valor)\n",
    "print(type(valor))\n",
    "\n",
    "# Obs: Ao converter um valor float para int, perde-se o ponto flutuante\n",
    "res = int(valor)\n",
    "print(res)\n",
    "print(type(res))"
   ]
  },
  {
   "cell_type": "code",
   "execution_count": null,
   "metadata": {},
   "outputs": [],
   "source": [
    "# Podemos trabalhar com numeros Complexos\n",
    "\n",
    "variavel = 5j"
   ]
  },
  {
   "cell_type": "markdown",
   "metadata": {},
   "source": [
    "## 13. O tipo booleano"
   ]
  },
  {
   "cell_type": "markdown",
   "metadata": {},
   "source": [
    "Algebra Booleana\n",
    "\n",
    "2 constantes, verdadeiro ou falso\n",
    "\n",
    "SEMPRE com inicial em maiúscula\n",
    "True -> verdadeiro\n",
    "False -> falso\n"
   ]
  },
  {
   "cell_type": "code",
   "execution_count": 7,
   "metadata": {},
   "outputs": [
    {
     "name": "stdout",
     "output_type": "stream",
     "text": [
      "True\n"
     ]
    }
   ],
   "source": [
    "ativo = True\n",
    "logado = False\n",
    "print(ativo)"
   ]
  },
  {
   "cell_type": "markdown",
   "metadata": {},
   "source": [
    "Operação Negação (not)\n",
    "\n",
    "Fazer negação, se o valor booleano for verdadeiro, o resultado será falso.\n",
    "Se o valor booleano for falso, o resultado será verdadeiro"
   ]
  },
  {
   "cell_type": "code",
   "execution_count": 8,
   "metadata": {},
   "outputs": [
    {
     "name": "stdout",
     "output_type": "stream",
     "text": [
      "False\n"
     ]
    }
   ],
   "source": [
    "print(not ativo)"
   ]
  },
  {
   "cell_type": "markdown",
   "metadata": {},
   "source": [
    "Operações binárias - Tabela verdade -  OR (ou)\n",
    "\n",
    "Ou um ou outro deve ser verdadeiro para a condição ser verdadeira\n"
   ]
  },
  {
   "cell_type": "code",
   "execution_count": 9,
   "metadata": {},
   "outputs": [
    {
     "name": "stdout",
     "output_type": "stream",
     "text": [
      "True True False True\n",
      "Usuario logado no sistema: True\n"
     ]
    }
   ],
   "source": [
    "print(\n",
    "    True or True,\n",
    "    True or False,\n",
    "    False or False,\n",
    "    False or True\n",
    ")\n",
    "# Exemplo\n",
    "# Usuário logado no sistema\n",
    "\n",
    "print('Usuario logado no sistema:',ativo or logado)\n"
   ]
  },
  {
   "cell_type": "markdown",
   "metadata": {},
   "source": [
    "Operação AND(e)\n",
    "\n",
    "Ambas as condiçãoes devem ser verdadeiras para que o retorno seja verdadeiro\n"
   ]
  },
  {
   "cell_type": "code",
   "execution_count": 10,
   "metadata": {},
   "outputs": [
    {
     "name": "stdout",
     "output_type": "stream",
     "text": [
      "True False False False\n"
     ]
    }
   ],
   "source": [
    "print(\n",
    "    True and True,\n",
    "    True and False,\n",
    "    False and False,\n",
    "    False and True\n",
    ")"
   ]
  },
  {
   "cell_type": "markdown",
   "metadata": {},
   "source": [
    "### 14. Tipo String"
   ]
  },
  {
   "cell_type": "markdown",
   "metadata": {},
   "source": [
    "já vimos que em python, um dado é considerado um tipo string sempre que:\n",
    "- Estiver entre àspas simples -> 'uma string', '123', 'a', 'true', '43.6'\n",
    "- Estiver entre àspas duplas -> \"uma string\", \"123\", \"a\", \"true, \"43.6\"\n",
    "- Estiver entra àspas simples truplas: ''' texto, número ou booleano '''\n",
    "- Estiver entre àspas duplas triplas: "
   ]
  },
  {
   "cell_type": "code",
   "execution_count": 11,
   "metadata": {},
   "outputs": [
    {
     "name": "stdout",
     "output_type": "stream",
     "text": [
      "Rafael Rosa\n",
      "<class 'str'>\n",
      "Ginas's bar\n",
      "Angelina\n",
      "Jolie\n",
      "ANGELINA\n",
      "JOLIE\n",
      "rubens alamo\n",
      "[\"Ginas's\", 'bar']\n",
      "Angelina\n",
      "\n",
      "Angelina\n",
      "Jolie\n",
      "eiloJ\n",
      "anilegnA\n",
      "Ginqs's bqr\n"
     ]
    }
   ],
   "source": [
    "nome = 'Rafael Rosa'\n",
    "print(nome)\n",
    "print(type(nome))\n",
    "\n",
    "nomeComApostrofo = \"Ginas's bar\"\n",
    "print(nomeComApostrofo)\n",
    "\n",
    "nomeFamoso = 'Angelina\\nJolie'\n",
    "print(nomeFamoso)\n",
    "\n",
    "nomeFamoso2 = 'Rubens Alamo'\n",
    "\n",
    "print(nomeFamoso.upper()) # todas as letras maiúsculas\n",
    "print(nomeFamoso2.lower())# todas as letras em minúsculas\n",
    "print(nomeComApostrofo.split())# transforma a string em uma lista de strings\n",
    "\n",
    "# toda a string é uma lista e pode ser acessado cada uma das 'letra' da palavras\n",
    "print(nomeFamoso[0:9])\n",
    "print(nomeFamoso.split()[0])\n",
    "print(nomeFamoso.split()[1])\n",
    "\n",
    "#invertendo a ordem da string \n",
    "print(nomeFamoso[::-1])\n",
    "\n",
    "# Substituição de caracteres\n",
    "print(nomeComApostrofo.replace('a', 'q'))"
   ]
  },
  {
   "cell_type": "markdown",
   "metadata": {},
   "source": [
    "###"
   ]
  }
 ],
 "metadata": {
  "kernelspec": {
   "display_name": "Python 3",
   "language": "python",
   "name": "python3"
  },
  "language_info": {
   "codemirror_mode": {
    "name": "ipython",
    "version": 3
   },
   "file_extension": ".py",
   "mimetype": "text/x-python",
   "name": "python",
   "nbconvert_exporter": "python",
   "pygments_lexer": "ipython3",
   "version": "3.13.1"
  }
 },
 "nbformat": 4,
 "nbformat_minor": 2
}
