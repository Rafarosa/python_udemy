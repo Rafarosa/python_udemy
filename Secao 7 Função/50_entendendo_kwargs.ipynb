{
 "cells": [
  {
   "cell_type": "markdown",
   "metadata": {},
   "source": [
    "### *kwargs"
   ]
  },
  {
   "cell_type": "markdown",
   "metadata": {},
   "source": [
    "Poderíamos chamar este parâmetro de **xis, mas por convenção chamamos de **kwargs\n",
    "\n",
    "Este é só mais um parâmetro, mas diferente do *args que coloca os valores extras\n",
    "em uma tupla, o **kwargs exige que utilizemos parâmetros nomeados, e transforma esses\n",
    "parâmetros extras em um dicionário."
   ]
  },
  {
   "cell_type": "code",
   "execution_count": 1,
   "metadata": {},
   "outputs": [
    {
     "name": "stdout",
     "output_type": "stream",
     "text": [
      "A cor favorita de Marcos é verde\n",
      "A cor favorita de Julia é amarelo\n",
      "A cor favorita de Fernanda é azul\n",
      "A cor favorita de Vanessa é branco\n"
     ]
    }
   ],
   "source": [
    "#Exemplo\n",
    "\n",
    "def cores_favoritas(**kwargs):\n",
    "    for pessoa, cor in kwargs.items():\n",
    "        print(f'A cor favorita de {pessoa.title()} é {cor}')\n",
    "\n",
    "cores_favoritas(marcos='verde', julia='amarelo', fernanda='azul', vanessa='branco')\n"
   ]
  },
  {
   "cell_type": "code",
   "execution_count": 2,
   "metadata": {},
   "outputs": [
    {
     "name": "stdout",
     "output_type": "stream",
     "text": [
      "A cor favorita de Geek é navy\n"
     ]
    }
   ],
   "source": [
    "# OBS: Os parâmetros *args e **kwargs não são obrigatórios.\n",
    "\n",
    "cores_favoritas()\n",
    "\n",
    "cores_favoritas(geek='navy')\n"
   ]
  },
  {
   "cell_type": "code",
   "execution_count": 3,
   "metadata": {},
   "outputs": [
    {
     "name": "stdout",
     "output_type": "stream",
     "text": [
      "Não tenho certeza de quem você é\n",
      "Você recebeu um cumprimento Pythonico Geek\n",
      "Oi Geek!\n",
      "especial Geek!\n"
     ]
    }
   ],
   "source": [
    "#Exemplos mais complexos \n",
    "\n",
    "def cumprimento_especial(**Kwargs):\n",
    "    if 'geek' in Kwargs and Kwargs['geek'] == 'Python':\n",
    "        return 'Você recebeu um cumprimento Pythonico Geek'\n",
    "    elif 'geek' in Kwargs:\n",
    "        return f\"{Kwargs['geek']} Geek!\"\n",
    "    return 'Não tenho certeza de quem você é'\n",
    "\n",
    "print(cumprimento_especial())\n",
    "print(cumprimento_especial(geek='Python'))\n",
    "print(cumprimento_especial(geek='Oi'))\n",
    "print(cumprimento_especial(geek='especial'))"
   ]
  },
  {
   "cell_type": "markdown",
   "metadata": {},
   "source": [
    "#### Nas nossas funções, podemos ter (NESTA ORDEM):\n",
    "\n",
    "- Parâmetros obrigatórios;\n",
    "- *args;\n",
    "- Parâmetros detault (não obrigatórios);\n",
    "- **kwargs"
   ]
  },
  {
   "cell_type": "code",
   "execution_count": null,
   "metadata": {},
   "outputs": [],
   "source": [
    "def minha_funcao(idade, nome, *args, solteiro=False, **kwargs):\n",
    "    print(f'{nome} tem {idade} anos')\n",
    "    print(args)\n",
    "    if solteiro:\n",
    "        print('Solteiro')\n",
    "    else:\n",
    "        print('Casado')\n",
    "    print(kwargs)\n",
    "\n",
    "\n",
    "minha_funcao(8, 'Julia')\n",
    "minha_funcao(18, 'Felicity', 4, 5, 3, solteiro=True)\n",
    "minha_funcao(34, 'Felipe', eu='Não', voce='Vai')\n",
    "minha_funcao(19, 'Carla', 9, 4, 3, java=False, python=True)"
   ]
  },
  {
   "cell_type": "code",
   "execution_count": null,
   "metadata": {},
   "outputs": [],
   "source": [
    "# Função com a ordem correta de parâmetros\n",
    "def mostra_info(a, b, *args, instrutor='Geek', **kwargs):\n",
    "    return [a, b, args, instrutor, kwargs]\n",
    "\n",
    "# Função com a ordem incorreta de parâmetros\n",
    "def mostra_info(a, b, instrutor='Geek', *args, **kwargs):\n",
    "    return [a, b, args, instrutor, kwargs]"
   ]
  },
  {
   "cell_type": "code",
   "execution_count": null,
   "metadata": {},
   "outputs": [],
   "source": [
    "a = 1\n",
    "b = 2\n",
    "args = (3,)\n",
    "instrutor = 'Geek'\n",
    "kwargs = {'sobrenome': 'University', 'cargo': 'Instrutor'}\n",
    "\n",
    "\n",
    "print(mostra_info(1, 2, 3, sobrenome='University', cargo='Instrutor'))"
   ]
  },
  {
   "cell_type": "markdown",
   "metadata": {},
   "source": [
    "#### Desempacotar com **kwargs"
   ]
  },
  {
   "cell_type": "code",
   "execution_count": null,
   "metadata": {},
   "outputs": [],
   "source": [
    "def mostra_nomes(**kwargs):\n",
    "    return f\"{kwargs['nome']} {kwargs['sobrenome']}\"\n",
    "\n",
    "\n",
    "nomes = {'nome': 'Felicity', 'sobrenome': 'Jones'}\n",
    "\n",
    "print(mostra_nomes(**nomes))"
   ]
  },
  {
   "cell_type": "code",
   "execution_count": null,
   "metadata": {},
   "outputs": [],
   "source": [
    "def soma_multiplos_numeros(a, b, c, **kwargs):\n",
    "    print(a + b + c)\n",
    "\n",
    "\n",
    "lista = [1, 2, 3]\n",
    "tupla = (1, 2, 3)\n",
    "conjunto = {1, 2, 3}\n",
    "\n",
    "soma_multiplos_numeros(*lista)\n",
    "soma_multiplos_numeros(*tupla)\n",
    "soma_multiplos_numeros(*conjunto)"
   ]
  },
  {
   "cell_type": "code",
   "execution_count": null,
   "metadata": {},
   "outputs": [],
   "source": [
    "dicionario = dict(a=1, b=2, c=3)\n",
    "\n",
    "soma_multiplos_numeros(**dicionario)"
   ]
  },
  {
   "cell_type": "code",
   "execution_count": null,
   "metadata": {},
   "outputs": [],
   "source": [
    "# OBS! Os nomes da chave em um dicionário devem ser os mesmos dos parâmetros da função\n",
    "\n",
    "# dicionario = dict(d=1, e=2, f=3)  # TypeError\n",
    "# soma_multiplos_numeros(**dicionario)\n",
    "\n",
    "dicionario = dict(a=1, b=2, c=3, nome='Geek')\n",
    "\n",
    "soma_multiplos_numeros(**dicionario, lang='Python')"
   ]
  }
 ],
 "metadata": {
  "kernelspec": {
   "display_name": "Python 3",
   "language": "python",
   "name": "python3"
  },
  "language_info": {
   "codemirror_mode": {
    "name": "ipython",
    "version": 3
   },
   "file_extension": ".py",
   "mimetype": "text/x-python",
   "name": "python",
   "nbconvert_exporter": "python",
   "pygments_lexer": "ipython3",
   "version": "3.13.1"
  }
 },
 "nbformat": 4,
 "nbformat_minor": 2
}
