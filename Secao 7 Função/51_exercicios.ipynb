{
 "cells": [
  {
   "cell_type": "markdown",
   "metadata": {},
   "source": []
  },
  {
   "cell_type": "markdown",
   "metadata": {},
   "source": [
    "# EXercicios para praticar Funções"
   ]
  },
  {
   "cell_type": "markdown",
   "metadata": {},
   "source": [
    "1. Crie um programa que tenha uma função que recebe um parâmetro inteiro e devolve o seu dobro."
   ]
  },
  {
   "cell_type": "code",
   "execution_count": 1,
   "metadata": {},
   "outputs": [
    {
     "name": "stdout",
     "output_type": "stream",
     "text": [
      "8\n"
     ]
    }
   ],
   "source": [
    "def devolve_dobro(num1):\n",
    "    return num1 * 2\n",
    "\n",
    "numero = int(input('Informe um número interio para revelar o seu dobro: '))\n",
    "\n",
    "print(devolve_dobro(numero))"
   ]
  },
  {
   "cell_type": "markdown",
   "metadata": {},
   "source": [
    "2. Faça um programa que tenha uma função que recebe uma data no formato string exemplo “01/01/2024” e \n",
    "imprima ela por extenso como “1 de janeiro de 20204”."
   ]
  },
  {
   "cell_type": "code",
   "execution_count": 9,
   "metadata": {},
   "outputs": [
    {
     "name": "stdout",
     "output_type": "stream",
     "text": [
      "Data informada é: 05 de Maio de 1989\n"
     ]
    }
   ],
   "source": [
    "def data_extenso(data_recebida):\n",
    "    meses = ['Janeiro', 'Fevereiro', 'Março', 'Abril', 'Maio', 'Junho', 'Julho', 'Agosto', 'Setembro', 'Outubro', 'Novembro', 'Dezembro']\n",
    "    dia, mes, ano = data_recebida.split('/')\n",
    "    return f'Data informada é: {dia} de {meses[int(mes) -1]} de {ano}'\n",
    "\n",
    "print(data_extenso('05/05/1989'))\n"
   ]
  },
  {
   "cell_type": "markdown",
   "metadata": {},
   "source": [
    "3. Faça um programa que tenha uma função que receba uma lista de inteiros e retorne o maior valor.\n"
   ]
  },
  {
   "cell_type": "code",
   "execution_count": null,
   "metadata": {},
   "outputs": [
    {
     "name": "stdout",
     "output_type": "stream",
     "text": [
      "O maior valor da [2, 3, 5, 10, 89, 23] é 89\n"
     ]
    },
    {
     "ename": "",
     "evalue": "",
     "output_type": "error",
     "traceback": [
      "\u001b[1;31mO Kernel deu pane ao executar o código na célula atual ou em uma célula anterior. \n",
      "\u001b[1;31mAnalise o código nas células para identificar uma possível causa da pane. \n",
      "\u001b[1;31mClique <a href='https://aka.ms/vscodeJupyterKernelCrash'>aqui</a> para obter mais informações. \n",
      "\u001b[1;31mConsulte Jupyter <a href='command:jupyter.viewOutput'>log</a> para obter mais detalhes."
     ]
    }
   ],
   "source": [
    "def maior_valor(inteiros: list[int]) -> int:\n",
    "    return max(inteiros)\n",
    "\n",
    "\n",
    "if __name__== '__main__':\n",
    "    lista: list[int] = [2, 3, 5, 10, 89, 23]\n",
    "    print(f'O maior valor da {lista} é {maior_valor(lista)}')\n",
    "\n"
   ]
  }
 ],
 "metadata": {
  "kernelspec": {
   "display_name": "Python 3",
   "language": "python",
   "name": "python3"
  },
  "language_info": {
   "codemirror_mode": {
    "name": "ipython",
    "version": 3
   },
   "file_extension": ".py",
   "mimetype": "text/x-python",
   "name": "python",
   "nbconvert_exporter": "python",
   "pygments_lexer": "ipython3",
   "version": "3.13.1"
  }
 },
 "nbformat": 4,
 "nbformat_minor": 2
}
