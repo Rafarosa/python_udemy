{
 "cells": [
  {
   "cell_type": "markdown",
   "metadata": {},
   "source": [
    "###  Entendendo o *args"
   ]
  },
  {
   "cell_type": "markdown",
   "metadata": {},
   "source": [
    "O *args é um parâmetro, como outro qualquer. Isso significa que você poderá\n",
    "charmar de qualquer coisa, desde que começe com asterisco."
   ]
  },
  {
   "cell_type": "code",
   "execution_count": null,
   "metadata": {},
   "outputs": [],
   "source": [
    "#Exemplo\n",
    "# *x"
   ]
  },
  {
   "cell_type": "markdown",
   "metadata": {},
   "source": [
    "Mas por convenção, utilizamos *args para definí-lo"
   ]
  },
  {
   "cell_type": "markdown",
   "metadata": {},
   "source": [
    "### Mas o que é o *args?\n",
    "O parâmetro *args utilizado em uma função, coloca os valores extras informados como\n",
    "entrada em uma tupla. Então desde já lembre-se que tuplas são imutáveis."
   ]
  },
  {
   "cell_type": "code",
   "execution_count": null,
   "metadata": {},
   "outputs": [],
   "source": [
    "# Exemplo normal de função\n",
    "# Validando dados com os parâmetros pré definidos na função\n",
    "def soma_todos_numeros(num1=1, num2=2, num3=3, num4=4):\n",
    "    return num1 + num2 + num3 + num4\n",
    "\n",
    "print(soma_todos_numeros(4, 6, 9))\n",
    "\n",
    "print(soma_todos_numeros(4, 6))\n",
    "\n",
    "print(soma_todos_numeros(4, 6, 9, 5))"
   ]
  },
  {
   "cell_type": "code",
   "execution_count": 5,
   "metadata": {},
   "outputs": [
    {
     "name": "stdout",
     "output_type": "stream",
     "text": [
      "18\n",
      "33\n"
     ]
    }
   ],
   "source": [
    "# Exemplo utilizando args\n",
    "\n",
    "def soma_todos_numero_args(*args):\n",
    "    return sum(args)\n",
    "\n",
    "# Aqui podemos unformar quantos parâmetros sejam necessarios sem importar em definilos na função\n",
    "print(soma_todos_numero_args(3, 4, 5, 6))\n",
    "print(soma_todos_numero_args(3, 4, 5, 6, 7, 8))\n"
   ]
  },
  {
   "cell_type": "code",
   "execution_count": 6,
   "metadata": {},
   "outputs": [
    {
     "name": "stdout",
     "output_type": "stream",
     "text": [
      "Eu não tenho certeza quem você é\n",
      "Bem vindo Geek\n",
      "Eu não tenho certeza quem você é\n"
     ]
    }
   ],
   "source": [
    "# Exemplo com strings em *args\n",
    "\n",
    "def verifica_info(*args):\n",
    "    if 'Geek' in args and 'University' in args:\n",
    "        return 'Bem vindo Geek'\n",
    "    return 'Eu não tenho certeza quem você é'\n",
    "\n",
    "print(verifica_info())\n",
    "print(verifica_info(1, True, 'University', 'Geek'))\n",
    "print(verifica_info(1, 'University', 3.145))"
   ]
  },
  {
   "cell_type": "markdown",
   "metadata": {},
   "source": [
    "### Desempacotador (Dica)\n",
    "\n"
   ]
  },
  {
   "cell_type": "code",
   "execution_count": null,
   "metadata": {},
   "outputs": [
    {
     "ename": "TypeError",
     "evalue": "unsupported operand type(s) for +: 'int' and 'list'",
     "output_type": "error",
     "traceback": [
      "\u001b[1;31m---------------------------------------------------------------------------\u001b[0m",
      "\u001b[1;31mTypeError\u001b[0m                                 Traceback (most recent call last)",
      "Cell \u001b[1;32mIn[7], line 10\u001b[0m\n\u001b[0;32m      5\u001b[0m \u001b[38;5;66;03m# print(soma_todos_numeros())\u001b[39;00m\n\u001b[0;32m      6\u001b[0m \u001b[38;5;66;03m# print(soma_todos_numeros(3, 4, 5, 6))\u001b[39;00m\n\u001b[0;32m      8\u001b[0m numeros \u001b[38;5;241m=\u001b[39m [\u001b[38;5;241m1\u001b[39m, \u001b[38;5;241m2\u001b[39m, \u001b[38;5;241m3\u001b[39m, \u001b[38;5;241m4\u001b[39m, \u001b[38;5;241m5\u001b[39m, \u001b[38;5;241m6\u001b[39m, \u001b[38;5;241m7\u001b[39m]\n\u001b[1;32m---> 10\u001b[0m \u001b[38;5;28mprint\u001b[39m(\u001b[43msoma_todos_numeros\u001b[49m\u001b[43m(\u001b[49m\u001b[43mnumeros\u001b[49m\u001b[43m)\u001b[49m)\n",
      "Cell \u001b[1;32mIn[7], line 2\u001b[0m, in \u001b[0;36msoma_todos_numeros\u001b[1;34m(*args)\u001b[0m\n\u001b[0;32m      1\u001b[0m \u001b[38;5;28;01mdef\u001b[39;00m \u001b[38;5;21msoma_todos_numeros\u001b[39m(\u001b[38;5;241m*\u001b[39margs):\n\u001b[1;32m----> 2\u001b[0m     \u001b[38;5;28;01mreturn\u001b[39;00m \u001b[38;5;28;43msum\u001b[39;49m\u001b[43m(\u001b[49m\u001b[43margs\u001b[49m\u001b[43m)\u001b[49m\n",
      "\u001b[1;31mTypeError\u001b[0m: unsupported operand type(s) for +: 'int' and 'list'"
     ]
    }
   ],
   "source": [
    "def soma_todos_numeros(*args):\n",
    "    return sum(args)\n",
    "\n",
    "\n",
    "# print(soma_todos_numeros())\n",
    "# print(soma_todos_numeros(3, 4, 5, 6))\n",
    "\n",
    "numeros = [1, 2, 3, 4, 5, 6, 7]\n",
    "\n",
    "#Caso tente executar a função com uma lista será apresentado TypeError\n",
    "\n",
    "print(soma_todos_numeros(numeros))\n"
   ]
  },
  {
   "cell_type": "code",
   "execution_count": null,
   "metadata": {},
   "outputs": [
    {
     "name": "stdout",
     "output_type": "stream",
     "text": [
      "28\n"
     ]
    }
   ],
   "source": [
    "# OBS: O asterisco serve para que informemos ao Python que estamos\n",
    "# passando como argumento uma coleção de dados. Desta forma, ele saberá\n",
    "# que precisará antes desempacotar estes dados.\n",
    "\n",
    "numeros = [1, 2, 3, 4, 5, 6, 7]\n",
    "                         #  |\n",
    "print(soma_todos_numeros(*numeros))\n"
   ]
  }
 ],
 "metadata": {
  "kernelspec": {
   "display_name": "Python 3",
   "language": "python",
   "name": "python3"
  },
  "language_info": {
   "codemirror_mode": {
    "name": "ipython",
    "version": 3
   },
   "file_extension": ".py",
   "mimetype": "text/x-python",
   "name": "python",
   "nbconvert_exporter": "python",
   "pygments_lexer": "ipython3",
   "version": "3.13.1"
  }
 },
 "nbformat": 4,
 "nbformat_minor": 2
}
