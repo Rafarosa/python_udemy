{
 "cells": [
  {
   "cell_type": "markdown",
   "metadata": {},
   "source": [
    "### Função com parâmetro padrão (Default Paramters)\n"
   ]
  },
  {
   "cell_type": "markdown",
   "metadata": {},
   "source": [
    "Função onde a passagem de parâmetro é opcional"
   ]
  },
  {
   "cell_type": "code",
   "execution_count": 7,
   "metadata": {},
   "outputs": [
    {
     "name": "stdout",
     "output_type": "stream",
     "text": [
      "Texto qualquer\n",
      "\n"
     ]
    }
   ],
   "source": [
    "# Exemplo de função onde a passagem de parâmetro seja opcional - Função print()\n",
    "\n",
    "print('Texto qualquer')\n",
    "print()"
   ]
  },
  {
   "cell_type": "code",
   "execution_count": 8,
   "metadata": {},
   "outputs": [
    {
     "name": "stdout",
     "output_type": "stream",
     "text": [
      "9\n"
     ]
    },
    {
     "ename": "TypeError",
     "evalue": "quadrado() missing 1 required positional argument: 'numero'",
     "output_type": "error",
     "traceback": [
      "\u001b[1;31m---------------------------------------------------------------------------\u001b[0m",
      "\u001b[1;31mTypeError\u001b[0m                                 Traceback (most recent call last)",
      "Cell \u001b[1;32mIn[8], line 7\u001b[0m\n\u001b[0;32m      4\u001b[0m     \u001b[38;5;28;01mreturn\u001b[39;00m numero\u001b[38;5;241m*\u001b[39m\u001b[38;5;241m*\u001b[39m\u001b[38;5;241m2\u001b[39m\n\u001b[0;32m      6\u001b[0m \u001b[38;5;28mprint\u001b[39m(quadrado(\u001b[38;5;241m3\u001b[39m))\n\u001b[1;32m----> 7\u001b[0m \u001b[38;5;28mprint\u001b[39m(\u001b[43mquadrado\u001b[49m\u001b[43m(\u001b[49m\u001b[43m)\u001b[49m) \u001b[38;5;66;03m#typeError\u001b[39;00m\n",
      "\u001b[1;31mTypeError\u001b[0m: quadrado() missing 1 required positional argument: 'numero'"
     ]
    }
   ],
   "source": [
    "# Exemplo de função onde o paraâmetro é obrigatório\n",
    "\n",
    "def quadrado(numero):\n",
    "    return numero**2\n",
    "\n",
    "print(quadrado(3))\n",
    "print(quadrado()) #typeError"
   ]
  },
  {
   "cell_type": "code",
   "execution_count": null,
   "metadata": {},
   "outputs": [
    {
     "name": "stdout",
     "output_type": "stream",
     "text": [
      "8\n",
      "9\n",
      "9\n",
      "243\n",
      "1024\n"
     ]
    }
   ],
   "source": [
    "# Exemplo de função com parâmero é opcional e tem valor padrão\n",
    "\n",
    "def exponencial(numero=4, potencia=2):\n",
    "    return numero ** potencia\n",
    "\n",
    "print(exponencial(2,3))\n",
    "print(exponencial(3,2))\n",
    "print(exponencial(3))\n",
    "print(exponencial(3,5))\n",
    "print(exponencial(potencia=5))\n",
    "\n",
    "\n"
   ]
  },
  {
   "cell_type": "markdown",
   "metadata": {},
   "source": [
    "OBS\n",
    "- Se o usuário passar somente 1 argumento, este será atribuído ao parâmetro numero, e será calculado o quadrado deste número;\n",
    "- Se o usuário passar 2 argumentos, o primeiro será atribuído ao parâmetro numero e o segundo ao parâmetro potencia. Então\n",
    "- será calculada esta potência."
   ]
  },
  {
   "cell_type": "code",
   "execution_count": 9,
   "metadata": {},
   "outputs": [
    {
     "name": "stdout",
     "output_type": "stream",
     "text": [
      "16\n"
     ]
    }
   ],
   "source": [
    "print(exponencial())"
   ]
  },
  {
   "cell_type": "markdown",
   "metadata": {},
   "source": [
    "OBS: Em funções Python, os parâmetros com valores default (padrão) **DEVEM** sempre estar ao final da declaração."
   ]
  },
  {
   "cell_type": "code",
   "execution_count": null,
   "metadata": {},
   "outputs": [
    {
     "name": "stdout",
     "output_type": "stream",
     "text": [
      "64\n"
     ]
    }
   ],
   "source": [
    "# ERRO\n",
    "def teste(potencia, num=2):\n",
    "    return num ** potencia\n",
    "\n",
    "print(teste(6))"
   ]
  },
  {
   "cell_type": "code",
   "execution_count": 11,
   "metadata": {},
   "outputs": [
    {
     "name": "stdout",
     "output_type": "stream",
     "text": [
      "7\n",
      "7\n",
      "8\n"
     ]
    }
   ],
   "source": [
    "# Outros exemplos\n",
    "\n",
    "def soma(num1=5, num2=3):\n",
    "    return num1 + num2\n",
    "\n",
    "\n",
    "print(soma(4, 3))\n",
    "print(soma(4))\n",
    "print(soma())"
   ]
  },
  {
   "cell_type": "code",
   "execution_count": 12,
   "metadata": {},
   "outputs": [
    {
     "name": "stdout",
     "output_type": "stream",
     "text": [
      "Eu pensei que você era o instrutor\n",
      "Bem-vindo instrutor Geek!\n",
      "Olá True\n",
      "Olá Ozzy\n",
      "Olá Stephany\n"
     ]
    }
   ],
   "source": [
    "#  Exemplo mais complexo\n",
    "\n",
    "\n",
    "def mostra_informacao(nome='Geek', instrutor=False):\n",
    "    if nome == 'Geek' and instrutor:\n",
    "        return 'Bem-vindo instrutor Geek!'\n",
    "    elif nome == 'Geek':\n",
    "        return 'Eu pensei que você era o instrutor'\n",
    "    return f'Olá {nome}'\n",
    "\n",
    "\n",
    "print(mostra_informacao())\n",
    "print(mostra_informacao(instrutor=True))\n",
    "print(mostra_informacao(True))\n",
    "print(mostra_informacao('Ozzy'))\n",
    "print(mostra_informacao(nome='Stephany'))"
   ]
  },
  {
   "cell_type": "markdown",
   "metadata": {},
   "source": [
    "### Por quê utilizar parâmetros com valor default?\n",
    "\n",
    "- Nos permite ser mais flexíveis nas funções;\n",
    "- Evita erros com parâmetros incorretos;\n",
    "- Nos permite trabalhar com exemplos mais legíveis de código;"
   ]
  },
  {
   "cell_type": "markdown",
   "metadata": {},
   "source": [
    "### Quais tipos de dados podemos utilizar como valores default para parâmetros?\n",
    "\n",
    "- Qualquer tipo de dado:\n",
    "    - Números, strings, floats, booleanos, listas, tuplas, dicionários, funções e etc;"
   ]
  },
  {
   "cell_type": "code",
   "execution_count": 13,
   "metadata": {},
   "outputs": [
    {
     "name": "stdout",
     "output_type": "stream",
     "text": [
      "5\n",
      "0\n"
     ]
    }
   ],
   "source": [
    "# Exemplos\n",
    "\n",
    "def soma(num1, num2):\n",
    "    return num1 + num2\n",
    "\n",
    "\n",
    "def mat(num1, num2, fun=soma):\n",
    "    return fun(num1, num2)\n",
    "\n",
    "\n",
    "def subtracao(num1, num2):\n",
    "    return num1 - num2\n",
    "\n",
    "\n",
    "print(mat(2, 3))\n",
    "print(mat(2, 2, subtracao))"
   ]
  },
  {
   "cell_type": "markdown",
   "metadata": {},
   "source": [
    "### Escopo de variável\n",
    "Evitar problemas e confusões\n",
    "\n",
    "Sempre preste atenção em variaveis\n",
    "- Variáveis globais\n",
    "- Variáveis locais"
   ]
  },
  {
   "cell_type": "code",
   "execution_count": null,
   "metadata": {},
   "outputs": [],
   "source": [
    "instrutor = 'Geek'  # Variável global\n",
    "\n",
    "\n",
    "def diz_oi():\n",
    "    instrutor = 'Python'  # Variável local\n",
    "    return f'Oi {instrutor}'\n",
    "\n",
    "\n",
    "print(diz_oi())\n",
    "\n",
    "#OBS: Se tivermos uma variável local com o mesmo nome de uma variável global, a local terá preferência.\n",
    "\n",
    "def diz_oi():\n",
    "    prof = 'Geek'  # Variável local\n",
    "    return f'Olá {prof}'\n",
    "\n",
    "\n",
    "print(diz_oi())\n",
    "\n",
    "print(prof)  # NameError\n",
    "\n",
    "# ATENÇÃO com variáveis globais (Se puder evitar, evite!)\n",
    "\n",
    "total = 0\n",
    "\n",
    "\n",
    "def incrementa():\n",
    "    total = total + 1  # UnboundLocalError (A variável local está sendo utilizada para processamento sem ter sido inicializada)\n",
    "    return total\n",
    "\n",
    "print(incrementa())\n",
    "\n",
    "# ATENÇÃO com variáveis globais (Se puder evitar, evite!)\n",
    "\n",
    "total = 0\n",
    "\n",
    "\n",
    "def incrementa():\n",
    "    global total  # Avisando que queremos utilizar a variável global\n",
    "\n",
    "    total = total + 1\n",
    "    return total\n",
    "\n",
    "print(incrementa())\n",
    "print(incrementa())\n",
    "print(incrementa())\n",
    "\n",
    "# Podemos ter funções que são declaradas dentro de funções, e também tem uma forma especial de escopo de variável\n",
    "\n",
    "def fora():\n",
    "    contador = 0\n",
    "\n",
    "    def dentro():\n",
    "        nonlocal contador\n",
    "\n",
    "        contador = contador + 1\n",
    "        return contador\n",
    "    return dentro()\n",
    "\n",
    "\n",
    "print(fora())\n",
    "print(fora())\n",
    "print(fora())\n",
    "\n",
    "print(dentro())  # NameError"
   ]
  }
 ],
 "metadata": {
  "kernelspec": {
   "display_name": "Python 3",
   "language": "python",
   "name": "python3"
  },
  "language_info": {
   "codemirror_mode": {
    "name": "ipython",
    "version": 3
   },
   "file_extension": ".py",
   "mimetype": "text/x-python",
   "name": "python",
   "nbconvert_exporter": "python",
   "pygments_lexer": "ipython3",
   "version": "3.13.1"
  }
 },
 "nbformat": 4,
 "nbformat_minor": 2
}
