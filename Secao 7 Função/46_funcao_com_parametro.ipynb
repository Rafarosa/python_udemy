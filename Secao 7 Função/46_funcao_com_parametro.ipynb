{
 "cells": [
  {
   "cell_type": "markdown",
   "metadata": {},
   "source": [
    "## Função com Parâmetro (de entrada)"
   ]
  },
  {
   "cell_type": "markdown",
   "metadata": {},
   "source": [
    "São funçoes que recebem dados para serem processados dentro da mesma;\n",
    "\n",
    "Se a gente pensar em um programa qualquer, geralmente temos:\n",
    "\n",
    "entrada -> processamento -> saída\n",
    "\n",
    "Se a gente pensar em uma função, já sabemos que temos funções que:\n",
    "- Não possuem entrada;\n",
    "- Não possuem saída;\n",
    "- Possuem entrada mas não possuem saída;\n",
    "- Não possuem entrada mas possuem saída;\n",
    "- Possuem entrada e saída;"
   ]
  },
  {
   "cell_type": "code",
   "execution_count": 5,
   "metadata": {},
   "outputs": [
    {
     "name": "stdout",
     "output_type": "stream",
     "text": [
      "4\n",
      "49\n",
      "144\n",
      "36\n"
     ]
    }
   ],
   "source": [
    "# refatorando função quadado de 7 para qualquer numero\n",
    "def quadado7():\n",
    "    return 7 * 7\n",
    "\n",
    "def quadado(numero):\n",
    "    return numero ** 2\n",
    "\n",
    "print(quadado(2))\n",
    "print(quadado(7))\n",
    "print(quadado(12))\n",
    "\n",
    "# atribuindo a função a uma variável\n",
    "ret_num = quadado(6)\n",
    "\n",
    "print(ret_num)"
   ]
  },
  {
   "cell_type": "code",
   "execution_count": 6,
   "metadata": {},
   "outputs": [
    {
     "name": "stdout",
     "output_type": "stream",
     "text": [
      "Parabéns pra você\n",
      "Nesta data querida\n",
      "Muitas felicidades\n",
      "Muitos anos de vida\n",
      "Viva Rafael!!\n"
     ]
    }
   ],
   "source": [
    "# refatorando parabéns pra você com informação do aniversariante\n",
    "# função principal\n",
    "def cantar_parabens(aniversariante):\n",
    "    print('Parabéns pra você')\n",
    "    print('Nesta data querida')\n",
    "    print('Muitas felicidades')\n",
    "    print('Muitos anos de vida')\n",
    "    print(f'Viva!!')\n",
    "\n",
    "# nova função \n",
    "def parabens_pra_vc(aniversariante):    \n",
    "    print('Parabéns pra você')\n",
    "    print('Nesta data querida')\n",
    "    print('Muitas felicidades')\n",
    "    print('Muitos anos de vida')\n",
    "    print(f'Viva {aniversariante}!!')\n",
    "\n",
    "parabens_pra_vc('Rafael')"
   ]
  },
  {
   "cell_type": "markdown",
   "metadata": {},
   "source": [
    "### Função com multiplos parâmetros\n",
    "Funções podem ter n parâmetros de entada. Ou seja, podemos receber como entrada\n",
    "em uma função quantos parâmetros forem necessários. Eles são separados por vírgula."
   ]
  },
  {
   "cell_type": "code",
   "execution_count": 1,
   "metadata": {},
   "outputs": [
    {
     "name": "stdout",
     "output_type": "stream",
     "text": [
      "7\n",
      "30\n",
      "8\n",
      "16\n",
      "AeeeeAeeeeAeeeeAeeeeAeeeeAeeeeAeeee\n",
      "RafaelRafaelRafaelRafaelRafaelRafaelRafaelRafaelRafael\n"
     ]
    }
   ],
   "source": [
    "#Exemplo\n",
    "\n",
    "def soma(a,b):\n",
    "    return a + b\n",
    "\n",
    "def multiplica(num1, num2):\n",
    "    return num1 * num2\n",
    "\n",
    "def outra(num1, b, msg:str):\n",
    "    return (num1 + b) * msg\n",
    "\n",
    "print(soma(2, 5))\n",
    "print(soma(10, 20))\n",
    "\n",
    "print(multiplica(4, 2))\n",
    "print(multiplica(2, 8))\n",
    "\n",
    "print(outra(3, 4, 'Aeeee'))\n",
    "print(outra(5, 4, 'Rafael'))"
   ]
  },
  {
   "cell_type": "markdown",
   "metadata": {},
   "source": [
    "OBS: Se a gente informar um número errado de parâmetro ou argumentos, teremos TypeError"
   ]
  },
  {
   "cell_type": "code",
   "execution_count": 2,
   "metadata": {},
   "outputs": [
    {
     "ename": "TypeError",
     "evalue": "soma() takes 2 positional arguments but 3 were given",
     "output_type": "error",
     "traceback": [
      "\u001b[1;31m---------------------------------------------------------------------------\u001b[0m",
      "\u001b[1;31mTypeError\u001b[0m                                 Traceback (most recent call last)",
      "Cell \u001b[1;32mIn[2], line 1\u001b[0m\n\u001b[1;32m----> 1\u001b[0m \u001b[38;5;28mprint\u001b[39m(\u001b[43msoma\u001b[49m\u001b[43m(\u001b[49m\u001b[38;5;241;43m2\u001b[39;49m\u001b[43m,\u001b[49m\u001b[43m \u001b[49m\u001b[38;5;241;43m3\u001b[39;49m\u001b[43m,\u001b[49m\u001b[43m \u001b[49m\u001b[38;5;241;43m4\u001b[39;49m\u001b[43m)\u001b[49m)\n",
      "\u001b[1;31mTypeError\u001b[0m: soma() takes 2 positional arguments but 3 were given"
     ]
    }
   ],
   "source": [
    "print(soma(2, 3, 4))"
   ]
  },
  {
   "cell_type": "markdown",
   "metadata": {},
   "source": [
    "### Nomeando Parâmetros"
   ]
  },
  {
   "cell_type": "code",
   "execution_count": 5,
   "metadata": {},
   "outputs": [],
   "source": [
    "# Utilizando a função a seguir\n",
    "def nome_completo(nome, sobrenome):\n",
    "    return f'Seu nome completo é {nome} {sobrenome}'"
   ]
  },
  {
   "cell_type": "code",
   "execution_count": null,
   "metadata": {},
   "outputs": [],
   "source": [
    "# A diferença entre Parâmetros e Argumentos\n",
    "\n",
    "# Parâmetros são variáveis declaradas na definição de uma função;\n",
    "def nome_da_função(parametros):\n",
    "    pass\n",
    "# Argumentos são dados passados durante a execução de uma função;\n",
    "print(nome_da_função(argumento))"
   ]
  },
  {
   "cell_type": "code",
   "execution_count": 6,
   "metadata": {},
   "outputs": [
    {
     "name": "stdout",
     "output_type": "stream",
     "text": [
      "Seu nome completo é Jones Felicity\n",
      "Seu nome completo é Angelina Jolie\n",
      "Seu nome completo é Felicity Jones\n",
      "Seu nome completo é Marcia Marques\n"
     ]
    }
   ],
   "source": [
    "# A ordem dos parâmetros importa!\n",
    "\n",
    "nome = 'Felicity'\n",
    "sobrenome = 'Jones'\n",
    "\n",
    "print(nome_completo(sobrenome, nome))\n",
    "\n",
    "# Argumentos nomeados (Keyword Arguments)\n",
    "\n",
    "# Caso utilizemos nomes dos parâmetros nos argumentos para informá-los, podemos\n",
    "# utilizar qualquer ordem.\n",
    "\n",
    "print(nome_completo(nome='Angelina', sobrenome='Jolie'))\n",
    "print(nome_completo(nome=nome, sobrenome=sobrenome))\n",
    "print(nome_completo(sobrenome='Marques', nome='Marcia'))"
   ]
  },
  {
   "cell_type": "code",
   "execution_count": 11,
   "metadata": {},
   "outputs": [
    {
     "name": "stdout",
     "output_type": "stream",
     "text": [
      "16\n",
      "16\n"
     ]
    }
   ],
   "source": [
    "def soma_impares(numeros):\n",
    "    total = 0\n",
    "    for num in numeros:\n",
    "        if num % 2 != 0:\n",
    "            total = total + num\n",
    "    return total\n",
    "\n",
    "if __name__ == '__main__':\n",
    "    lista = [1, 2, 3, 4, 5, 6, 7]\n",
    "    print(soma_impares(lista))\n",
    "\n",
    "    tupla = (1, 2, 3, 4, 5, 6, 7)\n",
    "    print(soma_impares(tupla))"
   ]
  }
 ],
 "metadata": {
  "kernelspec": {
   "display_name": "Python 3",
   "language": "python",
   "name": "python3"
  },
  "language_info": {
   "codemirror_mode": {
    "name": "ipython",
    "version": 3
   },
   "file_extension": ".py",
   "mimetype": "text/x-python",
   "name": "python",
   "nbconvert_exporter": "python",
   "pygments_lexer": "ipython3",
   "version": "3.13.1"
  }
 },
 "nbformat": 4,
 "nbformat_minor": 2
}
