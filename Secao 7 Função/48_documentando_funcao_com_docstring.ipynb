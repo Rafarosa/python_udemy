{
 "cells": [
  {
   "cell_type": "markdown",
   "metadata": {},
   "source": [
    "### Documentando funçõs com Docstrings"
   ]
  },
  {
   "cell_type": "markdown",
   "metadata": {},
   "source": [
    "Podemos ter acesso á documentação de uma função em Python\n",
    "utilizando a propriedade especial __doc__\n",
    "\n",
    "Podemos ainda fazer acesso á documentação com a função help()"
   ]
  },
  {
   "cell_type": "code",
   "execution_count": 1,
   "metadata": {},
   "outputs": [],
   "source": [
    "#Exemplo\n",
    "\n",
    "def diz_oi():\n",
    "    \"\"\" Uma Função simples que retorna 'OI!' \"\"\"\n",
    "    return 'Oi!!'"
   ]
  },
  {
   "cell_type": "code",
   "execution_count": null,
   "metadata": {},
   "outputs": [
    {
     "name": "stdout",
     "output_type": "stream",
     "text": [
      "Oi!!\n",
      "___\n",
      "No Python documentation found for 'Oi!!'.\n",
      "Use help() to get the interactive help utility.\n",
      "Use help(str) for help on the str class.\n",
      "\n",
      "None\n",
      "___\n",
      "Uma Função simples que retorna 'OI!' \n"
     ]
    }
   ],
   "source": [
    "# validando dados \n",
    "\n",
    "print(diz_oi())\n",
    "print('___')\n",
    "print(help(diz_oi()))\n",
    "print('___')\n",
    "print(diz_oi.__doc__)"
   ]
  },
  {
   "cell_type": "code",
   "execution_count": 6,
   "metadata": {},
   "outputs": [],
   "source": [
    "def exponencial(numero, potencia=2):\n",
    "    \"\"\"_summary_\n",
    "    Função que retorna por padrão o quadrado de 'numero' ou 'numero' á 'potencia' informada.\n",
    "    \n",
    "    Args:\n",
    "        numero (_type_): Número que desejamos gerar o exponencial.\n",
    "        potencia (int, optional): Potência que queremos gerar o exponencial. Por padrão é 2. Defaults to 2.\n",
    "\n",
    "    Returns:\n",
    "        _type_: Retorna o exponencial de 'numero' por 'potencia'.\n",
    "    \"\"\"\n",
    "    return numero ** potencia"
   ]
  },
  {
   "cell_type": "code",
   "execution_count": 7,
   "metadata": {},
   "outputs": [
    {
     "name": "stdout",
     "output_type": "stream",
     "text": [
      "_summary_\n",
      "Função que retorna por padrão o quadrado de 'numero' ou 'numero' á 'potencia' informada.\n",
      "\n",
      "Args:\n",
      "    numero (_type_): Número que desejamos gerar o exponencial.\n",
      "    potencia (int, optional): Potência que queremos gerar o exponencial. Por padrão é 2. Defaults to 2.\n",
      "\n",
      "Returns:\n",
      "    _type_: Retorna o exponencial de 'numero' por 'potencia'.\n",
      "\n"
     ]
    }
   ],
   "source": [
    "print(exponencial.__doc__)"
   ]
  }
 ],
 "metadata": {
  "kernelspec": {
   "display_name": "Python 3",
   "language": "python",
   "name": "python3"
  },
  "language_info": {
   "codemirror_mode": {
    "name": "ipython",
    "version": 3
   },
   "file_extension": ".py",
   "mimetype": "text/x-python",
   "name": "python",
   "nbconvert_exporter": "python",
   "pygments_lexer": "ipython3",
   "version": "3.13.1"
  }
 },
 "nbformat": 4,
 "nbformat_minor": 2
}
