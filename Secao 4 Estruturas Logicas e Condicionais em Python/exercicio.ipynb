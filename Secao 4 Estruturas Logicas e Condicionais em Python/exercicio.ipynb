{
 "cells": [
  {
   "cell_type": "markdown",
   "metadata": {},
   "source": [
    "### Exercicios Curso"
   ]
  },
  {
   "cell_type": "markdown",
   "metadata": {},
   "source": [
    "1 - Faça um programa que receba dois números e informe qual deles é amaior"
   ]
  },
  {
   "cell_type": "code",
   "execution_count": 1,
   "metadata": {},
   "outputs": [],
   "source": [
    "import math"
   ]
  },
  {
   "cell_type": "code",
   "execution_count": 3,
   "metadata": {},
   "outputs": [
    {
     "name": "stdout",
     "output_type": "stream",
     "text": [
      "6.0 é maior que 1.0\n"
     ]
    }
   ],
   "source": [
    "num_1 = float(input('Informe o primeiro número: '))\n",
    "num_2 = float(input('Informe o segundo número: '))\n",
    "\n",
    "if num_1 > num_2:\n",
    "    print(f'{num_1} é mairo que {num_2}')\n",
    "elif num_1 == num_2:\n",
    "    print('Os números são iguais')\n",
    "else:\n",
    "    print(f'{num_2} é maior que {num_1}')\n"
   ]
  },
  {
   "cell_type": "markdown",
   "metadata": {},
   "source": [
    "2 - Faça um programa que leia um número inteiro fornecido pelo usuário. se esse número for positivo, calcule a raiz quadada do número e aparesente-a. se o número for negativo, mostre uma mensagem dizendo que o número é invalido"
   ]
  },
  {
   "cell_type": "code",
   "execution_count": 4,
   "metadata": {},
   "outputs": [
    {
     "name": "stdout",
     "output_type": "stream",
     "text": [
      "Número é inválido\n"
     ]
    }
   ],
   "source": [
    "num_3 = float(input('Informe um número: '))\n",
    "\n",
    "if num_3 >= 0:\n",
    "    raiz_quadrada = math.sqrt(num_3)\n",
    "    print(f'A raiz quadrada de {num_3} é {raiz_quadrada}')\n",
    "else:\n",
    "    print('Número é inválido')\n"
   ]
  },
  {
   "cell_type": "markdown",
   "metadata": {},
   "source": [
    "3 - Faça um programa que receba um número inteiro e informe se este número é par ou impar"
   ]
  },
  {
   "cell_type": "code",
   "execution_count": 11,
   "metadata": {},
   "outputs": [
    {
     "name": "stdout",
     "output_type": "stream",
     "text": [
      "O número 6 é par\n"
     ]
    }
   ],
   "source": [
    "num_4 = int(input('Informe um número: '))\n",
    "\n",
    "if num_4%2 == 0:\n",
    "    print(f'O número {num_4} é par')\n",
    "else:\n",
    "    print(f'O número {num_4} é impar')"
   ]
  }
 ],
 "metadata": {
  "kernelspec": {
   "display_name": "Python 3",
   "language": "python",
   "name": "python3"
  },
  "language_info": {
   "codemirror_mode": {
    "name": "ipython",
    "version": 3
   },
   "file_extension": ".py",
   "mimetype": "text/x-python",
   "name": "python",
   "nbconvert_exporter": "python",
   "pygments_lexer": "ipython3",
   "version": "3.13.0"
  }
 },
 "nbformat": 4,
 "nbformat_minor": 2
}
