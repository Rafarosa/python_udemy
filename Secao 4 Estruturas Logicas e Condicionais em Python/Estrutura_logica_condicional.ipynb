{
 "cells": [
  {
   "cell_type": "markdown",
   "metadata": {},
   "source": [
    "# Seção 4: Estruturas Lógicas e Condicionais em Python"
   ]
  },
  {
   "cell_type": "markdown",
   "metadata": {},
   "source": [
    "### 19 - IF, ELSE, ELIF"
   ]
  },
  {
   "cell_type": "code",
   "execution_count": 1,
   "metadata": {},
   "outputs": [
    {
     "name": "stdout",
     "output_type": "stream",
     "text": [
      "idade inferior a 18 anos\n"
     ]
    }
   ],
   "source": [
    "idade = 10\n",
    "\n",
    "if idade <18:\n",
    "    print('idade inferior a 18 anos')\n",
    "elif idade == 18:\n",
    "    print('Tem 18 anos')\n",
    "else:\n",
    "    print('Maior de idade')"
   ]
  },
  {
   "cell_type": "markdown",
   "metadata": {},
   "source": [
    "### 20 -  AND, OR, NOT, IS"
   ]
  },
  {
   "cell_type": "markdown",
   "metadata": {},
   "source": [
    "Operadores unários\n",
    " - not, id\n",
    "Operadores binarios\n",
    " - and, or"
   ]
  },
  {
   "cell_type": "code",
   "execution_count": 3,
   "metadata": {},
   "outputs": [
    {
     "name": "stdout",
     "output_type": "stream",
     "text": [
      "Bem vindo usuário!\n"
     ]
    }
   ],
   "source": [
    "# Para AND, ambos precisam ser True\n",
    "ativo = True\n",
    "logado = True\n",
    "\n",
    "if ativo and logado:\n",
    "    print('Bem vindo usuário!')\n",
    "else:\n",
    "    print('Você precisa ativar sua conta, por gentileza, valide seu email!')"
   ]
  },
  {
   "cell_type": "code",
   "execution_count": 7,
   "metadata": {},
   "outputs": [
    {
     "name": "stdout",
     "output_type": "stream",
     "text": [
      "Você precisa ativar sua conta, por gentileza, valide seu email!\n"
     ]
    }
   ],
   "source": [
    "# Valor booleano é invertido\n",
    "ativo = False\n",
    "logado = True\n",
    "\n",
    "if not ativo:\n",
    "    print('Você precisa ativar sua conta, por gentileza, valide seu email!')\n",
    "else:\n",
    "    print('Bem vindo usuário!')"
   ]
  },
  {
   "cell_type": "code",
   "execution_count": 5,
   "metadata": {},
   "outputs": [
    {
     "name": "stdout",
     "output_type": "stream",
     "text": [
      "Você precisa ativar sua conta, por gentileza, valide seu email!\n"
     ]
    }
   ],
   "source": [
    "# Para o OR, um valor precisa ser verdadeiro\n",
    "ativo = False\n",
    "logado = False\n",
    "\n",
    "if ativo or logado:\n",
    "    print('Bem vindo usuário!')\n",
    "else:\n",
    "    print('Você precisa ativar sua conta, por gentileza, valide seu email!')"
   ]
  }
 ],
 "metadata": {
  "kernelspec": {
   "display_name": "Python 3",
   "language": "python",
   "name": "python3"
  },
  "language_info": {
   "codemirror_mode": {
    "name": "ipython",
    "version": 3
   },
   "file_extension": ".py",
   "mimetype": "text/x-python",
   "name": "python",
   "nbconvert_exporter": "python",
   "pygments_lexer": "ipython3",
   "version": "3.13.0"
  }
 },
 "nbformat": 4,
 "nbformat_minor": 2
}
